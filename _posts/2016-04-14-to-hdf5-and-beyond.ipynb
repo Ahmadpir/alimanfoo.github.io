{
 "cells": [
  {
   "cell_type": "markdown",
   "metadata": {},
   "source": [
    "This post contains some notes about 3 Python libraries for working with numerical data too large to fit into main memory: [``h5py``](http://www.h5py.org/), [``bcolz``](http://bcolz.blosc.org/) and [``zarr``](https://github.com/alimanfoo/zarr)."
   ]
  },
  {
   "cell_type": "markdown",
   "metadata": {},
   "source": [
    "## HDF5 (``h5py``)"
   ]
  },
  {
   "cell_type": "markdown",
   "metadata": {},
   "source": [
    "When I first discovered the [HDF5 file format](https://www.hdfgroup.org/HDF5/) a few years ago it was pretty transformative. I'd been struggling to find efficient ways of exploring and analysing data coming from [our research](http://www.malariagen.net/ag1000g) on genetic variation in the mosquitoes that carry malaria. The data are not enormous - typically integer arrays with around 20 billion elements - but they are too large to work with in memory on a typical laptop or desktop machine. The file formats traditionally used for these data are very slow to parse, so I went looking for an alternative.\n",
    "\n",
    "HDF5 files provide a great solution for storing multi-dimensional arrays of numerical data. The arrays are divided up into chunks and each chunk is compressed, enabling data to be stored efficiently in memory or on disk. Depending on how the chunks are configured, usually a good compromise can be achieved that means data can be read very quickly even when using different access patterns, e.g., taking horizontal or vertical slices of a matrix. Also, the [``h5py``](http://www.h5py.org/) Python library provides a very convenient API for working with HDF5 files. I found there was a whole range of analyses I could happily get done on my laptop on the train home from work."
   ]
  },
  {
   "cell_type": "markdown",
   "metadata": {},
   "source": [
    "## ``bcolz.carray``"
   ]
  },
  {
   "cell_type": "markdown",
   "metadata": {},
   "source": [
    "A bit later on I discovered the [``bcolz``](http://bcolz.blosc.org/) library. ``bcolz`` is primarily intended for storing and querying large tables of data, but it does provide a [``carray``](http://bcolz.blosc.org/reference.html#the-carray-class) class that is roughly analogous to an HDF5 dataset in that it can store numerical arrays in a chunked, compressed form, either in memory or on disk. \n",
    "\n",
    "Reading and writing data to a ``carray`` is typically a lot faster than HDF5. For example:"
   ]
  },
  {
   "cell_type": "code",
   "execution_count": 1,
   "metadata": {
    "collapsed": false
   },
   "outputs": [],
   "source": [
    "import numpy as np\n",
    "import h5py\n",
    "import bcolz\n",
    "import tempfile\n",
    "\n",
    "\n",
    "def h5fmem(**kwargs):\n",
    "    \"\"\"Convenience function to create an in-memory HDF5 file.\"\"\"\n",
    "\n",
    "    # need a file name even tho nothing is ever written\n",
    "    fn = tempfile.mktemp()\n",
    "\n",
    "    # file creation args\n",
    "    kwargs['mode'] = 'w'\n",
    "    kwargs['driver'] = 'core'\n",
    "    kwargs['backing_store'] = False\n",
    "\n",
    "    # open HDF5 file\n",
    "    h5f = h5py.File(fn, **kwargs)\n",
    "\n",
    "    return h5f"
   ]
  },
  {
   "cell_type": "markdown",
   "metadata": {},
   "source": [
    "Setup a simple array of integer data to store."
   ]
  },
  {
   "cell_type": "code",
   "execution_count": 2,
   "metadata": {
    "collapsed": false
   },
   "outputs": [
    {
     "data": {
      "text/plain": [
       "array([       0,        1,        2, ..., 99999997, 99999998, 99999999], dtype=int32)"
      ]
     },
     "execution_count": 2,
     "metadata": {},
     "output_type": "execute_result"
    }
   ],
   "source": [
    "a1 = np.arange(1e8, dtype='i4')\n",
    "a1"
   ]
  },
  {
   "cell_type": "markdown",
   "metadata": {},
   "source": [
    "Time how long it takes to store in an HDF5 dataset."
   ]
  },
  {
   "cell_type": "code",
   "execution_count": 3,
   "metadata": {
    "collapsed": false
   },
   "outputs": [
    {
     "name": "stdout",
     "output_type": "stream",
     "text": [
      "1 loop, best of 3: 1.41 s per loop\n"
     ]
    }
   ],
   "source": [
    "%timeit h5fmem().create_dataset('arange', data=a1, chunks=(2**18,), compression='gzip', compression_opts=1, shuffle=True)"
   ]
  },
  {
   "cell_type": "markdown",
   "metadata": {},
   "source": [
    "Time how long it takes to store in a ``carray``."
   ]
  },
  {
   "cell_type": "code",
   "execution_count": 4,
   "metadata": {
    "collapsed": false
   },
   "outputs": [
    {
     "name": "stdout",
     "output_type": "stream",
     "text": [
      "10 loops, best of 3: 95.6 ms per loop\n"
     ]
    }
   ],
   "source": [
    "%timeit bcolz.carray(a1, chunklen=2**18, cparams=bcolz.cparams(cname='lz4', clevel=5, shuffle=1))"
   ]
  },
  {
   "cell_type": "markdown",
   "metadata": {},
   "source": [
    "In the example above, ``bcolz`` is more than 10 times faster at storing (compressing) the data than HDF5. As I understand it, this performance gain comes from several factors. ``bcolz`` uses a C library called [``blosc``](https://github.com/blosc/c-blosc) internally to perform compression and decompression operations. ``blosc`` can use multiple threads, so some of the work is done in parallel. ``blosc`` also splits data up in a way that is designed to work well with the CPU cache architecture. Finally, ``blosc`` is a meta-compressor and several different compression libraries can be used - above I used the ``lz4`` compressor, which does not achieve quite the same compression ratios as ``gzip`` (``zlib``) but is much faster with numerical data."
   ]
  },
  {
   "cell_type": "markdown",
   "metadata": {},
   "source": [
    "## ``zarr``"
   ]
  },
  {
   "cell_type": "markdown",
   "metadata": {},
   "source": [
    "Speed really makes a difference when working interactively with data, so I started using the ``carray`` class where possible in my analyses, especially for storing intermediate data. However, it does have some limitations. A ``carray`` can be multidimensional, but because ``bcolz`` is not really designed for multi-dimensional data, a ``carray`` can only be chunked along the first dimension. This means taking slices of the first dimension is efficient, but slicing any other dimension will be very inefficient, because the entire array will need to be read and decompressed to access even a single column of a matrix."
   ]
  },
  {
   "cell_type": "markdown",
   "metadata": {},
   "source": [
    "To explore better ways of working with large multi-dimensional data, I recently created a new library called [``zarr``](https://github.com/alimanfoo/zarr). ``zarr`` borrows code heavily from ``bcolz``, and in particular it also uses ``blosc`` internally to handle all compression and decompression operations. However, ``zarr`` supports chunking of arrays along multiple dimensions, enabling good performance for multiple data access patterns. For example:"
   ]
  },
  {
   "cell_type": "code",
   "execution_count": 5,
   "metadata": {
    "collapsed": true
   },
   "outputs": [],
   "source": [
    "import zarr"
   ]
  },
  {
   "cell_type": "markdown",
   "metadata": {},
   "source": [
    "Setup a 2-dimensional array of integer data."
   ]
  },
  {
   "cell_type": "code",
   "execution_count": 6,
   "metadata": {
    "collapsed": false
   },
   "outputs": [],
   "source": [
    "a2 = np.arange(1e8, dtype='i4').reshape(10000, 10000)"
   ]
  },
  {
   "cell_type": "markdown",
   "metadata": {},
   "source": [
    "Store the data in a ``carray``."
   ]
  },
  {
   "cell_type": "code",
   "execution_count": 7,
   "metadata": {
    "collapsed": false
   },
   "outputs": [
    {
     "data": {
      "text/plain": [
       "carray((10000, 10000), int32)\n",
       "  nbytes: 381.47 MB; cbytes: 10.63 MB; ratio: 35.87\n",
       "  cparams := cparams(clevel=5, shuffle=1, cname='blosclz')\n",
       "[[       0        1        2 ...,     9997     9998     9999]\n",
       " [   10000    10001    10002 ...,    19997    19998    19999]\n",
       " [   20000    20001    20002 ...,    29997    29998    29999]\n",
       " ..., \n",
       " [99970000 99970001 99970002 ..., 99979997 99979998 99979999]\n",
       " [99980000 99980001 99980002 ..., 99989997 99989998 99989999]\n",
       " [99990000 99990001 99990002 ..., 99999997 99999998 99999999]]"
      ]
     },
     "execution_count": 7,
     "metadata": {},
     "output_type": "execute_result"
    }
   ],
   "source": [
    "c2 = bcolz.carray(a2, chunklen=100)\n",
    "c2"
   ]
  },
  {
   "cell_type": "markdown",
   "metadata": {},
   "source": [
    "Store the data in a ``zarr`` array."
   ]
  },
  {
   "cell_type": "code",
   "execution_count": 8,
   "metadata": {
    "collapsed": false
   },
   "outputs": [
    {
     "data": {
      "text/plain": [
       "zarr.ext.SynchronizedArray((10000, 10000), int32, chunks=(1000, 1000))\n",
       "  cname: blosclz; clevel: 5; shuffle: 1 (BYTESHUFFLE)\n",
       "  nbytes: 381.5M; cbytes: 10.0M; ratio: 38.0; initialized: 100/100"
      ]
     },
     "execution_count": 8,
     "metadata": {},
     "output_type": "execute_result"
    }
   ],
   "source": [
    "z = zarr.array(a2, chunks=(1000, 1000))\n",
    "z"
   ]
  },
  {
   "cell_type": "markdown",
   "metadata": {},
   "source": [
    "Time how long it takes to access a slice along the first dimension."
   ]
  },
  {
   "cell_type": "code",
   "execution_count": 9,
   "metadata": {
    "collapsed": false
   },
   "outputs": [
    {
     "name": "stdout",
     "output_type": "stream",
     "text": [
      "10 loops, best of 3: 22.1 ms per loop\n"
     ]
    }
   ],
   "source": [
    "%timeit c2[:1000]"
   ]
  },
  {
   "cell_type": "code",
   "execution_count": 10,
   "metadata": {
    "collapsed": false
   },
   "outputs": [
    {
     "name": "stdout",
     "output_type": "stream",
     "text": [
      "10 loops, best of 3: 39.3 ms per loop\n"
     ]
    }
   ],
   "source": [
    "%timeit z[:1000]"
   ]
  },
  {
   "cell_type": "markdown",
   "metadata": {},
   "source": [
    "Time how long it takes to access a slice along the second dimension."
   ]
  },
  {
   "cell_type": "code",
   "execution_count": 11,
   "metadata": {
    "collapsed": false
   },
   "outputs": [
    {
     "name": "stdout",
     "output_type": "stream",
     "text": [
      "1 loop, best of 3: 250 ms per loop\n"
     ]
    }
   ],
   "source": [
    "%timeit c2[:, :1000]"
   ]
  },
  {
   "cell_type": "code",
   "execution_count": 12,
   "metadata": {
    "collapsed": false
   },
   "outputs": [
    {
     "name": "stdout",
     "output_type": "stream",
     "text": [
      "10 loops, best of 3: 22.5 ms per loop\n"
     ]
    }
   ],
   "source": [
    "%timeit z[:, :1000]"
   ]
  },
  {
   "cell_type": "markdown",
   "metadata": {},
   "source": [
    "By using ``zarr`` and chunking along both dimensions of the array, we have forfeited a small amount of speed when slicing the first dimension to gain a lot of speed when accessing the second dimension.\n",
    "\n",
    "Like ``h5py`` and ``bcolz``, ``zarr`` can store data either in memory or on disk. However, ``zarr`` has some unique features too. For example, multi-dimensional arrays can be resized along any dimension, allowing an array to be grown by appending new data in a flexible way. Also, ``zarr`` arrays can be used in parallel computations, supporting concurrent reads and writes in either a multi-threaded or multi-process context. That is something I am just beginning to explore, and hope to follow up in a separate post.\n",
    "\n",
    "``zarr`` is still in an experimental phase, but if you do try it out, any feedback is very welcome."
   ]
  },
  {
   "cell_type": "markdown",
   "metadata": {},
   "source": [
    "## Further reading"
   ]
  },
  {
   "cell_type": "markdown",
   "metadata": {},
   "source": [
    "* [HDF5](https://www.hdfgroup.org/HDF5/)\n",
    "* [h5py](http://www.h5py.org/)\n",
    "* [bcolz](http://bcolz.blosc.org/)\n",
    "* [blosc](http://blosc.org/)\n",
    "* [zarr](https://github.com/alimanfoo/zarr)"
   ]
  }
 ],
 "metadata": {
  "kernelspec": {
   "display_name": "Python 3",
   "language": "python",
   "name": "python3"
  },
  "language_info": {
   "codemirror_mode": {
    "name": "ipython",
    "version": 3
   },
   "file_extension": ".py",
   "mimetype": "text/x-python",
   "name": "python",
   "nbconvert_exporter": "python",
   "pygments_lexer": "ipython3",
   "version": "3.5.0+"
  }
 },
 "nbformat": 4,
 "nbformat_minor": 0
}
