{
 "cells": [
  {
   "cell_type": "markdown",
   "metadata": {},
   "source": [
    "In phase 1 of the [Ag1000G project](http://www.malariagen.net/ag1000g) we have whole genome sequence data for mosquitoes from 9 African countries. As part of our analysis of population structure, I recently needed to calculate average F<sub>ST</sub> between each pair of populations. I also needed to calculate F<sub>ST</sub> in windows over the genome, to look for genome regions that are particularly differentiated between certain populations."
   ]
  },
  {
   "cell_type": "markdown",
   "metadata": {},
   "source": [
    "F<sub>ST</sub> is a statistic which seems simple at first yet quickly becomes very technical when you start reading the literature. I asked around my lab for advice and [George](http://www.well.ox.ac.uk/george-busby) pointed me to [Bhatia et al. (2013)](http://www.pubmedcentral.nih.gov/articlerender.fcgi?artid=3759727&tool=pmcentrez&rendertype=abstract) which provides some clear advice on how to estimate F<sub>ST</sub>. However, Bhatia et al. were working with relatively well-studied human populations, and mosquito population genetics can get pretty extreme by comparison, so I didn't want to take anything for granted."
   ]
  },
  {
   "cell_type": "markdown",
   "metadata": {},
   "source": [
    "To help explore the impact of different F<sub>ST</sub> estimators and SNP ascertainment schemes, I implemented both the Weir and Cockerham estimator and the Hudson estimator in  [`scikit-allel`](http://scikit-allel.readthedocs.org/en/latest/stats/fst.html). This post gives some examples of using these functions with large scale SNP data, and some practical experiences from applying them to mosquito populations."
   ]
  },
  {
   "cell_type": "markdown",
   "metadata": {},
   "source": [
    "## Setup"
   ]
  },
  {
   "cell_type": "code",
   "execution_count": 2,
   "metadata": {
    "collapsed": false
   },
   "outputs": [
    {
     "name": "stdout",
     "output_type": "stream",
     "text": [
      "scikit-allel 0.20.1\n"
     ]
    }
   ],
   "source": [
    "import numpy as np\n",
    "import h5py\n",
    "import matplotlib.pyplot as plt\n",
    "%matplotlib inline\n",
    "import seaborn as sns\n",
    "sns.set_style('white')\n",
    "sns.set_style('ticks')\n",
    "import bcolz\n",
    "import pandas\n",
    "import allel; print('scikit-allel', allel.__version__)\n",
    "import time\n",
    "time_before = time.time()"
   ]
  },
  {
   "cell_type": "markdown",
   "metadata": {},
   "source": [
    "I have a copy of the [Ag1000G phase 1 AR3 data release](http://www.malariagen.net/data/ag1000g-phase1-ar3) on a local drive. The SNP genotype data is available in an HDF5 file."
   ]
  },
  {
   "cell_type": "code",
   "execution_count": 3,
   "metadata": {
    "collapsed": false
   },
   "outputs": [
    {
     "data": {
      "text/plain": [
       "<HDF5 file \"ag1000g.phase1.ar3.pass.h5\" (mode r)>"
      ]
     },
     "execution_count": 3,
     "metadata": {},
     "output_type": "execute_result"
    }
   ],
   "source": [
    "callset_fn = '/data/coluzzi/ag1000g/data/phase1/release/AR3/variation/main/hdf5/ag1000g.phase1.ar3.pass.h5'\n",
    "callset = h5py.File(callset_fn, mode='r')\n",
    "callset"
   ]
  },
  {
   "cell_type": "markdown",
   "metadata": {},
   "source": [
    "Let's work with chromosome arm 3L."
   ]
  },
  {
   "cell_type": "code",
   "execution_count": 4,
   "metadata": {
    "collapsed": false
   },
   "outputs": [
    {
     "data": {
      "text/plain": [
       "SortedIndex((9643193,), dtype=int32)\n",
       "[    9790     9798     9812 ..., 41956541 41956551 41956556]"
      ]
     },
     "execution_count": 4,
     "metadata": {},
     "output_type": "execute_result"
    }
   ],
   "source": [
    "chrom = '3L'\n",
    "# load all variant positions\n",
    "pos_all = allel.SortedIndex(callset[chrom]['variants']['POS'])\n",
    "pos_all"
   ]
  },
  {
   "cell_type": "markdown",
   "metadata": {},
   "source": [
    "There are 9,643,193 SNPs on this chromosome, genotyped in 765 individuals, so this is a relatively big dataset, too big to work with in memory uncompressed. With version 0.19.0 of scikit-allel or later we can run computations directly against the data on disk, and so avoid loading data into memory."
   ]
  },
  {
   "cell_type": "code",
   "execution_count": 5,
   "metadata": {
    "collapsed": false
   },
   "outputs": [
    {
     "data": {
      "text/html": [
       "<table class='petl'>\n",
       "<caption>GenotypeChunkedArray((9643193, 765, 2), int8, nbytes=13.7G, cbytes=548.0M, cratio=25.7, cname=gzip, clevel=3, shuffle=False, chunks=(6553, 10, 2), data=h5py._hl.dataset.Dataset)</caption>\n",
       "<thead>\n",
       "<tr>\n",
       "<th></th>\n",
       "<th>0</th>\n",
       "<th>1</th>\n",
       "<th>2</th>\n",
       "<th>3</th>\n",
       "<th>4</th>\n",
       "<th>...</th>\n",
       "<th>760</th>\n",
       "<th>761</th>\n",
       "<th>762</th>\n",
       "<th>763</th>\n",
       "<th>764</th>\n",
       "</tr>\n",
       "</thead>\n",
       "<tbody>\n",
       "<tr>\n",
       "<td style='font-weight: bold'>0</td>\n",
       "<td>0/0</td>\n",
       "<td>0/0</td>\n",
       "<td>0/0</td>\n",
       "<td>0/0</td>\n",
       "<td>0/0</td>\n",
       "<td>...</td>\n",
       "<td>0/0</td>\n",
       "<td>0/0</td>\n",
       "<td>0/0</td>\n",
       "<td>0/0</td>\n",
       "<td>0/0</td>\n",
       "</tr>\n",
       "<tr>\n",
       "<td style='font-weight: bold'>1</td>\n",
       "<td>0/0</td>\n",
       "<td>0/0</td>\n",
       "<td>0/0</td>\n",
       "<td>0/0</td>\n",
       "<td>0/0</td>\n",
       "<td>...</td>\n",
       "<td>0/0</td>\n",
       "<td>0/0</td>\n",
       "<td>0/0</td>\n",
       "<td>0/0</td>\n",
       "<td>0/0</td>\n",
       "</tr>\n",
       "<tr>\n",
       "<td style='font-weight: bold'>2</td>\n",
       "<td>0/0</td>\n",
       "<td>0/0</td>\n",
       "<td>0/0</td>\n",
       "<td>0/0</td>\n",
       "<td>0/0</td>\n",
       "<td>...</td>\n",
       "<td>0/0</td>\n",
       "<td>0/0</td>\n",
       "<td>0/0</td>\n",
       "<td>0/0</td>\n",
       "<td>0/0</td>\n",
       "</tr>\n",
       "<tr>\n",
       "<td style='font-weight: bold'>3</td>\n",
       "<td>0/0</td>\n",
       "<td>0/0</td>\n",
       "<td>0/0</td>\n",
       "<td>0/0</td>\n",
       "<td>0/0</td>\n",
       "<td>...</td>\n",
       "<td>0/0</td>\n",
       "<td>0/0</td>\n",
       "<td>0/0</td>\n",
       "<td>0/0</td>\n",
       "<td>0/0</td>\n",
       "</tr>\n",
       "<tr>\n",
       "<td style='font-weight: bold'>4</td>\n",
       "<td>0/0</td>\n",
       "<td>0/0</td>\n",
       "<td>0/0</td>\n",
       "<td>0/0</td>\n",
       "<td>0/0</td>\n",
       "<td>...</td>\n",
       "<td>0/0</td>\n",
       "<td>0/0</td>\n",
       "<td>0/0</td>\n",
       "<td>0/0</td>\n",
       "<td>0/0</td>\n",
       "</tr>\n",
       "</tbody>\n",
       "</table>\n",
       "<p><strong>...</strong></p>"
      ],
      "text/plain": [
       "GenotypeChunkedArray((9643193, 765, 2), int8, nbytes=13.7G, cbytes=548.0M, cratio=25.7, cname=gzip, clevel=3, shuffle=False, chunks=(6553, 10, 2), data=h5py._hl.dataset.Dataset)"
      ]
     },
     "execution_count": 5,
     "metadata": {},
     "output_type": "execute_result"
    }
   ],
   "source": [
    "genotype_all = allel.GenotypeChunkedArray(callset[chrom]['calldata']['genotype'])\n",
    "genotype_all"
   ]
  },
  {
   "cell_type": "markdown",
   "metadata": {},
   "source": [
    "This array would be 13.7G uncompressed, but genotype data compresses very well, so the actual size on disk is only 548M."
   ]
  },
  {
   "cell_type": "markdown",
   "metadata": {},
   "source": [
    "There is also a table of sample metadata which we'll need because it tells us which mosquito comes from which population."
   ]
  },
  {
   "cell_type": "code",
   "execution_count": 6,
   "metadata": {
    "collapsed": false
   },
   "outputs": [
    {
     "data": {
      "text/html": [
       "<div>\n",
       "<table border=\"1\" class=\"dataframe\">\n",
       "  <thead>\n",
       "    <tr style=\"text-align: right;\">\n",
       "      <th></th>\n",
       "      <th>ox_code</th>\n",
       "      <th>src_code</th>\n",
       "      <th>sra_sample_accession</th>\n",
       "      <th>population</th>\n",
       "      <th>country</th>\n",
       "      <th>region</th>\n",
       "      <th>contributor</th>\n",
       "      <th>contact</th>\n",
       "      <th>year</th>\n",
       "      <th>m_s</th>\n",
       "      <th>sex</th>\n",
       "      <th>n_sequences</th>\n",
       "      <th>mean_coverage</th>\n",
       "      <th>latitude</th>\n",
       "      <th>longitude</th>\n",
       "    </tr>\n",
       "    <tr>\n",
       "      <th>index</th>\n",
       "      <th></th>\n",
       "      <th></th>\n",
       "      <th></th>\n",
       "      <th></th>\n",
       "      <th></th>\n",
       "      <th></th>\n",
       "      <th></th>\n",
       "      <th></th>\n",
       "      <th></th>\n",
       "      <th></th>\n",
       "      <th></th>\n",
       "      <th></th>\n",
       "      <th></th>\n",
       "      <th></th>\n",
       "      <th></th>\n",
       "    </tr>\n",
       "  </thead>\n",
       "  <tbody>\n",
       "    <tr>\n",
       "      <th>0</th>\n",
       "      <td>AB0085-C</td>\n",
       "      <td>BF2-4</td>\n",
       "      <td>ERS223996</td>\n",
       "      <td>BFS</td>\n",
       "      <td>Burkina Faso</td>\n",
       "      <td>Pala</td>\n",
       "      <td>Austin Burt</td>\n",
       "      <td>Sam O'Loughlin</td>\n",
       "      <td>2012</td>\n",
       "      <td>S</td>\n",
       "      <td>F</td>\n",
       "      <td>89905852</td>\n",
       "      <td>28.01</td>\n",
       "      <td>11.150</td>\n",
       "      <td>-4.235</td>\n",
       "    </tr>\n",
       "    <tr>\n",
       "      <th>1</th>\n",
       "      <td>AB0087-C</td>\n",
       "      <td>BF3-3</td>\n",
       "      <td>ERS224013</td>\n",
       "      <td>BFM</td>\n",
       "      <td>Burkina Faso</td>\n",
       "      <td>Bana</td>\n",
       "      <td>Austin Burt</td>\n",
       "      <td>Sam O'Loughlin</td>\n",
       "      <td>2012</td>\n",
       "      <td>M</td>\n",
       "      <td>F</td>\n",
       "      <td>116706234</td>\n",
       "      <td>36.76</td>\n",
       "      <td>11.233</td>\n",
       "      <td>-4.472</td>\n",
       "    </tr>\n",
       "    <tr>\n",
       "      <th>2</th>\n",
       "      <td>AB0088-C</td>\n",
       "      <td>BF3-5</td>\n",
       "      <td>ERS223991</td>\n",
       "      <td>BFM</td>\n",
       "      <td>Burkina Faso</td>\n",
       "      <td>Bana</td>\n",
       "      <td>Austin Burt</td>\n",
       "      <td>Sam O'Loughlin</td>\n",
       "      <td>2012</td>\n",
       "      <td>M</td>\n",
       "      <td>F</td>\n",
       "      <td>112090460</td>\n",
       "      <td>23.30</td>\n",
       "      <td>11.233</td>\n",
       "      <td>-4.472</td>\n",
       "    </tr>\n",
       "    <tr>\n",
       "      <th>3</th>\n",
       "      <td>AB0089-C</td>\n",
       "      <td>BF3-8</td>\n",
       "      <td>ERS224031</td>\n",
       "      <td>BFM</td>\n",
       "      <td>Burkina Faso</td>\n",
       "      <td>Bana</td>\n",
       "      <td>Austin Burt</td>\n",
       "      <td>Sam O'Loughlin</td>\n",
       "      <td>2012</td>\n",
       "      <td>M</td>\n",
       "      <td>F</td>\n",
       "      <td>145350454</td>\n",
       "      <td>41.36</td>\n",
       "      <td>11.233</td>\n",
       "      <td>-4.472</td>\n",
       "    </tr>\n",
       "    <tr>\n",
       "      <th>4</th>\n",
       "      <td>AB0090-C</td>\n",
       "      <td>BF3-10</td>\n",
       "      <td>ERS223936</td>\n",
       "      <td>BFM</td>\n",
       "      <td>Burkina Faso</td>\n",
       "      <td>Bana</td>\n",
       "      <td>Austin Burt</td>\n",
       "      <td>Sam O'Loughlin</td>\n",
       "      <td>2012</td>\n",
       "      <td>M</td>\n",
       "      <td>F</td>\n",
       "      <td>105012254</td>\n",
       "      <td>34.64</td>\n",
       "      <td>11.233</td>\n",
       "      <td>-4.472</td>\n",
       "    </tr>\n",
       "  </tbody>\n",
       "</table>\n",
       "</div>"
      ],
      "text/plain": [
       "        ox_code src_code sra_sample_accession population       country region  \\\n",
       "index                                                                           \n",
       "0      AB0085-C    BF2-4            ERS223996        BFS  Burkina Faso   Pala   \n",
       "1      AB0087-C    BF3-3            ERS224013        BFM  Burkina Faso   Bana   \n",
       "2      AB0088-C    BF3-5            ERS223991        BFM  Burkina Faso   Bana   \n",
       "3      AB0089-C    BF3-8            ERS224031        BFM  Burkina Faso   Bana   \n",
       "4      AB0090-C   BF3-10            ERS223936        BFM  Burkina Faso   Bana   \n",
       "\n",
       "       contributor         contact  year m_s sex  n_sequences  mean_coverage  \\\n",
       "index                                                                          \n",
       "0      Austin Burt  Sam O'Loughlin  2012   S   F     89905852          28.01   \n",
       "1      Austin Burt  Sam O'Loughlin  2012   M   F    116706234          36.76   \n",
       "2      Austin Burt  Sam O'Loughlin  2012   M   F    112090460          23.30   \n",
       "3      Austin Burt  Sam O'Loughlin  2012   M   F    145350454          41.36   \n",
       "4      Austin Burt  Sam O'Loughlin  2012   M   F    105012254          34.64   \n",
       "\n",
       "       latitude  longitude  \n",
       "index                       \n",
       "0        11.150     -4.235  \n",
       "1        11.233     -4.472  \n",
       "2        11.233     -4.472  \n",
       "3        11.233     -4.472  \n",
       "4        11.233     -4.472  "
      ]
     },
     "execution_count": 6,
     "metadata": {},
     "output_type": "execute_result"
    }
   ],
   "source": [
    "df_samples = pandas.read_csv('/data/coluzzi/ag1000g/data/phase1/release/AR3/samples/samples.meta.txt',\n",
    "                             sep='\\t', index_col='index')\n",
    "df_samples.head()"
   ]
  },
  {
   "cell_type": "markdown",
   "metadata": {},
   "source": [
    "The 'index' column in this table corresponds to the order of columns in the genotype array."
   ]
  },
  {
   "cell_type": "markdown",
   "metadata": {},
   "source": [
    "Let's pick two populations to work with."
   ]
  },
  {
   "cell_type": "code",
   "execution_count": 7,
   "metadata": {
    "collapsed": false
   },
   "outputs": [
    {
     "name": "stdout",
     "output_type": "stream",
     "text": [
      "BFM 69 AOM 60\n"
     ]
    }
   ],
   "source": [
    "pop1 = 'BFM'\n",
    "pop2 = 'AOM'\n",
    "n_samples_pop1 = np.count_nonzero(df_samples.population == pop1)\n",
    "n_samples_pop2 = np.count_nonzero(df_samples.population == pop2)\n",
    "print(pop1, n_samples_pop1, pop2, n_samples_pop2)"
   ]
  },
  {
   "cell_type": "markdown",
   "metadata": {},
   "source": [
    "I've chosen BFM (*Anopheles coluzzii* from Burkina Faso) and AOM (*Anopheles coluzzii* from Angola) because F<sub>ST</sub> is reasonably high between these two populations."
   ]
  },
  {
   "cell_type": "markdown",
   "metadata": {},
   "source": [
    "Now compute allele counts in each population. This takes a minute or so."
   ]
  },
  {
   "cell_type": "code",
   "execution_count": 8,
   "metadata": {
    "collapsed": false
   },
   "outputs": [
    {
     "data": {
      "text/html": [
       "<table class='petl'>\n",
       "<caption>AlleleCountsChunkedTable(9643193, nbytes=294.3M, cbytes=24.0M, cratio=12.3, data=bcolz.ctable.ctable)</caption>\n",
       "<thead>\n",
       "<tr>\n",
       "<th>BFM</th>\n",
       "<th>AOM</th>\n",
       "</tr>\n",
       "</thead>\n",
       "<tbody>\n",
       "<tr>\n",
       "<td>[138   0   0   0]</td>\n",
       "<td>[120   0   0   0]</td>\n",
       "</tr>\n",
       "<tr>\n",
       "<td>[138   0   0   0]</td>\n",
       "<td>[120   0   0   0]</td>\n",
       "</tr>\n",
       "<tr>\n",
       "<td>[138   0   0   0]</td>\n",
       "<td>[120   0   0   0]</td>\n",
       "</tr>\n",
       "<tr>\n",
       "<td>[137   1   0   0]</td>\n",
       "<td>[120   0   0   0]</td>\n",
       "</tr>\n",
       "<tr>\n",
       "<td>[135   3   0   0]</td>\n",
       "<td>[120   0   0   0]</td>\n",
       "</tr>\n",
       "</tbody>\n",
       "</table>\n",
       "<p><strong>...</strong></p>"
      ],
      "text/plain": [
       "AlleleCountsChunkedTable(9643193, nbytes=294.3M, cbytes=24.0M, cratio=12.3, data=bcolz.ctable.ctable)"
      ]
     },
     "execution_count": 8,
     "metadata": {},
     "output_type": "execute_result"
    }
   ],
   "source": [
    "# dictionary mapping population names to sample indices\n",
    "subpops = {\n",
    "    pop1: df_samples[df_samples.population == pop1].index,\n",
    "    pop2: df_samples[df_samples.population == pop2].index,\n",
    "}\n",
    "# allele counts\n",
    "acs = genotype_all.count_alleles_subpops(subpops)\n",
    "acs"
   ]
  },
  {
   "cell_type": "markdown",
   "metadata": {},
   "source": [
    "Finally, we can filter out variants that aren't segregating in the union of our two populations. Let's also filter out multiallelic variants for simplicity."
   ]
  },
  {
   "cell_type": "code",
   "execution_count": 9,
   "metadata": {
    "collapsed": false
   },
   "outputs": [
    {
     "name": "stdout",
     "output_type": "stream",
     "text": [
      "retaining 3177369 SNPs\n"
     ]
    }
   ],
   "source": [
    "acu = allel.AlleleCountsArray(acs[pop1][:] + acs[pop2][:])\n",
    "flt = acu.is_segregating() & (acu.max_allele() == 1)\n",
    "print('retaining', np.count_nonzero(flt), 'SNPs')"
   ]
  },
  {
   "cell_type": "code",
   "execution_count": 10,
   "metadata": {
    "collapsed": false
   },
   "outputs": [
    {
     "data": {
      "text/html": [
       "<table class='petl'>\n",
       "<caption>GenotypeChunkedArray((3177369, 765, 2), int8, nbytes=4.5G, cbytes=373.7M, cratio=12.4, cname=blosclz, clevel=5, shuffle=True, chunks=(1370, 765, 2), data=bcolz.carray_ext.carray)</caption>\n",
       "<thead>\n",
       "<tr>\n",
       "<th></th>\n",
       "<th>0</th>\n",
       "<th>1</th>\n",
       "<th>2</th>\n",
       "<th>3</th>\n",
       "<th>4</th>\n",
       "<th>...</th>\n",
       "<th>760</th>\n",
       "<th>761</th>\n",
       "<th>762</th>\n",
       "<th>763</th>\n",
       "<th>764</th>\n",
       "</tr>\n",
       "</thead>\n",
       "<tbody>\n",
       "<tr>\n",
       "<td style='font-weight: bold'>0</td>\n",
       "<td>0/0</td>\n",
       "<td>0/0</td>\n",
       "<td>0/0</td>\n",
       "<td>0/0</td>\n",
       "<td>0/0</td>\n",
       "<td>...</td>\n",
       "<td>0/0</td>\n",
       "<td>0/0</td>\n",
       "<td>0/0</td>\n",
       "<td>0/0</td>\n",
       "<td>0/0</td>\n",
       "</tr>\n",
       "<tr>\n",
       "<td style='font-weight: bold'>1</td>\n",
       "<td>0/0</td>\n",
       "<td>0/0</td>\n",
       "<td>0/0</td>\n",
       "<td>0/0</td>\n",
       "<td>0/0</td>\n",
       "<td>...</td>\n",
       "<td>0/0</td>\n",
       "<td>0/0</td>\n",
       "<td>0/0</td>\n",
       "<td>0/0</td>\n",
       "<td>0/0</td>\n",
       "</tr>\n",
       "<tr>\n",
       "<td style='font-weight: bold'>2</td>\n",
       "<td>0/0</td>\n",
       "<td>0/0</td>\n",
       "<td>0/0</td>\n",
       "<td>0/0</td>\n",
       "<td>0/0</td>\n",
       "<td>...</td>\n",
       "<td>0/0</td>\n",
       "<td>0/0</td>\n",
       "<td>0/0</td>\n",
       "<td>0/0</td>\n",
       "<td>0/0</td>\n",
       "</tr>\n",
       "<tr>\n",
       "<td style='font-weight: bold'>3</td>\n",
       "<td>0/0</td>\n",
       "<td>0/1</td>\n",
       "<td>0/0</td>\n",
       "<td>0/0</td>\n",
       "<td>0/0</td>\n",
       "<td>...</td>\n",
       "<td>0/0</td>\n",
       "<td>0/0</td>\n",
       "<td>0/0</td>\n",
       "<td>0/0</td>\n",
       "<td>0/0</td>\n",
       "</tr>\n",
       "<tr>\n",
       "<td style='font-weight: bold'>4</td>\n",
       "<td>0/0</td>\n",
       "<td>0/0</td>\n",
       "<td>0/0</td>\n",
       "<td>0/0</td>\n",
       "<td>0/0</td>\n",
       "<td>...</td>\n",
       "<td>0/0</td>\n",
       "<td>0/0</td>\n",
       "<td>0/0</td>\n",
       "<td>0/0</td>\n",
       "<td>0/0</td>\n",
       "</tr>\n",
       "</tbody>\n",
       "</table>\n",
       "<p><strong>...</strong></p>"
      ],
      "text/plain": [
       "GenotypeChunkedArray((3177369, 765, 2), int8, nbytes=4.5G, cbytes=373.7M, cratio=12.4, cname=blosclz, clevel=5, shuffle=True, chunks=(1370, 765, 2), data=bcolz.carray_ext.carray)"
      ]
     },
     "execution_count": 10,
     "metadata": {},
     "output_type": "execute_result"
    }
   ],
   "source": [
    "pos = pos_all.compress(flt)\n",
    "ac1 = allel.AlleleCountsArray(acs[pop1].compress(flt, axis=0)[:, :2])\n",
    "ac2 = allel.AlleleCountsArray(acs[pop2].compress(flt, axis=0)[:, :2])\n",
    "genotype = genotype_all.compress(flt, axis=0)\n",
    "genotype"
   ]
  },
  {
   "cell_type": "markdown",
   "metadata": {},
   "source": [
    "Note that the new `genotype` array we have created is in-memory, however we are making use of compressed arrays (thanks to [bcolz](http://bcolz.blosc.org/)) to store these intermediate data, so the amount of memory required is small. Btw don't get confused with the name of the 'compress' method, this comes from [numpy](http://docs.scipy.org/doc/numpy-1.10.0/reference/generated/numpy.compress.html) and means making a selection along a particular axis, it has nothing to do with data compression which is handled automatically by `scikit-allel`."
   ]
  },
  {
   "cell_type": "markdown",
   "metadata": {},
   "source": [
    "## Comparing F<sub>ST</sub> estimators"
   ]
  },
  {
   "cell_type": "markdown",
   "metadata": {},
   "source": [
    "### Per-SNP estimates"
   ]
  },
  {
   "cell_type": "markdown",
   "metadata": {},
   "source": [
    "Let's first compute the per-SNP F<sub>ST</sub> value from each of the two estimators. The Weir & Cockerham estimator takes a little longer because it has to revisit the genotype data. The Hudson estimator is faster because it only needs the allele counts, which we've already computed. "
   ]
  },
  {
   "cell_type": "code",
   "execution_count": 11,
   "metadata": {
    "collapsed": false
   },
   "outputs": [
    {
     "data": {
      "text/plain": [
       "array([-0.00102459,  0.01277143,  0.08574083, ..., -0.00102459,\n",
       "        0.0554781 ,  0.08247673])"
      ]
     },
     "execution_count": 11,
     "metadata": {},
     "output_type": "execute_result"
    }
   ],
   "source": [
    "# sample indices for population 1\n",
    "pop1_idx = subpops[pop1]\n",
    "# sample indices for population 2\n",
    "pop2_idx = subpops[pop2]\n",
    "a, b, c = allel.stats.weir_cockerham_fst(genotype, subpops=[pop1_idx, pop2_idx], max_allele=1)\n",
    "snp_fst_wc = (a / (a + b + c))[:, 0]\n",
    "snp_fst_wc"
   ]
  },
  {
   "cell_type": "code",
   "execution_count": 12,
   "metadata": {
    "collapsed": false
   },
   "outputs": [
    {
     "data": {
      "text/plain": [
       "array([ 0.        ,  0.01459854,  0.08403361, ...,  0.        ,\n",
       "        0.05042017,  0.07563025])"
      ]
     },
     "execution_count": 12,
     "metadata": {},
     "output_type": "execute_result"
    }
   ],
   "source": [
    "num, den = allel.stats.hudson_fst(ac1, ac2)\n",
    "snp_fst_hudson = num / den\n",
    "snp_fst_hudson"
   ]
  },
  {
   "cell_type": "code",
   "execution_count": 13,
   "metadata": {
    "collapsed": false
   },
   "outputs": [
    {
     "data": {
      "image/png": "[encoded data removed]",
      "text/plain": [
       "<matplotlib.figure.Figure at 0x7fe28418e588>"
      ]
     },
     "metadata": {},
     "output_type": "display_data"
    }
   ],
   "source": [
    "fig, ax = plt.subplots(figsize=(5, 5))\n",
    "sns.despine(ax=ax, offset=5)\n",
    "ax.plot(snp_fst_hudson, snp_fst_wc, color='k', marker='.', linestyle=' ')\n",
    "ax.set_xlim(0, 1)\n",
    "ax.set_ylim(0, 1)\n",
    "ax.set_xlabel('Hudson $F_{ST}$')\n",
    "ax.set_ylabel('Weir & Cockerham $F_{ST}$')\n",
    "ax.set_title('%s (%s) vs %s (%s), SNP $F_{ST}$' % (pop1, n_samples_pop1, pop2, n_samples_pop2));"
   ]
  },
  {
   "cell_type": "markdown",
   "metadata": {},
   "source": [
    "With a couple of exceptions, the two estimators are virtually identical for all SNPs. However, one thing that Bhatia et al. warn is that the Weir & Cockerham estimator can give different results if sample sizes are unequal. We've chosen two populations with similar sample sizes, but what happens if we fake one of the populations to have a much smaller sample size?"
   ]
  },
  {
   "cell_type": "code",
   "execution_count": 14,
   "metadata": {
    "collapsed": false
   },
   "outputs": [
    {
     "data": {
      "text/plain": [
       "array([        nan,  0.03306823,  0.03605869, ...,         nan,\n",
       "        0.02435467,  0.04264706])"
      ]
     },
     "execution_count": 14,
     "metadata": {},
     "output_type": "execute_result"
    }
   ],
   "source": [
    "# keep only 20 samples from first population\n",
    "pop1_idx_ds = subpops[pop1][:20]\n",
    "a, b, c = allel.stats.weir_cockerham_fst(genotype, subpops=[pop1_idx_ds, pop2_idx], max_allele=1)\n",
    "snp_fst_wc_ds = (a / (a + b + c))[:, 0]\n",
    "snp_fst_wc_ds"
   ]
  },
  {
   "cell_type": "code",
   "execution_count": 15,
   "metadata": {
    "collapsed": false
   },
   "outputs": [
    {
     "data": {
      "text/plain": [
       "array([        nan,  0.        ,  0.08403361, ...,         nan,\n",
       "        0.05042017,  0.07563025])"
      ]
     },
     "execution_count": 15,
     "metadata": {},
     "output_type": "execute_result"
    }
   ],
   "source": [
    "# recompute allele counts for downsampled population\n",
    "ac1_ds = genotype.count_alleles(subpop=pop1_idx_ds, max_allele=1)\n",
    "num, den = allel.stats.hudson_fst(ac1_ds, ac2)\n",
    "snp_fst_hudson_ds = num / den\n",
    "snp_fst_hudson_ds"
   ]
  },
  {
   "cell_type": "code",
   "execution_count": 16,
   "metadata": {
    "collapsed": false
   },
   "outputs": [
    {
     "data": {
      "image/png": "[encoded data removed]",
      "text/plain": [
       "<matplotlib.figure.Figure at 0x7fe2645cb3c8>"
      ]
     },
     "metadata": {},
     "output_type": "display_data"
    }
   ],
   "source": [
    "fig, ax = plt.subplots(figsize=(5, 5))\n",
    "sns.despine(ax=ax, offset=5)\n",
    "ax.plot(snp_fst_hudson_ds, snp_fst_wc_ds, color='k', marker='.', linestyle=' ')\n",
    "ax.set_xlim(0, 1)\n",
    "ax.set_ylim(0, 1)\n",
    "ax.set_xlabel('Hudson $F_{ST}$')\n",
    "ax.set_ylabel('Weir & Cockerham $F_{ST}$')\n",
    "ax.set_title('%s (20) vs %s (%s), SNP $F_{ST}$' % (pop1, pop2, n_samples_pop2));"
   ]
  },
  {
   "cell_type": "code",
   "execution_count": 17,
   "metadata": {
    "collapsed": false
   },
   "outputs": [
    {
     "data": {
      "image/png": "[encoded data removed]",
      "text/plain": [
       "<matplotlib.figure.Figure at 0x7fe2645c5b70>"
      ]
     },
     "metadata": {},
     "output_type": "display_data"
    }
   ],
   "source": [
    "fig, ax = plt.subplots(figsize=(5, 5))\n",
    "sns.despine(ax=ax, offset=5)\n",
    "ax.plot(snp_fst_hudson, snp_fst_hudson_ds, color='k', marker='.', linestyle=' ')\n",
    "ax.set_xlim(0, 1)\n",
    "ax.set_ylim(0, 1)\n",
    "ax.set_xlabel('Hudson $F_{ST}$')\n",
    "ax.set_ylabel('Hudson $F_{ST}$ (one population downsampled)')\n",
    "ax.set_title('%s vs %s, SNP $F_{ST}$' % (pop1, pop2));"
   ]
  },
  {
   "cell_type": "code",
   "execution_count": 18,
   "metadata": {
    "collapsed": false
   },
   "outputs": [
    {
     "data": {
      "image/png": "[encoded data removed]",
      "text/plain": [
       "<matplotlib.figure.Figure at 0x7fe26452b550>"
      ]
     },
     "metadata": {},
     "output_type": "display_data"
    }
   ],
   "source": [
    "fig, ax = plt.subplots(figsize=(5, 5))\n",
    "sns.despine(ax=ax, offset=5)\n",
    "ax.plot(snp_fst_wc, snp_fst_wc_ds, color='k', marker='.', linestyle=' ')\n",
    "ax.set_xlim(0, 1)\n",
    "ax.set_ylim(0, 1)\n",
    "ax.set_xlabel('Weir & Cockerham $F_{ST}$')\n",
    "ax.set_ylabel('Weir & Cockerham $F_{ST}$ (one population downsampled)')\n",
    "ax.set_title('%s vs %s, SNP $F_{ST}$' % (pop1, pop2));"
   ]
  },
  {
   "cell_type": "markdown",
   "metadata": {},
   "source": [
    "When the sample sizes are unequal, the correspondance between the two estimators is clearly much less. Also, the Weir & Cockerham estimator appears to be systematically different with and without one population down-sampled."
   ]
  },
  {
   "cell_type": "markdown",
   "metadata": {},
   "source": [
    "### Chromosome average estimates"
   ]
  },
  {
   "cell_type": "markdown",
   "metadata": {},
   "source": [
    "Now compute chromosome-wide average F<sub>ST</sub> with standard errors approximated via a block-jackknife."
   ]
  },
  {
   "cell_type": "code",
   "execution_count": 19,
   "metadata": {
    "collapsed": false
   },
   "outputs": [
    {
     "name": "stdout",
     "output_type": "stream",
     "text": [
      "0.1057 +/- 0.0030 (Weir & Cockerham)\n"
     ]
    }
   ],
   "source": [
    "fst_wc, se_wc, vb_wc, _ = allel.stats.blockwise_weir_cockerham_fst(genotype, subpops=[pop1_idx, pop2_idx], \n",
    "                                                                   blen=10000, max_allele=1)\n",
    "print('%.04f +/- %.04f (Weir & Cockerham)' % (fst_wc, se_wc))"
   ]
  },
  {
   "cell_type": "code",
   "execution_count": 20,
   "metadata": {
    "collapsed": false
   },
   "outputs": [
    {
     "name": "stdout",
     "output_type": "stream",
     "text": [
      "0.1065 +/- 0.0030 (Hudson)\n"
     ]
    }
   ],
   "source": [
    "fst_hudson, se_hudson, vb_hudson, _ = allel.stats.blockwise_hudson_fst(ac1, ac2, blen=10000)\n",
    "print('%.04f +/- %.04f (Hudson)' % (fst_hudson, se_hudson))"
   ]
  },
  {
   "cell_type": "markdown",
   "metadata": {},
   "source": [
    "The two estimates are very close, well within one standard error."
   ]
  },
  {
   "cell_type": "markdown",
   "metadata": {},
   "source": [
    "How about with one population downsampled to 20?"
   ]
  },
  {
   "cell_type": "code",
   "execution_count": 21,
   "metadata": {
    "collapsed": false
   },
   "outputs": [
    {
     "name": "stdout",
     "output_type": "stream",
     "text": [
      "0.1120 +/- 0.0030 (Weir & Cockerham)\n"
     ]
    }
   ],
   "source": [
    "fst_wc_ds, se_wc_ds, _, _ = allel.stats.blockwise_weir_cockerham_fst(genotype, subpops=[pop1_idx_ds, pop2_idx], \n",
    "                                                                     blen=10000, max_allele=1)\n",
    "print('%.04f +/- %.04f (Weir & Cockerham)' % (fst_wc_ds, se_wc_ds))"
   ]
  },
  {
   "cell_type": "code",
   "execution_count": 22,
   "metadata": {
    "collapsed": false
   },
   "outputs": [
    {
     "name": "stdout",
     "output_type": "stream",
     "text": [
      "0.1057 +/- 0.0030 (Hudson)\n"
     ]
    }
   ],
   "source": [
    "fst_hudson_ds, se_hudson_ds, _, _ = allel.stats.blockwise_hudson_fst(ac1_ds, ac2, blen=10000)\n",
    "print('%.04f +/- %.04f (Hudson)' % (fst_hudson_ds, se_hudson_ds))"
   ]
  },
  {
   "cell_type": "markdown",
   "metadata": {},
   "source": [
    "The two estimates are now separated by about two standard errors, with the Weir & Cockerham estimator inflated relative to the estimate with full samples from both populations"
   ]
  },
  {
   "cell_type": "markdown",
   "metadata": {},
   "source": [
    "## SNP ascertainment"
   ]
  },
  {
   "cell_type": "markdown",
   "metadata": {},
   "source": [
    "Another issue that Bhatia et al. discuss is SNP ascertainment. Basically, how you choose which SNPs to use when estimating F<sub>ST</sub> can make a difference. As I understand it, when computing average F<sub>ST</sub> you want to use a set of SNPs which segregated in the ancestral population, because changes in allele frequency at these SNPs will tell you something about genetic drift. \n",
    "\n",
    "Bhatia et al. recommend ascertaining SNPs by choosing SNPs that are segregating in a third \"outgroup\" population. However, we don't really have an obvious outgroup population in Ag1000G. So we then have four choices: (1) choose SNPs segregating in the first population; (2) choose SNPs segregating in the second population; (3) choose SNPs segregating in either population; (4) choose SNPs segregating in both populations.\n",
    "\n",
    "Let's explore the impact of different ascertainment schemes, using the Hudson estimator."
   ]
  },
  {
   "cell_type": "code",
   "execution_count": 23,
   "metadata": {
    "collapsed": true
   },
   "outputs": [],
   "source": [
    "def compute_fst(ac1, ac2, scheme):\n",
    "    \n",
    "    if scheme == 'first':\n",
    "        loc_asc = ac1.is_segregating()\n",
    "    elif scheme == 'second':\n",
    "        loc_asc = ac2.is_segregating()\n",
    "    elif scheme == 'either':\n",
    "        loc_asc = ac1.is_segregating() | ac2.is_segregating()\n",
    "    elif scheme == 'both':\n",
    "        loc_asc = ac1.is_segregating() & ac2.is_segregating()    \n",
    "    n_snps = np.count_nonzero(loc_asc)\n",
    "    \n",
    "    ac1 = ac1.compress(loc_asc, axis=0)\n",
    "    ac2 = ac2.compress(loc_asc, axis=0)\n",
    "    \n",
    "    fst, se, _, _ = allel.stats.blockwise_hudson_fst(ac1, ac2, blen=10000)\n",
    "    \n",
    "    print('%.04f +/- %.04f (using %s SNPs segregating in %s population)' % (fst, se, n_snps, scheme))"
   ]
  },
  {
   "cell_type": "code",
   "execution_count": 24,
   "metadata": {
    "collapsed": false
   },
   "outputs": [
    {
     "name": "stdout",
     "output_type": "stream",
     "text": [
      "0.1027 +/- 0.0031 (using 2797341 SNPs segregating in first population)\n",
      "0.1140 +/- 0.0040 (using 1086498 SNPs segregating in second population)\n",
      "0.1065 +/- 0.0030 (using 3177369 SNPs segregating in either population)\n",
      "0.1101 +/- 0.0045 (using 706470 SNPs segregating in both population)\n"
     ]
    }
   ],
   "source": [
    "for scheme in 'first', 'second', 'either', 'both':\n",
    "    compute_fst(ac1, ac2, scheme)"
   ]
  },
  {
   "cell_type": "markdown",
   "metadata": {},
   "source": [
    "The spread of values here is more than three standard errors, so clearly ascertainment makes a difference. Here I'd be inclined to use SNPs segregating in both populations as it is a stricter criterion, however comments very welcome."
   ]
  },
  {
   "cell_type": "markdown",
   "metadata": {},
   "source": [
    "## Genome plot"
   ]
  },
  {
   "cell_type": "markdown",
   "metadata": {},
   "source": [
    "Finally, let's plot F<sub>ST</sub> over the chromosome, to see if any regions are particularly differentiated."
   ]
  },
  {
   "cell_type": "code",
   "execution_count": 25,
   "metadata": {
    "collapsed": true
   },
   "outputs": [],
   "source": [
    "def plot_fst(ac1, ac2, pos, blen=2000):\n",
    "    \n",
    "    fst, se, vb, _ = allel.stats.blockwise_hudson_fst(ac1, ac2, blen=blen)\n",
    "    \n",
    "    # use the per-block average Fst as the Y coordinate\n",
    "    y = vb\n",
    "    \n",
    "    # use the block centres as the X coordinate\n",
    "    x = allel.stats.moving_statistic(pos, statistic=lambda v: (v[0] + v[-1]) / 2, size=blen)\n",
    "    \n",
    "    # plot\n",
    "    fig, ax = plt.subplots(figsize=(10, 4))\n",
    "    sns.despine(ax=ax, offset=5)\n",
    "    ax.plot(x, y, 'k-', lw=.5)\n",
    "    ax.set_ylabel('$F_{ST}$')\n",
    "    ax.set_xlabel('chromosome %s position (bp)' % chrom)\n",
    "    ax.set_xlim(0, pos.max())\n",
    "    "
   ]
  },
  {
   "cell_type": "code",
   "execution_count": 26,
   "metadata": {
    "collapsed": false
   },
   "outputs": [
    {
     "data": {
      "image/png": "[encoded data removed]",
      "text/plain": [
       "<matplotlib.figure.Figure at 0x7fe284179438>"
      ]
     },
     "metadata": {},
     "output_type": "display_data"
    }
   ],
   "source": [
    "plot_fst(ac1, ac2, pos)"
   ]
  },
  {
   "cell_type": "markdown",
   "metadata": {},
   "source": [
    "This plot suggests some genome regions where F<sub>ST</sub> is higher than the chromosome-wide average, which are interesting to follow up."
   ]
  },
  {
   "cell_type": "markdown",
   "metadata": {},
   "source": [
    "## Conclusions"
   ]
  },
  {
   "cell_type": "markdown",
   "metadata": {},
   "source": [
    "Hudson's F<sub>ST</sub> estimator is more robust to unequal sample sizes, and faster to compute because it only requires allele counts as input. \n",
    "\n",
    "SNP ascertainment also makes a difference. It's probably a good idea to try different ascertainment schemes to see what impact they have on the results. "
   ]
  },
  {
   "cell_type": "markdown",
   "metadata": {},
   "source": [
    "## Further reading"
   ]
  },
  {
   "cell_type": "markdown",
   "metadata": {},
   "source": [
    "* Bhatia, G., Patterson, N., Sankararaman, S., & Price, A. L. (2013). [Estimating and interpreting FST: the impact of rare variants](http://doi.org/10.1101/gr.154831.113). Genome Research, 23(9), 1514–21. \n",
    "* [`scikit-allel` F<sub>ST</sub> functions](http://scikit-allel.readthedocs.org/en/latest/stats/fst.html)\n",
    "\n",
    "<hr/>"
   ]
  },
  {
   "cell_type": "code",
   "execution_count": 27,
   "metadata": {
    "collapsed": false
   },
   "outputs": [
    {
     "name": "stdout",
     "output_type": "stream",
     "text": [
      "cggh/biipy:v1.1.1\n"
     ]
    }
   ],
   "source": [
    "import os; print(os.environ['docker_image'])"
   ]
  },
  {
   "cell_type": "code",
   "execution_count": 28,
   "metadata": {
    "collapsed": false
   },
   "outputs": [
    {
     "name": "stdout",
     "output_type": "stream",
     "text": [
      "all done in 155.5 seconds\n"
     ]
    }
   ],
   "source": [
    "time_after = time.time()\n",
    "duration = (time_after - time_before)\n",
    "print('all done in %.1f seconds' % duration)"
   ]
  }
 ],
 "metadata": {
  "kernelspec": {
   "display_name": "Python 3",
   "language": "python",
   "name": "python3"
  },
  "language_info": {
   "codemirror_mode": {
    "name": "ipython",
    "version": 3
   },
   "file_extension": ".py",
   "mimetype": "text/x-python",
   "name": "python",
   "nbconvert_exporter": "python",
   "pygments_lexer": "ipython3",
   "version": "3.5.0+"
  }
 },
 "nbformat": 4,
 "nbformat_minor": 0
}
