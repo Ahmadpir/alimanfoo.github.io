{
 "cells": [
  {
   "cell_type": "markdown",
   "metadata": {},
   "source": [
    "*This post has some examples of analysing a genetic cross, using [scikit-allel](@@) and standard scientific Python libraries ([NumPy](@@), [matplotlib](@@), etc.). As usual, if you spot any errors or have any suggestions, please drop a comment below.*"
   ]
  },
  {
   "cell_type": "markdown",
   "metadata": {},
   "source": [
    "## Setup"
   ]
  },
  {
   "cell_type": "code",
   "execution_count": 15,
   "metadata": {
    "collapsed": true
   },
   "outputs": [],
   "source": [
    "import numpy as np\n",
    "import pandas\n",
    "import h5py\n",
    "import allel"
   ]
  },
  {
   "cell_type": "markdown",
   "metadata": {},
   "source": [
    "I'm going to use data from the [Ag1000G](@@) project [phase 1 data releases](@@), which includes genotype calls for four genetic crosses. Each cross involves two parents (a mother and a father) and up to 20 offspring (progeny). These are mosquito crosses, but mosquitoes are diploid (like us), so the genetics are the same as if analysing a cross or family of any other diploid species.\n",
    "\n",
    "Here's some information about the crosses."
   ]
  },
  {
   "cell_type": "code",
   "execution_count": 1,
   "metadata": {
    "collapsed": false
   },
   "outputs": [
    {
     "data": {
      "text/html": [
       "<div>\n",
       "<table border=\"1\" class=\"dataframe\">\n",
       "  <thead>\n",
       "    <tr style=\"text-align: right;\">\n",
       "      <th></th>\n",
       "      <th>ox_code</th>\n",
       "      <th>cross</th>\n",
       "      <th>role</th>\n",
       "      <th>n_reads</th>\n",
       "      <th>median_cov</th>\n",
       "      <th>mean_cov</th>\n",
       "      <th>sex</th>\n",
       "      <th>colony_id</th>\n",
       "    </tr>\n",
       "  </thead>\n",
       "  <tbody>\n",
       "    <tr>\n",
       "      <th>0</th>\n",
       "      <td>AD0231-C</td>\n",
       "      <td>29-2</td>\n",
       "      <td>parent</td>\n",
       "      <td>451.762</td>\n",
       "      <td>20.0</td>\n",
       "      <td>19.375</td>\n",
       "      <td>F</td>\n",
       "      <td>ghana</td>\n",
       "    </tr>\n",
       "    <tr>\n",
       "      <th>1</th>\n",
       "      <td>AD0232-C</td>\n",
       "      <td>29-2</td>\n",
       "      <td>parent</td>\n",
       "      <td>572.326</td>\n",
       "      <td>25.0</td>\n",
       "      <td>24.370</td>\n",
       "      <td>M</td>\n",
       "      <td>kisumu</td>\n",
       "    </tr>\n",
       "    <tr>\n",
       "      <th>2</th>\n",
       "      <td>AD0234-C</td>\n",
       "      <td>29-2</td>\n",
       "      <td>progeny</td>\n",
       "      <td>489.057</td>\n",
       "      <td>16.0</td>\n",
       "      <td>15.742</td>\n",
       "      <td>F</td>\n",
       "      <td>NaN</td>\n",
       "    </tr>\n",
       "    <tr>\n",
       "      <th>3</th>\n",
       "      <td>AD0235-C</td>\n",
       "      <td>29-2</td>\n",
       "      <td>progeny</td>\n",
       "      <td>539.649</td>\n",
       "      <td>17.0</td>\n",
       "      <td>17.364</td>\n",
       "      <td>F</td>\n",
       "      <td>NaN</td>\n",
       "    </tr>\n",
       "    <tr>\n",
       "      <th>4</th>\n",
       "      <td>AD0236-C</td>\n",
       "      <td>29-2</td>\n",
       "      <td>progeny</td>\n",
       "      <td>537.237</td>\n",
       "      <td>17.0</td>\n",
       "      <td>17.284</td>\n",
       "      <td>F</td>\n",
       "      <td>NaN</td>\n",
       "    </tr>\n",
       "  </tbody>\n",
       "</table>\n",
       "</div>"
      ],
      "text/plain": [
       "    ox_code cross     role  n_reads  median_cov  mean_cov sex colony_id\n",
       "0  AD0231-C  29-2   parent  451.762        20.0    19.375   F     ghana\n",
       "1  AD0232-C  29-2   parent  572.326        25.0    24.370   M    kisumu\n",
       "2  AD0234-C  29-2  progeny  489.057        16.0    15.742   F       NaN\n",
       "3  AD0235-C  29-2  progeny  539.649        17.0    17.364   F       NaN\n",
       "4  AD0236-C  29-2  progeny  537.237        17.0    17.284   F       NaN"
      ]
     },
     "execution_count": 1,
     "metadata": {},
     "output_type": "execute_result"
    }
   ],
   "source": [
    "samples = pandas.read_csv('data/phase1.AR3.1/samples/cross.samples.meta.txt', sep='\\t')\n",
    "samples.head()"
   ]
  },
  {
   "cell_type": "code",
   "execution_count": 2,
   "metadata": {
    "collapsed": false
   },
   "outputs": [
    {
     "data": {
      "text/plain": [
       "29-2    22\n",
       "46-9    22\n",
       "36-9    20\n",
       "42-4    16\n",
       "Name: cross, dtype: int64"
      ]
     },
     "execution_count": 2,
     "metadata": {},
     "output_type": "execute_result"
    }
   ],
   "source": [
    "samples.cross.value_counts()"
   ]
  },
  {
   "cell_type": "markdown",
   "metadata": {},
   "source": [
    "So there are four crosses. The two largest (crosses '29-2' and '46-9') each have 22 individuals (2 parents, 20 progeny), and the smallest ('42-4') has 16 individuals (2 parents, 14 progeny).\n",
    "\n",
    "All individuals in all crosses have been sequenced on Illumina HiSeq machines, and then have had genotypes called at variant sites discovered in a cohort of wild specimens. The genotype data were originally in [VCF format](@@), however for ease of analysis we've converted the data to [HDF5 format](@@).\n",
    "\n",
    "Open the file containing genotype data for chromosome arm 3R."
   ]
  },
  {
   "cell_type": "code",
   "execution_count": 3,
   "metadata": {
    "collapsed": false
   },
   "outputs": [
    {
     "data": {
      "text/plain": [
       "<HDF5 file \"ag1000g.crosses.phase1.ar3sites.3R.h5\" (mode r)>"
      ]
     },
     "execution_count": 3,
     "metadata": {},
     "output_type": "execute_result"
    }
   ],
   "source": [
    "callset = h5py.File('data/phase1.AR3/variation/crosses/ar3/hdf5/ag1000g.crosses.phase1.ar3sites.3R.h5',\n",
    "                    mode='r')\n",
    "callset"
   ]
  },
  {
   "cell_type": "markdown",
   "metadata": {},
   "source": [
    "To analyse your own data using the examples shown below, you would need to convert the genotype data to either NumPy or HDF5 format. If you have the data in VCF format then you can use the [vcfnp](@@) utility to perform the conversion. There is some documentation in the [vcfnp README](@@) but please feel free to email me if you run into any difficulty. This data conversion is the painful step, if you can get over it then the rest should be relatively plain sailing.\n",
    "\n",
    "Here I am going to start from unphased genotype data. If you have already phased the data that's fine, convert to NumPy or HDF5 as you would for unphased data.\n",
    "\n",
    "In total I have genotype calls in 80 individuals at 22,632,425 SNPs on chromosome 3R. However, I'm only going to analyse data for a single cross, '29-2', between a mother from the 'Ghana' colony and a father from the 'Kisumu' colony. I can subset out the genotype data for just this cross, and keep only SNPs that are segregating in this cross. I'm also only going to keep SNPs that passed all quality filters."
   ]
  },
  {
   "cell_type": "code",
   "execution_count": 6,
   "metadata": {
    "collapsed": false
   },
   "outputs": [
    {
     "data": {
      "text/html": [
       "<div class=\"allel allel-DisplayAs2D\"><span>&lt;GenotypeChunkedArray shape=(22632425, 80, 2) dtype=int8 chunks=(6553, 10, 2)\n",
       "   nbytes=3.4G cbytes=131.6M cratio=26.2\n",
       "   compression=gzip compression_opts=1\n",
       "   values=h5py._hl.dataset.Dataset&gt;</span><table><tr><th></th><th style=\"text-align: center\">0</th><th style=\"text-align: center\">1</th><th style=\"text-align: center\">2</th><th style=\"text-align: center\">3</th><th style=\"text-align: center\">4</th><th style=\"text-align: center\">...</th><th style=\"text-align: center\">75</th><th style=\"text-align: center\">76</th><th style=\"text-align: center\">77</th><th style=\"text-align: center\">78</th><th style=\"text-align: center\">79</th></tr><tr><th style=\"text-align: center\">0</th><td style=\"text-align: center\">1/1</td><td style=\"text-align: center\">0/1</td><td style=\"text-align: center\">0/1</td><td style=\"text-align: center\">0/1</td><td style=\"text-align: center\">0/1</td><td style=\"text-align: center\">...</td><td style=\"text-align: center\">0/1</td><td style=\"text-align: center\">0/1</td><td style=\"text-align: center\">0/1</td><td style=\"text-align: center\">0/1</td><td style=\"text-align: center\">0/1</td></tr><tr><th style=\"text-align: center\">1</th><td style=\"text-align: center\">0/0</td><td style=\"text-align: center\">0/0</td><td style=\"text-align: center\">0/0</td><td style=\"text-align: center\">0/0</td><td style=\"text-align: center\">0/0</td><td style=\"text-align: center\">...</td><td style=\"text-align: center\">0/0</td><td style=\"text-align: center\">0/0</td><td style=\"text-align: center\">0/0</td><td style=\"text-align: center\">0/0</td><td style=\"text-align: center\">0/0</td></tr><tr><th style=\"text-align: center\">2</th><td style=\"text-align: center\">0/0</td><td style=\"text-align: center\">0/0</td><td style=\"text-align: center\">0/0</td><td style=\"text-align: center\">0/0</td><td style=\"text-align: center\">0/0</td><td style=\"text-align: center\">...</td><td style=\"text-align: center\">0/0</td><td style=\"text-align: center\">0/0</td><td style=\"text-align: center\">0/0</td><td style=\"text-align: center\">0/0</td><td style=\"text-align: center\">0/0</td></tr><tr><th style=\"text-align: center\">...</th><td style=\"text-align: center\" colspan=\"12\">...</td></tr><tr><th style=\"text-align: center\">22632422</th><td style=\"text-align: center\">./.</td><td style=\"text-align: center\">./.</td><td style=\"text-align: center\">./.</td><td style=\"text-align: center\">./.</td><td style=\"text-align: center\">./.</td><td style=\"text-align: center\">...</td><td style=\"text-align: center\">0/0</td><td style=\"text-align: center\">./.</td><td style=\"text-align: center\">./.</td><td style=\"text-align: center\">0/0</td><td style=\"text-align: center\">0/0</td></tr><tr><th style=\"text-align: center\">22632423</th><td style=\"text-align: center\">./.</td><td style=\"text-align: center\">./.</td><td style=\"text-align: center\">./.</td><td style=\"text-align: center\">./.</td><td style=\"text-align: center\">./.</td><td style=\"text-align: center\">...</td><td style=\"text-align: center\">0/0</td><td style=\"text-align: center\">./.</td><td style=\"text-align: center\">./.</td><td style=\"text-align: center\">./.</td><td style=\"text-align: center\">0/0</td></tr><tr><th style=\"text-align: center\">22632424</th><td style=\"text-align: center\">./.</td><td style=\"text-align: center\">./.</td><td style=\"text-align: center\">./.</td><td style=\"text-align: center\">./.</td><td style=\"text-align: center\">./.</td><td style=\"text-align: center\">...</td><td style=\"text-align: center\">./.</td><td style=\"text-align: center\">./.</td><td style=\"text-align: center\">./.</td><td style=\"text-align: center\">./.</td><td style=\"text-align: center\">1/1</td></tr></table></div>"
      ],
      "text/plain": [
       "<GenotypeChunkedArray shape=(22632425, 80, 2) dtype=int8 chunks=(6553, 10, 2)\n",
       "   nbytes=3.4G cbytes=131.6M cratio=26.2\n",
       "   compression=gzip compression_opts=1\n",
       "   values=h5py._hl.dataset.Dataset>"
      ]
     },
     "execution_count": 6,
     "metadata": {},
     "output_type": "execute_result"
    }
   ],
   "source": [
    "genotypes = allel.GenotypeChunkedArray(callset['3R/calldata/genotype'])\n",
    "genotypes"
   ]
  },
  {
   "cell_type": "code",
   "execution_count": 11,
   "metadata": {
    "collapsed": false
   },
   "outputs": [
    {
     "data": {
      "text/plain": [
       "[0, 1, 2, 3, 4, 5, 6, 7, 8, 9, 10, 11, 12, 13, 14, 15, 16, 17, 18, 19, 20, 21]"
      ]
     },
     "execution_count": 11,
     "metadata": {},
     "output_type": "execute_result"
    }
   ],
   "source": [
    "# locate the indices of the samples within the callset\n",
    "sample_indices = samples[samples.cross == '29-2'].index.values.tolist()\n",
    "sample_indices"
   ]
  },
  {
   "cell_type": "code",
   "execution_count": 12,
   "metadata": {
    "collapsed": false
   },
   "outputs": [
    {
     "data": {
      "text/html": [
       "<div class=\"allel allel-DisplayAs2D\"><span>&lt;AlleleCountsArray shape=(22632425, 4) dtype=int32&gt;</span><table><tr><th></th><th style=\"text-align: center\">0</th><th style=\"text-align: center\">1</th><th style=\"text-align: center\">2</th><th style=\"text-align: center\">3</th></tr><tr><th style=\"text-align: center\">0</th><td style=\"text-align: center\">19</td><td style=\"text-align: center\">25</td><td style=\"text-align: center\"> 0</td><td style=\"text-align: center\"> 0</td></tr><tr><th style=\"text-align: center\">1</th><td style=\"text-align: center\">44</td><td style=\"text-align: center\"> 0</td><td style=\"text-align: center\"> 0</td><td style=\"text-align: center\"> 0</td></tr><tr><th style=\"text-align: center\">2</th><td style=\"text-align: center\">44</td><td style=\"text-align: center\"> 0</td><td style=\"text-align: center\"> 0</td><td style=\"text-align: center\"> 0</td></tr><tr><th style=\"text-align: center\">...</th><td style=\"text-align: center\" colspan=\"5\">...</td></tr><tr><th style=\"text-align: center\">22632422</th><td style=\"text-align: center\">0</td><td style=\"text-align: center\">0</td><td style=\"text-align: center\">0</td><td style=\"text-align: center\">0</td></tr><tr><th style=\"text-align: center\">22632423</th><td style=\"text-align: center\">0</td><td style=\"text-align: center\">0</td><td style=\"text-align: center\">0</td><td style=\"text-align: center\">0</td></tr><tr><th style=\"text-align: center\">22632424</th><td style=\"text-align: center\">0</td><td style=\"text-align: center\">0</td><td style=\"text-align: center\">0</td><td style=\"text-align: center\">0</td></tr></table></div>"
      ],
      "text/plain": [
       "<AlleleCountsArray shape=(22632425, 4) dtype=int32>\n",
       "19 25  0  0\n",
       "44  0  0  0\n",
       "44  0  0  0\n",
       "...\n",
       "0 0 0 0\n",
       "0 0 0 0\n",
       "0 0 0 0"
      ]
     },
     "execution_count": 12,
     "metadata": {},
     "output_type": "execute_result"
    }
   ],
   "source": [
    "# do an allele count to find segregating variants\n",
    "ac = genotypes.count_alleles(max_allele=3, subpop=sample_indices)[:]\n",
    "ac"
   ]
  },
  {
   "cell_type": "code",
   "execution_count": 13,
   "metadata": {
    "collapsed": false
   },
   "outputs": [
    {
     "data": {
      "text/plain": [
       "2142258"
      ]
     },
     "execution_count": 13,
     "metadata": {},
     "output_type": "execute_result"
    }
   ],
   "source": [
    "# how many SNPs are segregating within the cross?\n",
    "loc_seg = ac.is_segregating()\n",
    "np.count_nonzero(loc_seg)"
   ]
  },
  {
   "cell_type": "code",
   "execution_count": 17,
   "metadata": {
    "collapsed": true
   },
   "outputs": [],
   "source": [
    "# locate SNPs that passed all quality filters\n",
    "loc_pass = callset['3R/variants/FILTER_PASS'][:]"
   ]
  },
  {
   "cell_type": "code",
   "execution_count": 18,
   "metadata": {
    "collapsed": false
   },
   "outputs": [
    {
     "data": {
      "text/html": [
       "<div class=\"allel allel-DisplayAs2D\"><span>&lt;GenotypeArray shape=(709399, 22, 2) dtype=int8&gt;</span><table><tr><th></th><th style=\"text-align: center\">0</th><th style=\"text-align: center\">1</th><th style=\"text-align: center\">2</th><th style=\"text-align: center\">3</th><th style=\"text-align: center\">4</th><th style=\"text-align: center\">...</th><th style=\"text-align: center\">17</th><th style=\"text-align: center\">18</th><th style=\"text-align: center\">19</th><th style=\"text-align: center\">20</th><th style=\"text-align: center\">21</th></tr><tr><th style=\"text-align: center\">0</th><td style=\"text-align: center\">./.</td><td style=\"text-align: center\">0/0</td><td style=\"text-align: center\">0/1</td><td style=\"text-align: center\">0/0</td><td style=\"text-align: center\">0/0</td><td style=\"text-align: center\">...</td><td style=\"text-align: center\">0/0</td><td style=\"text-align: center\">0/0</td><td style=\"text-align: center\">0/0</td><td style=\"text-align: center\">0/0</td><td style=\"text-align: center\">0/0</td></tr><tr><th style=\"text-align: center\">1</th><td style=\"text-align: center\">./.</td><td style=\"text-align: center\">0/0</td><td style=\"text-align: center\">0/0</td><td style=\"text-align: center\">0/0</td><td style=\"text-align: center\">0/0</td><td style=\"text-align: center\">...</td><td style=\"text-align: center\">0/0</td><td style=\"text-align: center\">0/0</td><td style=\"text-align: center\">0/0</td><td style=\"text-align: center\">0/0</td><td style=\"text-align: center\">0/0</td></tr><tr><th style=\"text-align: center\">2</th><td style=\"text-align: center\">0/1</td><td style=\"text-align: center\">0/0</td><td style=\"text-align: center\">0/1</td><td style=\"text-align: center\">0/1</td><td style=\"text-align: center\">0/0</td><td style=\"text-align: center\">...</td><td style=\"text-align: center\">0/0</td><td style=\"text-align: center\">0/0</td><td style=\"text-align: center\">0/0</td><td style=\"text-align: center\">0/0</td><td style=\"text-align: center\">0/0</td></tr><tr><th style=\"text-align: center\">...</th><td style=\"text-align: center\" colspan=\"12\">...</td></tr><tr><th style=\"text-align: center\">709396</th><td style=\"text-align: center\">1/1</td><td style=\"text-align: center\">0/0</td><td style=\"text-align: center\">0/1</td><td style=\"text-align: center\">0/1</td><td style=\"text-align: center\">0/1</td><td style=\"text-align: center\">...</td><td style=\"text-align: center\">0/1</td><td style=\"text-align: center\">0/1</td><td style=\"text-align: center\">0/1</td><td style=\"text-align: center\">0/1</td><td style=\"text-align: center\">0/1</td></tr><tr><th style=\"text-align: center\">709397</th><td style=\"text-align: center\">0/0</td><td style=\"text-align: center\">1/1</td><td style=\"text-align: center\">0/1</td><td style=\"text-align: center\">0/1</td><td style=\"text-align: center\">0/1</td><td style=\"text-align: center\">...</td><td style=\"text-align: center\">0/1</td><td style=\"text-align: center\">0/1</td><td style=\"text-align: center\">0/1</td><td style=\"text-align: center\">0/1</td><td style=\"text-align: center\">0/1</td></tr><tr><th style=\"text-align: center\">709398</th><td style=\"text-align: center\">0/0</td><td style=\"text-align: center\">1/1</td><td style=\"text-align: center\">0/1</td><td style=\"text-align: center\">0/1</td><td style=\"text-align: center\">0/1</td><td style=\"text-align: center\">...</td><td style=\"text-align: center\">0/1</td><td style=\"text-align: center\">0/1</td><td style=\"text-align: center\">0/1</td><td style=\"text-align: center\">0/1</td><td style=\"text-align: center\">0/1</td></tr></table></div>"
      ],
      "text/plain": [
       "<GenotypeArray shape=(709399, 22, 2) dtype=int8>\n",
       "./. 0/0 0/1 0/0 0/0 ... 0/0 0/0 0/0 0/0 0/0\n",
       "./. 0/0 0/0 0/0 0/0 ... 0/0 0/0 0/0 0/0 0/0\n",
       "0/1 0/0 0/1 0/1 0/0 ... 0/0 0/0 0/0 0/0 0/0\n",
       "...\n",
       "1/1 0/0 0/1 0/1 0/1 ... 0/1 0/1 0/1 0/1 0/1\n",
       "0/0 1/1 0/1 0/1 0/1 ... 0/1 0/1 0/1 0/1 0/1\n",
       "0/0 1/1 0/1 0/1 0/1 ... 0/1 0/1 0/1 0/1 0/1"
      ]
     },
     "execution_count": 18,
     "metadata": {},
     "output_type": "execute_result"
    }
   ],
   "source": [
    "# perform the subset and load the results into memory uncompressed\n",
    "genotypes_cross = genotypes.subset(loc_seg & loc_pass, sample_indices)[:]\n",
    "genotypes_cross"
   ]
  },
  {
   "cell_type": "markdown",
   "metadata": {},
   "source": [
    "Now I have an array of genotype calls at 709,399 segregating SNPs in 22 individuals. The mother is the first column, the father is the second column, and the progeny are the remaining columns. You'll notice that the mother's genotype call is missing at the first two SNPs: we could remove these, but we'll leave them in, just to check that the analyses are robust to some missing data."
   ]
  },
  {
   "cell_type": "markdown",
   "metadata": {},
   "source": [
    "## Phasing by transmission\n",
    "\n",
    "I'm starting from unphased genotype calls, so the first thing to do is phase the calls to generate haplotypes. There are several options for phasing a cross. Here I'm going to use the [`phase_by_transmission()`](http://scikit-allel.readthedocs.io/en/latest/stats/mendel.html#allel.stats.mendel.phase_by_transmission) function from [scikit-allel](@@), because it's convenient and fast (couple of seconds). We've found this function works well for crosses with relatively large numbers of progeny. However, if you have a smaller family with only a couple of progeny, and/or you have a more complicated pedigree with multiple generations, try phasing with [SHAPEIT2 + DuoHMM](@@)."
   ]
  },
  {
   "cell_type": "code",
   "execution_count": 19,
   "metadata": {
    "collapsed": false
   },
   "outputs": [
    {
     "data": {
      "text/html": [
       "<div class=\"allel allel-DisplayAs2D\"><span>&lt;GenotypeArray shape=(709399, 22, 2) dtype=int8&gt;</span><table><tr><th></th><th style=\"text-align: center\">0</th><th style=\"text-align: center\">1</th><th style=\"text-align: center\">2</th><th style=\"text-align: center\">3</th><th style=\"text-align: center\">4</th><th style=\"text-align: center\">...</th><th style=\"text-align: center\">17</th><th style=\"text-align: center\">18</th><th style=\"text-align: center\">19</th><th style=\"text-align: center\">20</th><th style=\"text-align: center\">21</th></tr><tr><th style=\"text-align: center\">0</th><td style=\"text-align: center\">./.</td><td style=\"text-align: center\">0/0</td><td style=\"text-align: center\">0/1</td><td style=\"text-align: center\">0/0</td><td style=\"text-align: center\">0/0</td><td style=\"text-align: center\">...</td><td style=\"text-align: center\">0/0</td><td style=\"text-align: center\">0/0</td><td style=\"text-align: center\">0/0</td><td style=\"text-align: center\">0/0</td><td style=\"text-align: center\">0/0</td></tr><tr><th style=\"text-align: center\">1</th><td style=\"text-align: center\">./.</td><td style=\"text-align: center\">0/0</td><td style=\"text-align: center\">0/0</td><td style=\"text-align: center\">0/0</td><td style=\"text-align: center\">0/0</td><td style=\"text-align: center\">...</td><td style=\"text-align: center\">0/0</td><td style=\"text-align: center\">0/0</td><td style=\"text-align: center\">0/0</td><td style=\"text-align: center\">0/0</td><td style=\"text-align: center\">0/0</td></tr><tr><th style=\"text-align: center\">2</th><td style=\"text-align: center\">0|1</td><td style=\"text-align: center\">0|0</td><td style=\"text-align: center\">1|0</td><td style=\"text-align: center\">1|0</td><td style=\"text-align: center\">0|0</td><td style=\"text-align: center\">...</td><td style=\"text-align: center\">0|0</td><td style=\"text-align: center\">0|0</td><td style=\"text-align: center\">0|0</td><td style=\"text-align: center\">0|0</td><td style=\"text-align: center\">0|0</td></tr><tr><th style=\"text-align: center\">...</th><td style=\"text-align: center\" colspan=\"12\">...</td></tr><tr><th style=\"text-align: center\">709396</th><td style=\"text-align: center\">1|1</td><td style=\"text-align: center\">0|0</td><td style=\"text-align: center\">1|0</td><td style=\"text-align: center\">1|0</td><td style=\"text-align: center\">1|0</td><td style=\"text-align: center\">...</td><td style=\"text-align: center\">1|0</td><td style=\"text-align: center\">1|0</td><td style=\"text-align: center\">1|0</td><td style=\"text-align: center\">1|0</td><td style=\"text-align: center\">1|0</td></tr><tr><th style=\"text-align: center\">709397</th><td style=\"text-align: center\">0|0</td><td style=\"text-align: center\">1|1</td><td style=\"text-align: center\">0|1</td><td style=\"text-align: center\">0|1</td><td style=\"text-align: center\">0|1</td><td style=\"text-align: center\">...</td><td style=\"text-align: center\">0|1</td><td style=\"text-align: center\">0|1</td><td style=\"text-align: center\">0|1</td><td style=\"text-align: center\">0|1</td><td style=\"text-align: center\">0|1</td></tr><tr><th style=\"text-align: center\">709398</th><td style=\"text-align: center\">0|0</td><td style=\"text-align: center\">1|1</td><td style=\"text-align: center\">0|1</td><td style=\"text-align: center\">0|1</td><td style=\"text-align: center\">0|1</td><td style=\"text-align: center\">...</td><td style=\"text-align: center\">0|1</td><td style=\"text-align: center\">0|1</td><td style=\"text-align: center\">0|1</td><td style=\"text-align: center\">0|1</td><td style=\"text-align: center\">0|1</td></tr></table></div>"
      ],
      "text/plain": [
       "<GenotypeArray shape=(709399, 22, 2) dtype=int8>\n",
       "./. 0/0 0/1 0/0 0/0 ... 0/0 0/0 0/0 0/0 0/0\n",
       "./. 0/0 0/0 0/0 0/0 ... 0/0 0/0 0/0 0/0 0/0\n",
       "0|1 0|0 1|0 1|0 0|0 ... 0|0 0|0 0|0 0|0 0|0\n",
       "...\n",
       "1|1 0|0 1|0 1|0 1|0 ... 1|0 1|0 1|0 1|0 1|0\n",
       "0|0 1|1 0|1 0|1 0|1 ... 0|1 0|1 0|1 0|1 0|1\n",
       "0|0 1|1 0|1 0|1 0|1 ... 0|1 0|1 0|1 0|1 0|1"
      ]
     },
     "execution_count": 19,
     "metadata": {},
     "output_type": "execute_result"
    }
   ],
   "source": [
    "genotypes_cross_phased = allel.phase_by_transmission(genotypes_cross, window_size=100)\n",
    "genotypes_cross_phased"
   ]
  },
  {
   "cell_type": "markdown",
   "metadata": {},
   "source": [
    "Notice that most of the genotype calls in the snippet shown above now have a pipe character ('`|`') as the allele separator, indicating the call is phased. The first two SNPs are not phased, however, because the genotype call for one of the parents is missing."
   ]
  },
  {
   "cell_type": "markdown",
   "metadata": {},
   "source": [
    "## Visualising transmission\n",
    "\n",
    "Now we have phased data, let's plot the transmission of alleles from parents to progeny. This is a useful diagnostic for assessing the quality of the phasing, and also gives an indication of how much recombination has occurred.\n",
    "\n",
    "Before plotting, I'm going to separate out the data into maternal and paternal haplotypes. The maternal haplotypes are the two haplotypes carried by the mother, and the haplotype in each of the progeny inherited from the mother. The paternal haplotypes are the same but for the father."
   ]
  },
  {
   "cell_type": "code",
   "execution_count": 39,
   "metadata": {
    "collapsed": false
   },
   "outputs": [
    {
     "data": {
      "text/html": [
       "<div class=\"allel allel-DisplayAs2D\"><span>&lt;HaplotypeArray shape=(709399, 22) dtype=int8&gt;</span><table><tr><th></th><th style=\"text-align: center\">0</th><th style=\"text-align: center\">1</th><th style=\"text-align: center\">2</th><th style=\"text-align: center\">3</th><th style=\"text-align: center\">4</th><th style=\"text-align: center\">...</th><th style=\"text-align: center\">17</th><th style=\"text-align: center\">18</th><th style=\"text-align: center\">19</th><th style=\"text-align: center\">20</th><th style=\"text-align: center\">21</th></tr><tr><th style=\"text-align: center\">0</th><td style=\"text-align: center\">.</td><td style=\"text-align: center\">.</td><td style=\"text-align: center\">0</td><td style=\"text-align: center\">0</td><td style=\"text-align: center\">0</td><td style=\"text-align: center\">...</td><td style=\"text-align: center\">0</td><td style=\"text-align: center\">0</td><td style=\"text-align: center\">0</td><td style=\"text-align: center\">0</td><td style=\"text-align: center\">0</td></tr><tr><th style=\"text-align: center\">1</th><td style=\"text-align: center\">.</td><td style=\"text-align: center\">.</td><td style=\"text-align: center\">0</td><td style=\"text-align: center\">0</td><td style=\"text-align: center\">0</td><td style=\"text-align: center\">...</td><td style=\"text-align: center\">0</td><td style=\"text-align: center\">0</td><td style=\"text-align: center\">0</td><td style=\"text-align: center\">0</td><td style=\"text-align: center\">0</td></tr><tr><th style=\"text-align: center\">2</th><td style=\"text-align: center\">0</td><td style=\"text-align: center\">1</td><td style=\"text-align: center\">1</td><td style=\"text-align: center\">1</td><td style=\"text-align: center\">0</td><td style=\"text-align: center\">...</td><td style=\"text-align: center\">0</td><td style=\"text-align: center\">0</td><td style=\"text-align: center\">0</td><td style=\"text-align: center\">0</td><td style=\"text-align: center\">0</td></tr><tr><th style=\"text-align: center\">...</th><td style=\"text-align: center\" colspan=\"12\">...</td></tr><tr><th style=\"text-align: center\">709396</th><td style=\"text-align: center\">1</td><td style=\"text-align: center\">1</td><td style=\"text-align: center\">1</td><td style=\"text-align: center\">1</td><td style=\"text-align: center\">1</td><td style=\"text-align: center\">...</td><td style=\"text-align: center\">1</td><td style=\"text-align: center\">1</td><td style=\"text-align: center\">1</td><td style=\"text-align: center\">1</td><td style=\"text-align: center\">1</td></tr><tr><th style=\"text-align: center\">709397</th><td style=\"text-align: center\">0</td><td style=\"text-align: center\">0</td><td style=\"text-align: center\">0</td><td style=\"text-align: center\">0</td><td style=\"text-align: center\">0</td><td style=\"text-align: center\">...</td><td style=\"text-align: center\">0</td><td style=\"text-align: center\">0</td><td style=\"text-align: center\">0</td><td style=\"text-align: center\">0</td><td style=\"text-align: center\">0</td></tr><tr><th style=\"text-align: center\">709398</th><td style=\"text-align: center\">0</td><td style=\"text-align: center\">0</td><td style=\"text-align: center\">0</td><td style=\"text-align: center\">0</td><td style=\"text-align: center\">0</td><td style=\"text-align: center\">...</td><td style=\"text-align: center\">0</td><td style=\"text-align: center\">0</td><td style=\"text-align: center\">0</td><td style=\"text-align: center\">0</td><td style=\"text-align: center\">0</td></tr></table></div>"
      ],
      "text/plain": [
       "<HaplotypeArray shape=(709399, 22) dtype=int8>\n",
       ". . 0 0 0 ... 0 0 0 0 0\n",
       ". . 0 0 0 ... 0 0 0 0 0\n",
       "0 1 1 1 0 ... 0 0 0 0 0\n",
       "...\n",
       "1 1 1 1 1 ... 1 1 1 1 1\n",
       "0 0 0 0 0 ... 0 0 0 0 0\n",
       "0 0 0 0 0 ... 0 0 0 0 0"
      ]
     },
     "execution_count": 39,
     "metadata": {},
     "output_type": "execute_result"
    }
   ],
   "source": [
    "# pull out mother's genotypes from the first column\n",
    "genotypes_mother = genotypes_cross_phased[:, 0]\n",
    "# convert to haplotype array\n",
    "haplotypes_mother = genotypes_mother.to_haplotypes()\n",
    "# pull out maternal haplotypes from the progeny\n",
    "haplotypes_progeny_maternal = allel.HaplotypeArray(genotypes_cross_phased[:, 2:, 0])\n",
    "# stack mother's haplotypes alongside haplotypes she transmitted to her progeny\n",
    "haplotypes_maternal = haplotypes_mother.concatenate(haplotypes_progeny_maternal, axis=1)\n",
    "haplotypes_maternal"
   ]
  },
  {
   "cell_type": "markdown",
   "metadata": {},
   "source": [
    "Let's fix on the mother for a moment. The mother has two haplotypes. Because recombination occurs during gamete formation, each haplotype the mother passes on to her progeny is a unique mosaic of her own two haplotypes. For any SNP where the two maternal haplotypes carry a different allele, we can \"paint\" the maternal haplotypes within the progeny according to which of the mother's two alleles were inherited, using the [`paint_transmission()`](@@) function."
   ]
  },
  {
   "cell_type": "code",
   "execution_count": 26,
   "metadata": {
    "collapsed": false
   },
   "outputs": [
    {
     "data": {
      "text/plain": [
       "array([[6, 6, 6, ..., 6, 6, 6],\n",
       "       [6, 6, 6, ..., 6, 6, 6],\n",
       "       [2, 2, 1, ..., 1, 1, 1],\n",
       "       ..., \n",
       "       [4, 4, 4, ..., 4, 4, 4],\n",
       "       [3, 3, 3, ..., 3, 3, 3],\n",
       "       [3, 3, 3, ..., 3, 3, 3]], dtype=uint8)"
      ]
     },
     "execution_count": 26,
     "metadata": {},
     "output_type": "execute_result"
    }
   ],
   "source": [
    "painting_maternal = allel.paint_transmission(haplotypes_mother, haplotypes_progeny_maternal)\n",
    "painting_maternal"
   ]
  },
  {
   "cell_type": "markdown",
   "metadata": {},
   "source": [
    "This new \"painting\" array is an array of integer codes, where each number means something. The meanings are given in the help text for the [`paint_transmission()`](@@) function:"
   ]
  },
  {
   "cell_type": "code",
   "execution_count": 35,
   "metadata": {
    "collapsed": false
   },
   "outputs": [
    {
     "name": "stdout",
     "output_type": "stream",
     "text": [
      "Help on function paint_transmission in module allel.stats.mendel:\n",
      "\n",
      "paint_transmission(parent_haplotypes, progeny_haplotypes)\n",
      "    Paint haplotypes inherited from a single diploid parent according to\n",
      "    their allelic inheritance.\n",
      "    \n",
      "    Parameters\n",
      "    ----------\n",
      "    parent_haplotypes : array_like, int, shape (n_variants, 2)\n",
      "        Both haplotypes from a single diploid parent.\n",
      "    progeny_haplotypes : array_like, int, shape (n_variants, n_progeny)\n",
      "        Haplotypes found in progeny of the given parent, inherited from the\n",
      "        given parent. I.e., haplotypes from gametes of the given parent.\n",
      "    \n",
      "    Returns\n",
      "    -------\n",
      "    painting : ndarray, uint8, shape (n_variants, n_progeny)\n",
      "        An array of integers coded as follows: 1 = allele inherited from\n",
      "        first parental haplotype; 2 = allele inherited from second parental\n",
      "        haplotype; 3 = reference allele, also carried by both parental\n",
      "        haplotypes; 4 = non-reference allele, also carried by both parental\n",
      "        haplotypes; 5 = non-parental allele; 6 = either or both parental\n",
      "        alleles missing; 7 = missing allele; 0 = undetermined.\n",
      "    \n",
      "    Examples\n",
      "    --------\n",
      "    >>> import allel\n",
      "    >>> haplotypes = allel.HaplotypeArray([\n",
      "    ...     [0, 0, 0, 1, 2, -1],\n",
      "    ...     [0, 1, 0, 1, 2, -1],\n",
      "    ...     [1, 0, 0, 1, 2, -1],\n",
      "    ...     [1, 1, 0, 1, 2, -1],\n",
      "    ...     [0, 2, 0, 1, 2, -1],\n",
      "    ...     [0, -1, 0, 1, 2, -1],\n",
      "    ...     [-1, 1, 0, 1, 2, -1],\n",
      "    ...     [-1, -1, 0, 1, 2, -1],\n",
      "    ... ], dtype='i1')\n",
      "    >>> painting = allel.stats.paint_transmission(haplotypes[:, :2],\n",
      "    ...                                           haplotypes[:, 2:])\n",
      "    >>> painting\n",
      "    array([[3, 5, 5, 7],\n",
      "           [1, 2, 5, 7],\n",
      "           [2, 1, 5, 7],\n",
      "           [5, 4, 5, 7],\n",
      "           [1, 5, 2, 7],\n",
      "           [6, 6, 6, 7],\n",
      "           [6, 6, 6, 7],\n",
      "           [6, 6, 6, 7]], dtype=uint8)\n",
      "\n"
     ]
    }
   ],
   "source": [
    "help(allel.paint_transmission)"
   ]
  },
  {
   "cell_type": "markdown",
   "metadata": {},
   "source": [
    "We are particularly interested in plotting the \"1\" and \"2\" values, because these occur where the mother's haplotypes carried two different alleles, and so we have information about which allele has been transmitted.\n",
    "\n",
    "We can do the same for the father."
   ]
  },
  {
   "cell_type": "code",
   "execution_count": 37,
   "metadata": {
    "collapsed": false
   },
   "outputs": [
    {
     "data": {
      "text/html": [
       "<div class=\"allel allel-DisplayAs2D\"><span>&lt;HaplotypeArray shape=(709399, 22) dtype=int8&gt;</span><table><tr><th></th><th style=\"text-align: center\">0</th><th style=\"text-align: center\">1</th><th style=\"text-align: center\">2</th><th style=\"text-align: center\">3</th><th style=\"text-align: center\">4</th><th style=\"text-align: center\">...</th><th style=\"text-align: center\">17</th><th style=\"text-align: center\">18</th><th style=\"text-align: center\">19</th><th style=\"text-align: center\">20</th><th style=\"text-align: center\">21</th></tr><tr><th style=\"text-align: center\">0</th><td style=\"text-align: center\">0</td><td style=\"text-align: center\">0</td><td style=\"text-align: center\">1</td><td style=\"text-align: center\">0</td><td style=\"text-align: center\">0</td><td style=\"text-align: center\">...</td><td style=\"text-align: center\">0</td><td style=\"text-align: center\">0</td><td style=\"text-align: center\">0</td><td style=\"text-align: center\">0</td><td style=\"text-align: center\">0</td></tr><tr><th style=\"text-align: center\">1</th><td style=\"text-align: center\">0</td><td style=\"text-align: center\">0</td><td style=\"text-align: center\">0</td><td style=\"text-align: center\">0</td><td style=\"text-align: center\">0</td><td style=\"text-align: center\">...</td><td style=\"text-align: center\">0</td><td style=\"text-align: center\">0</td><td style=\"text-align: center\">0</td><td style=\"text-align: center\">0</td><td style=\"text-align: center\">0</td></tr><tr><th style=\"text-align: center\">2</th><td style=\"text-align: center\">0</td><td style=\"text-align: center\">0</td><td style=\"text-align: center\">0</td><td style=\"text-align: center\">0</td><td style=\"text-align: center\">0</td><td style=\"text-align: center\">...</td><td style=\"text-align: center\">0</td><td style=\"text-align: center\">0</td><td style=\"text-align: center\">0</td><td style=\"text-align: center\">0</td><td style=\"text-align: center\">0</td></tr><tr><th style=\"text-align: center\">...</th><td style=\"text-align: center\" colspan=\"12\">...</td></tr><tr><th style=\"text-align: center\">709396</th><td style=\"text-align: center\">0</td><td style=\"text-align: center\">0</td><td style=\"text-align: center\">0</td><td style=\"text-align: center\">0</td><td style=\"text-align: center\">0</td><td style=\"text-align: center\">...</td><td style=\"text-align: center\">0</td><td style=\"text-align: center\">0</td><td style=\"text-align: center\">0</td><td style=\"text-align: center\">0</td><td style=\"text-align: center\">0</td></tr><tr><th style=\"text-align: center\">709397</th><td style=\"text-align: center\">1</td><td style=\"text-align: center\">1</td><td style=\"text-align: center\">1</td><td style=\"text-align: center\">1</td><td style=\"text-align: center\">1</td><td style=\"text-align: center\">...</td><td style=\"text-align: center\">1</td><td style=\"text-align: center\">1</td><td style=\"text-align: center\">1</td><td style=\"text-align: center\">1</td><td style=\"text-align: center\">1</td></tr><tr><th style=\"text-align: center\">709398</th><td style=\"text-align: center\">1</td><td style=\"text-align: center\">1</td><td style=\"text-align: center\">1</td><td style=\"text-align: center\">1</td><td style=\"text-align: center\">1</td><td style=\"text-align: center\">...</td><td style=\"text-align: center\">1</td><td style=\"text-align: center\">1</td><td style=\"text-align: center\">1</td><td style=\"text-align: center\">1</td><td style=\"text-align: center\">1</td></tr></table></div>"
      ],
      "text/plain": [
       "<HaplotypeArray shape=(709399, 22) dtype=int8>\n",
       "0 0 1 0 0 ... 0 0 0 0 0\n",
       "0 0 0 0 0 ... 0 0 0 0 0\n",
       "0 0 0 0 0 ... 0 0 0 0 0\n",
       "...\n",
       "0 0 0 0 0 ... 0 0 0 0 0\n",
       "1 1 1 1 1 ... 1 1 1 1 1\n",
       "1 1 1 1 1 ... 1 1 1 1 1"
      ]
     },
     "execution_count": 37,
     "metadata": {},
     "output_type": "execute_result"
    }
   ],
   "source": [
    "genotypes_father = genotypes_cross_phased[:, 1]\n",
    "haplotypes_father = genotypes_father.to_haplotypes()\n",
    "haplotypes_progeny_paternal = allel.HaplotypeArray(genotypes_cross_phased[:, 2:, 1])\n",
    "haplotypes_paternal = haplotypes_father.concatenate(haplotypes_progeny_paternal, axis=1)\n",
    "haplotypes_paternal"
   ]
  },
  {
   "cell_type": "code",
   "execution_count": 38,
   "metadata": {
    "collapsed": false
   },
   "outputs": [
    {
     "data": {
      "text/plain": [
       "array([[5, 3, 3, ..., 3, 3, 3],\n",
       "       [3, 3, 3, ..., 3, 3, 3],\n",
       "       [3, 3, 3, ..., 3, 3, 3],\n",
       "       ..., \n",
       "       [3, 3, 3, ..., 3, 3, 3],\n",
       "       [4, 4, 4, ..., 4, 4, 4],\n",
       "       [4, 4, 4, ..., 4, 4, 4]], dtype=uint8)"
      ]
     },
     "execution_count": 38,
     "metadata": {},
     "output_type": "execute_result"
    }
   ],
   "source": [
    "painting_paternal = allel.paint_transmission(haplotypes_father, haplotypes_progeny_paternal)\n",
    "painting_paternal"
   ]
  },
  {
   "cell_type": "markdown",
   "metadata": {},
   "source": [
    "Notice the \"5\" code in this snippet. This code indicates an allele that is found on a progeny haplotype but not present on either of the parent's haplotypes. This is not possible according to the rules of Mendelian transmission, and hence is a form of \"Mendelian error\".\n",
    "\n",
    "Now we have these \"paintings\", it is fairly straightforward to plot them."
   ]
  },
  {
   "cell_type": "code",
   "execution_count": null,
   "metadata": {
    "collapsed": true
   },
   "outputs": [],
   "source": []
  }
 ],
 "metadata": {
  "kernelspec": {
   "display_name": "Python 3",
   "language": "python",
   "name": "python3"
  },
  "language_info": {
   "codemirror_mode": {
    "name": "ipython",
    "version": 3
   },
   "file_extension": ".py",
   "mimetype": "text/x-python",
   "name": "python",
   "nbconvert_exporter": "python",
   "pygments_lexer": "ipython3",
   "version": "3.5.3"
  }
 },
 "nbformat": 4,
 "nbformat_minor": 2
}
