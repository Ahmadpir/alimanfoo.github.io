{
 "cells": [
  {
   "cell_type": "markdown",
   "metadata": {},
   "source": [
    "*Notes on reducing I/O bottlenecks in parallel computations with [Dask](http://dask.pydata.org/en/latest/) and [Zarr](http://zarr.readthedocs.io/en/latest/).*"
   ]
  },
  {
   "cell_type": "markdown",
   "metadata": {},
   "source": [
    "When I'm analysing data I tend to keep one eye on the system monitor at the top of my screen. The height of the green bar tells me how much RAM I'm using and the height of the blue bar tells me how much CPU..."
   ]
  },
  {
   "cell_type": "markdown",
   "metadata": {},
   "source": [
    "<p><image src='/assets/Selection_058.png' alt='status bar'/></p>"
   ]
  },
  {
   "cell_type": "markdown",
   "metadata": {},
   "source": [
    "I'll kick off a computation then look up to see what's happening. Most of the time the blue bar chugs away at 1/8 height, which means that 1 of the 8 logical cores on my computer is fully utilised and the others are idle. I spend a fair amount of time waiting for computations to finish and it started to bug me that 7/8 CPU capacity was going spare. Many of the computations I run are simple and could be parallelized, so I started looking into ways of adapting my analysis code to make better use of multiple CPUs."
   ]
  },
  {
   "cell_type": "markdown",
   "metadata": {},
   "source": [
    "## Dask + HDF5"
   ]
  },
  {
   "cell_type": "markdown",
   "metadata": {},
   "source": [
    "One solution I really like is [Dask](http://dask.pydata.org). Using [``dask.array``](http://dask.pydata.org/en/latest/array.html) it's simple to parallelize a wide range of operations over numerical arrays, using either multiple threads or multiple processes. To evaluate Dask I wrote an alternative [Dask-backed implementation](http://scikit-allel.readthedocs.io/en/latest/model/dask.html) of some of the basic genetic data transformations I use every day. I then ran these on some [data from the Ag1000G project](https://www.malariagen.net/data/ag1000g-phase1-ar3) using Dask's multi-threaded scheduler, hoping to see my idle CPU fire up to maximum capacity..."
   ]
  },
  {
   "cell_type": "code",
   "execution_count": 1,
   "metadata": {
    "collapsed": false
   },
   "outputs": [
    {
     "name": "stdout",
     "output_type": "stream",
     "text": [
      "dask 0.11.1\n",
      "scikit-allel 1.0.0b4\n"
     ]
    },
    {
     "data": {
      "text/html": [
       "\n",
       "    <div class=\"bk-banner\">\n",
       "        <a href=\"http://bokeh.pydata.org\" target=\"_blank\" class=\"bk-logo bk-logo-small bk-logo-notebook\"></a>\n",
       "        <span id=\"f69445ad-24a9-4b7a-9c48-77567f9cddd9\">Loading BokehJS ...</span>\n",
       "    </div>"
      ]
     },
     "metadata": {},
     "output_type": "display_data"
    },
    {
     "data": {
      "application/javascript": [
       "\n",
       "(function(global) {\n",
       "  function now() {\n",
       "    return new Date();\n",
       "  }\n",
       "\n",
       "  if (typeof (window._bokeh_onload_callbacks) === \"undefined\") {\n",
       "    window._bokeh_onload_callbacks = [];\n",
       "  }\n",
       "\n",
       "  function run_callbacks() {\n",
       "    window._bokeh_onload_callbacks.forEach(function(callback) { callback() });\n",
       "    delete window._bokeh_onload_callbacks\n",
       "    console.info(\"Bokeh: all callbacks have finished\");\n",
       "  }\n",
       "\n",
       "  function load_libs(js_urls, callback) {\n",
       "    window._bokeh_onload_callbacks.push(callback);\n",
       "    if (window._bokeh_is_loading > 0) {\n",
       "      console.log(\"Bokeh: BokehJS is being loaded, scheduling callback at\", now());\n",
       "      return null;\n",
       "    }\n",
       "    if (js_urls == null || js_urls.length === 0) {\n",
       "      run_callbacks();\n",
       "      return null;\n",
       "    }\n",
       "    console.log(\"Bokeh: BokehJS not loaded, scheduling load and callback at\", now());\n",
       "    window._bokeh_is_loading = js_urls.length;\n",
       "    for (var i = 0; i < js_urls.length; i++) {\n",
       "      var url = js_urls[i];\n",
       "      var s = document.createElement('script');\n",
       "      s.src = url;\n",
       "      s.async = false;\n",
       "      s.onreadystatechange = s.onload = function() {\n",
       "        window._bokeh_is_loading--;\n",
       "        if (window._bokeh_is_loading === 0) {\n",
       "          console.log(\"Bokeh: all BokehJS libraries loaded\");\n",
       "          run_callbacks()\n",
       "        }\n",
       "      };\n",
       "      s.onerror = function() {\n",
       "        console.warn(\"failed to load library \" + url);\n",
       "      };\n",
       "      console.log(\"Bokeh: injecting script tag for BokehJS library: \", url);\n",
       "      document.getElementsByTagName(\"head\")[0].appendChild(s);\n",
       "    }\n",
       "  };\n",
       "\n",
       "  var js_urls = ['https://cdn.pydata.org/bokeh/release/bokeh-0.11.1.min.js', 'https://cdn.pydata.org/bokeh/release/bokeh-widgets-0.11.1.min.js', 'https://cdn.pydata.org/bokeh/release/bokeh-compiler-0.11.1.min.js'];\n",
       "\n",
       "  var inline_js = [\n",
       "    function(Bokeh) {\n",
       "      Bokeh.set_log_level(\"info\");\n",
       "    },\n",
       "    \n",
       "    function(Bokeh) {\n",
       "      Bokeh.$(\"#f69445ad-24a9-4b7a-9c48-77567f9cddd9\").text(\"BokehJS successfully loaded\");\n",
       "    },\n",
       "    function(Bokeh) {\n",
       "      console.log(\"Bokeh: injecting CSS: https://cdn.pydata.org/bokeh/release/bokeh-0.11.1.min.css\");\n",
       "      Bokeh.embed.inject_css(\"https://cdn.pydata.org/bokeh/release/bokeh-0.11.1.min.css\");\n",
       "      console.log(\"Bokeh: injecting CSS: https://cdn.pydata.org/bokeh/release/bokeh-widgets-0.11.1.min.css\");\n",
       "      Bokeh.embed.inject_css(\"https://cdn.pydata.org/bokeh/release/bokeh-widgets-0.11.1.min.css\");\n",
       "    }\n",
       "  ];\n",
       "\n",
       "  function run_inline_js() {\n",
       "    for (var i = 0; i < inline_js.length; i++) {\n",
       "      inline_js[i](window.Bokeh);\n",
       "    }\n",
       "  }\n",
       "\n",
       "  if (window._bokeh_is_loading === 0) {\n",
       "    console.log(\"Bokeh: BokehJS loaded, going straight to plotting\");\n",
       "    run_inline_js();\n",
       "  } else {\n",
       "    load_libs(js_urls, function() {\n",
       "      console.log(\"Bokeh: BokehJS plotting callback run at\", now());\n",
       "      run_inline_js();\n",
       "    });\n",
       "  }\n",
       "}(this));"
      ]
     },
     "metadata": {},
     "output_type": "display_data"
    }
   ],
   "source": [
    "import h5py\n",
    "import multiprocessing\n",
    "import dask; print('dask', dask.__version__)\n",
    "import dask.array as da\n",
    "from dask.diagnostics import Profiler, ResourceProfiler, CacheProfiler\n",
    "from dask.diagnostics.profile_visualize import visualize\n",
    "from cachey import nbytes\n",
    "import allel; print('scikit-allel', allel.__version__)\n",
    "import bokeh\n",
    "from bokeh.io import output_notebook\n",
    "output_notebook()\n",
    "from functools import reduce\n",
    "import operator"
   ]
  },
  {
   "cell_type": "code",
   "execution_count": 2,
   "metadata": {
    "collapsed": false
   },
   "outputs": [
    {
     "data": {
      "text/plain": [
       "<HDF5 dataset \"genotype\": shape (13167162, 765, 2), type \"|i1\">"
      ]
     },
     "execution_count": 2,
     "metadata": {},
     "output_type": "execute_result"
    }
   ],
   "source": [
    "# Setup input data, using data on local SSD\n",
    "callset = h5py.File('data/2016-05-16/ag1000g.phase1.ar3.pass.3R.h5', mode='r')\n",
    "genotype = callset['3R/calldata/genotype']\n",
    "genotype"
   ]
  },
  {
   "cell_type": "code",
   "execution_count": 3,
   "metadata": {
    "collapsed": false
   },
   "outputs": [
    {
     "data": {
      "text/plain": [
       "('gzip', 3)"
      ]
     },
     "execution_count": 3,
     "metadata": {},
     "output_type": "execute_result"
    }
   ],
   "source": [
    "# check how the data were compressed\n",
    "genotype.compression, genotype.compression_opts"
   ]
  },
  {
   "cell_type": "code",
   "execution_count": 4,
   "metadata": {
    "collapsed": false
   },
   "outputs": [
    {
     "data": {
      "text/plain": [
       "8"
      ]
     },
     "execution_count": 4,
     "metadata": {},
     "output_type": "execute_result"
    }
   ],
   "source": [
    "# how many cores on this computer?\n",
    "multiprocessing.cpu_count()"
   ]
  },
  {
   "cell_type": "code",
   "execution_count": 5,
   "metadata": {
    "collapsed": false
   },
   "outputs": [
    {
     "data": {
      "text/plain": [
       "(6553, 200, 2)"
      ]
     },
     "execution_count": 5,
     "metadata": {},
     "output_type": "execute_result"
    }
   ],
   "source": [
    "# when I made the HDF5 file I set the chunks too small, so let's operate on bigger chunks\n",
    "chunks = (genotype.chunks[0], genotype.chunks[1] * 20, genotype.chunks[2])\n",
    "chunks"
   ]
  },
  {
   "cell_type": "code",
   "execution_count": 6,
   "metadata": {
    "collapsed": false
   },
   "outputs": [
    {
     "name": "stdout",
     "output_type": "stream",
     "text": [
      "chunk size: 2.6 MB\n"
     ]
    }
   ],
   "source": [
    "import humanize\n",
    "import numpy as np\n",
    "print('chunk size:', humanize.naturalsize(np.product(chunks)))"
   ]
  },
  {
   "cell_type": "code",
   "execution_count": 7,
   "metadata": {
    "collapsed": false
   },
   "outputs": [
    {
     "name": "stdout",
     "output_type": "stream",
     "text": [
      "#!/bin/bash\r\n",
      "# This must be run as sudo, so to avoid passwords this \r\n",
      "# script should be set in the sudoers file with NOPASSWD.\r\n",
      "echo 1 > /proc/sys/vm/drop_caches\r\n",
      "\r\n"
     ]
    }
   ],
   "source": [
    "!cat /usr/local/bin/drop_caches"
   ]
  },
  {
   "cell_type": "code",
   "execution_count": 8,
   "metadata": {
    "collapsed": true
   },
   "outputs": [],
   "source": [
    "# ensure OS page cache is cleared \n",
    "!sudo drop_caches"
   ]
  },
  {
   "cell_type": "code",
   "execution_count": 9,
   "metadata": {
    "collapsed": false
   },
   "outputs": [
    {
     "data": {
      "text/html": [
       "\n",
       "\n",
       "    <div class=\"plotdiv\" id=\"3dd93326-a996-4cca-8b94-dc1f2c0645fb\"></div>\n",
       "<script type=\"text/javascript\">\n",
       "  \n",
       "  (function(global) {\n",
       "    function now() {\n",
       "      return new Date();\n",
       "    }\n",
       "  \n",
       "    if (typeof (window._bokeh_onload_callbacks) === \"undefined\") {\n",
       "      window._bokeh_onload_callbacks = [];\n",
       "    }\n",
       "  \n",
       "    function run_callbacks() {\n",
       "      window._bokeh_onload_callbacks.forEach(function(callback) { callback() });\n",
       "      delete window._bokeh_onload_callbacks\n",
       "      console.info(\"Bokeh: all callbacks have finished\");\n",
       "    }\n",
       "  \n",
       "    function load_libs(js_urls, callback) {\n",
       "      window._bokeh_onload_callbacks.push(callback);\n",
       "      if (window._bokeh_is_loading > 0) {\n",
       "        console.log(\"Bokeh: BokehJS is being loaded, scheduling callback at\", now());\n",
       "        return null;\n",
       "      }\n",
       "      if (js_urls == null || js_urls.length === 0) {\n",
       "        run_callbacks();\n",
       "        return null;\n",
       "      }\n",
       "      console.log(\"Bokeh: BokehJS not loaded, scheduling load and callback at\", now());\n",
       "      window._bokeh_is_loading = js_urls.length;\n",
       "      for (var i = 0; i < js_urls.length; i++) {\n",
       "        var url = js_urls[i];\n",
       "        var s = document.createElement('script');\n",
       "        s.src = url;\n",
       "        s.async = false;\n",
       "        s.onreadystatechange = s.onload = function() {\n",
       "          window._bokeh_is_loading--;\n",
       "          if (window._bokeh_is_loading === 0) {\n",
       "            console.log(\"Bokeh: all BokehJS libraries loaded\");\n",
       "            run_callbacks()\n",
       "          }\n",
       "        };\n",
       "        s.onerror = function() {\n",
       "          console.warn(\"failed to load library \" + url);\n",
       "        };\n",
       "        console.log(\"Bokeh: injecting script tag for BokehJS library: \", url);\n",
       "        document.getElementsByTagName(\"head\")[0].appendChild(s);\n",
       "      }\n",
       "    };var element = document.getElementById(\"3dd93326-a996-4cca-8b94-dc1f2c0645fb\");\n",
       "    if (element == null) {\n",
       "      console.log(\"Bokeh: ERROR: autoload.js configured with elementid '3dd93326-a996-4cca-8b94-dc1f2c0645fb' but no matching script tag was found. \")\n",
       "      return false;\n",
       "    }\n",
       "  \n",
       "    var js_urls = [];\n",
       "  \n",
       "    var inline_js = [\n",
       "      function(Bokeh) {\n",
       "        Bokeh.$(function() {\n",
       "            var docs_json = {\"590d9ae5-e6a7-45e4-9807-4688df58d77a\":{\"roots\":{\"references\":[{\"attributes\":{\"legends\":[[\"% CPU\",[{\"id\":\"997e76ed-cd45-4286-8e99-57cd1fb42561\",\"type\":\"GlyphRenderer\"}]],[\"Memory\",[{\"id\":\"f18ab0d5-f359-4633-830a-65b1d773993d\",\"type\":\"GlyphRenderer\"}]]],\"plot\":{\"id\":\"2192b746-99fd-40ee-98d7-7c41a8f10856\",\"subtype\":\"Figure\",\"type\":\"Plot\"}},\"id\":\"2987bb98-f0f9-44e6-8aac-06603d54c292\",\"type\":\"Legend\"},{\"attributes\":{\"axis_label\":\"Time (s)\",\"formatter\":{\"id\":\"49a48a56-bab4-460b-be8d-9a27c1de319e\",\"type\":\"BasicTickFormatter\"},\"plot\":{\"id\":\"2192b746-99fd-40ee-98d7-7c41a8f10856\",\"subtype\":\"Figure\",\"type\":\"Plot\"},\"ticker\":{\"id\":\"72d715ac-8680-41d5-8190-9dc114894189\",\"type\":\"BasicTicker\"}},\"id\":\"07a042a1-5bdc-473f-860c-77885278259d\",\"type\":\"LinearAxis\"},{\"attributes\":{\"axis_label\":\"% CPU\",\"formatter\":{\"id\":\"3ed7aa1a-c1a4-45a4-a81c-bbaf1bc7fbd9\",\"type\":\"BasicTickFormatter\"},\"plot\":{\"id\":\"2192b746-99fd-40ee-98d7-7c41a8f10856\",\"subtype\":\"Figure\",\"type\":\"Plot\"},\"ticker\":{\"id\":\"6ae62019-2a56-4872-b22c-db8aa96dd2a4\",\"type\":\"BasicTicker\"}},\"id\":\"d749628d-2598-40ce-8ee8-6f1d5c3d569d\",\"type\":\"LinearAxis\"},{\"attributes\":{\"below\":[{\"id\":\"07a042a1-5bdc-473f-860c-77885278259d\",\"type\":\"LinearAxis\"}],\"extra_y_ranges\":{\"memory\":{\"id\":\"fc11f57f-5dcf-416e-a0ea-4c14094664da\",\"type\":\"Range1d\"}},\"left\":[{\"id\":\"d749628d-2598-40ce-8ee8-6f1d5c3d569d\",\"type\":\"LinearAxis\"}],\"plot_height\":300,\"plot_width\":800,\"renderers\":[{\"id\":\"07a042a1-5bdc-473f-860c-77885278259d\",\"type\":\"LinearAxis\"},{\"id\":\"f8eb28c8-d8a9-4080-afeb-d31367c48dfc\",\"type\":\"Grid\"},{\"id\":\"d749628d-2598-40ce-8ee8-6f1d5c3d569d\",\"type\":\"LinearAxis\"},{\"id\":\"5d2654a4-d340-47cb-8513-f57e84d9d647\",\"type\":\"Grid\"},{\"id\":\"2987bb98-f0f9-44e6-8aac-06603d54c292\",\"type\":\"Legend\"},{\"id\":\"997e76ed-cd45-4286-8e99-57cd1fb42561\",\"type\":\"GlyphRenderer\"},{\"id\":\"f18ab0d5-f359-4633-830a-65b1d773993d\",\"type\":\"GlyphRenderer\"},{\"id\":\"08438e4f-01f5-4ada-b3be-45cd31d19e47\",\"type\":\"LinearAxis\"}],\"right\":[{\"id\":\"08438e4f-01f5-4ada-b3be-45cd31d19e47\",\"type\":\"LinearAxis\"}],\"title\":\"Profile Results\",\"tool_events\":{\"id\":\"5220a80a-282f-479f-8b3e-d0e19a1d5ab5\",\"type\":\"ToolEvents\"},\"tools\":[{\"id\":\"8aef3155-382f-4e72-8c08-d5be09c69104\",\"type\":\"PreviewSaveTool\"},{\"id\":\"32541596-3b91-42f3-b03e-48a373460515\",\"type\":\"ResetTool\"},{\"id\":\"df332944-9547-4ff9-be17-a9a81d17c8b0\",\"type\":\"ResizeTool\"},{\"id\":\"1a579a18-dcfd-457c-a3ff-268c724cfd00\",\"type\":\"WheelZoomTool\"},{\"id\":\"de2623a4-4427-40d0-ab02-9146c99279ab\",\"type\":\"PanTool\"}],\"x_range\":{\"id\":\"1d8d1093-77b6-4410-abc8-5224bb83eff9\",\"type\":\"Range1d\"},\"y_range\":{\"id\":\"2290ca75-dbf6-45ca-93a2-35ac1e298758\",\"type\":\"Range1d\"}},\"id\":\"2192b746-99fd-40ee-98d7-7c41a8f10856\",\"subtype\":\"Figure\",\"type\":\"Plot\"},{\"attributes\":{\"dimension\":1,\"plot\":{\"id\":\"2192b746-99fd-40ee-98d7-7c41a8f10856\",\"subtype\":\"Figure\",\"type\":\"Plot\"},\"ticker\":{\"id\":\"6ae62019-2a56-4872-b22c-db8aa96dd2a4\",\"type\":\"BasicTicker\"}},\"id\":\"5d2654a4-d340-47cb-8513-f57e84d9d647\",\"type\":\"Grid\"},{\"attributes\":{\"callback\":null,\"column_names\":[\"x\",\"y\"],\"data\":{\"x\":[0.0,1.020351061000838,2.0216233730025124,3.022917068003153,4.024211183001171,5.025467273997492,6.026875092997216,7.028189051998197,8.02945283200097,9.030793858000834,10.032075629002065,11.033378305000952,12.03468349600007,13.035725365996768,14.037032961001387,15.03829831800249,16.03958813600184,17.040849099998013,18.04220088799775,19.043494254998222,20.044842547998996,21.046168763001333,22.047472527003265,23.04881361399748,24.049859232000017,25.05114377800055,26.051800421002554,27.053062915998453,28.05351545799931,29.05478985299851,30.056158847000916,31.057463199002086,32.058788100999664,33.06007256200246,34.061367483998765,35.062567332999606,36.06391817700205,37.0652260679999,38.066540678999445,39.06773901900306,40.06904101800319,41.07032427700324,42.07106590899639,43.07238402799703,44.07366687100148,45.07496508400072,46.076290495999274,47.077604234997125,48.07889515400166,49.07973378799943,50.081003403996874,51.082362674998876,52.08369164499891,53.08498121800221,54.08634465200157,55.08761001899984,56.08895050400315,57.09024209200288,58.0915067599999,59.09287318400311,60.09424671799934,61.09555200199975,62.096869095999864,63.09817463399668,64.09947087299952,65.10083225300332,66.10212589499861,67.10341231000348,68.10395287199935,69.10524844400061,70.10654195999814,71.10782898199977,72.10912926599849,73.11051765800221,74.11181967199809,75.11311609300174,76.11438025999814,77.11569047300145,78.11698446600349,79.11827858899778,80.11869302899868,81.11998097600008,82.12082168299821,83.12211007600126,84.12339914400218,85.12472377400263,86.12599156799843,87.12737319200096,88.12772950100043,89.12902987399866,90.1303487710029,91.13168628799758,92.1330065229995,93.13429762500164,94.13577514600183,95.13723640600074,96.13817172899871,97.13943835700047,98.14075771899661,99.14206914399983,100.14343255700078,101.14471090000006,102.14600708900252,103.14739021300193,104.1487882759975,105.15007751999656,106.15137165800115,107.15268733900302,108.15398293999897,109.15428950500063,110.1556555549978,111.15695219799818,112.1582593819985,113.15954388299724,114.16085534200101,115.1621677639996,116.1634535560006,117.16480563100049,118.16610901599779,119.16741220199765,120.16872462099855,121.1699913659977,122.1712906679968,123.17258827399928,124.17322594900179,125.17451106500084,126.17586048100202,127.17720269200072],\"y\":[0.0,102.0,129.8,131.8,132.8,129.8,132.8,130.8,129.8,131.8,130.8,132.8,131.8,131.9,131.8,130.8,130.8,131.8,132.8,130.8,130.8,132.8,129.8,130.8,131.9,131.8,131.9,131.8,130.9,130.8,130.8,131.8,130.8,131.8,131.8,130.8,130.8,131.8,130.8,131.8,131.8,131.8,133.9,130.8,130.8,131.8,130.8,130.8,131.8,131.9,132.8,131.8,130.8,129.8,130.8,132.8,130.8,131.8,131.8,129.8,131.8,130.8,130.8,131.8,130.8,130.8,130.8,130.8,131.9,129.8,132.8,130.8,130.8,129.8,131.8,132.8,131.8,131.8,130.8,132.8,131.9,130.8,129.9,132.8,131.8,130.8,132.8,130.8,132.0,131.8,131.8,129.8,132.8,131.8,131.8,132.8,130.9,130.8,131.8,131.8,132.8,131.8,131.8,129.8,131.8,129.8,133.8,130.8,130.8,132.0,129.8,131.8,131.8,130.8,129.8,132.8,131.8,129.8,132.8,130.8,130.8,130.8,130.8,132.8,131.9,130.8,129.8,129.8]}},\"id\":\"972c2e1d-794e-40bb-89fc-ef577bfd8cc5\",\"type\":\"ColumnDataSource\"},{\"attributes\":{\"line_alpha\":{\"value\":0.1},\"line_color\":{\"value\":\"#1f77b4\"},\"line_width\":{\"value\":4},\"x\":{\"field\":\"x\"},\"y\":{\"field\":\"y\"}},\"id\":\"9ab06ecd-f2b9-4bbc-b26c-7fa6d1d91b0e\",\"type\":\"Line\"},{\"attributes\":{\"dimensions\":[\"width\"],\"plot\":{\"id\":\"2192b746-99fd-40ee-98d7-7c41a8f10856\",\"subtype\":\"Figure\",\"type\":\"Plot\"}},\"id\":\"1a579a18-dcfd-457c-a3ff-268c724cfd00\",\"type\":\"WheelZoomTool\"},{\"attributes\":{\"callback\":null,\"end\":133.9},\"id\":\"2290ca75-dbf6-45ca-93a2-35ac1e298758\",\"type\":\"Range1d\"},{\"attributes\":{\"plot\":{\"id\":\"2192b746-99fd-40ee-98d7-7c41a8f10856\",\"subtype\":\"Figure\",\"type\":\"Plot\"},\"ticker\":{\"id\":\"72d715ac-8680-41d5-8190-9dc114894189\",\"type\":\"BasicTicker\"}},\"id\":\"f8eb28c8-d8a9-4080-afeb-d31367c48dfc\",\"type\":\"Grid\"},{\"attributes\":{\"data_source\":{\"id\":\"c759cc28-6232-4b09-bc7d-2340da7af8a1\",\"type\":\"ColumnDataSource\"},\"glyph\":{\"id\":\"b3906186-c2e6-45ab-885e-92afcf9fdb7a\",\"type\":\"Line\"},\"hover_glyph\":null,\"nonselection_glyph\":{\"id\":\"232c8908-cea6-4c85-893d-5e489c01f839\",\"type\":\"Line\"},\"selection_glyph\":null,\"y_range_name\":\"memory\"},\"id\":\"f18ab0d5-f359-4633-830a-65b1d773993d\",\"type\":\"GlyphRenderer\"},{\"attributes\":{\"plot\":{\"id\":\"2192b746-99fd-40ee-98d7-7c41a8f10856\",\"subtype\":\"Figure\",\"type\":\"Plot\"}},\"id\":\"df332944-9547-4ff9-be17-a9a81d17c8b0\",\"type\":\"ResizeTool\"},{\"attributes\":{},\"id\":\"6ae62019-2a56-4872-b22c-db8aa96dd2a4\",\"type\":\"BasicTicker\"},{\"attributes\":{},\"id\":\"d239f48a-296f-4d2d-b006-d3b640108e37\",\"type\":\"BasicTickFormatter\"},{\"attributes\":{\"line_alpha\":{\"value\":0.1},\"line_color\":{\"value\":\"#1f77b4\"},\"line_width\":{\"value\":4},\"x\":{\"field\":\"x\"},\"y\":{\"field\":\"y\"}},\"id\":\"232c8908-cea6-4c85-893d-5e489c01f839\",\"type\":\"Line\"},{\"attributes\":{},\"id\":\"9fe15e34-ffe6-42a0-9a5c-9da0ec299792\",\"type\":\"BasicTicker\"},{\"attributes\":{},\"id\":\"3ed7aa1a-c1a4-45a4-a81c-bbaf1bc7fbd9\",\"type\":\"BasicTickFormatter\"},{\"attributes\":{\"callback\":null,\"column_names\":[\"y\",\"x\"],\"data\":{\"x\":[0.0,1.020351061000838,2.0216233730025124,3.022917068003153,4.024211183001171,5.025467273997492,6.026875092997216,7.028189051998197,8.02945283200097,9.030793858000834,10.032075629002065,11.033378305000952,12.03468349600007,13.035725365996768,14.037032961001387,15.03829831800249,16.03958813600184,17.040849099998013,18.04220088799775,19.043494254998222,20.044842547998996,21.046168763001333,22.047472527003265,23.04881361399748,24.049859232000017,25.05114377800055,26.051800421002554,27.053062915998453,28.05351545799931,29.05478985299851,30.056158847000916,31.057463199002086,32.058788100999664,33.06007256200246,34.061367483998765,35.062567332999606,36.06391817700205,37.0652260679999,38.066540678999445,39.06773901900306,40.06904101800319,41.07032427700324,42.07106590899639,43.07238402799703,44.07366687100148,45.07496508400072,46.076290495999274,47.077604234997125,48.07889515400166,49.07973378799943,50.081003403996874,51.082362674998876,52.08369164499891,53.08498121800221,54.08634465200157,55.08761001899984,56.08895050400315,57.09024209200288,58.0915067599999,59.09287318400311,60.09424671799934,61.09555200199975,62.096869095999864,63.09817463399668,64.09947087299952,65.10083225300332,66.10212589499861,67.10341231000348,68.10395287199935,69.10524844400061,70.10654195999814,71.10782898199977,72.10912926599849,73.11051765800221,74.11181967199809,75.11311609300174,76.11438025999814,77.11569047300145,78.11698446600349,79.11827858899778,80.11869302899868,81.11998097600008,82.12082168299821,83.12211007600126,84.12339914400218,85.12472377400263,86.12599156799843,87.12737319200096,88.12772950100043,89.12902987399866,90.1303487710029,91.13168628799758,92.1330065229995,93.13429762500164,94.13577514600183,95.13723640600074,96.13817172899871,97.13943835700047,98.14075771899661,99.14206914399983,100.14343255700078,101.14471090000006,102.14600708900252,103.14739021300193,104.1487882759975,105.15007751999656,106.15137165800115,107.15268733900302,108.15398293999897,109.15428950500063,110.1556555549978,111.15695219799818,112.1582593819985,113.15954388299724,114.16085534200101,115.1621677639996,116.1634535560006,117.16480563100049,118.16610901599779,119.16741220199765,120.16872462099855,121.1699913659977,122.1712906679968,123.17258827399928,124.17322594900179,125.17451106500084,126.17586048100202,127.17720269200072],\"y\":[252.870656,266.354688,308.211712,311.164928,316.264448,321.101824,320.294912,325.18144,332.71808,336.920576,340.41856,346.619904,348.491776,355.913728,357.281792,360.517632,364.285952,369.33632,371.494912,376.078336,380.952576,383.348736,393.342976,392.921088,395.419648,402.460672,406.704128,408.326144,408.875008,411.639808,420.143104,426.811392,430.596096,436.555776,437.63712,441.368576,447.176704,450.043904,455.991296,459.10016,461.799424,465.846272,471.515136,474.165248,476.594176,480.649216,484.970496,489.02144,490.63936,494.690304,499.924992,504.520704,506.953728,511.266816,515.579904,523.083776,520.331264,530.06336,533.917696,535.330816,542.281728,548.487168,550.375424,557.129728,561.995776,565.235712,566.706176,568.864768,575.885312,578.859008,583.184384,586.153984,590.999552,591.798272,599.355392,600.526848,605.663232,612.1472,615.657472,619.442176,622.542848,627.675136,628.486144,631.136256,637.628416,642.494464,645.464064,650.596352,655.187968,659.243008,660.320256,665.726976,668.430336,673.120256,679.866368,680.685568,689.876992,690.024448,693.53472,699.203584,703.791104,705.683456,711.081984,715.132928,717.836288,727.01952,725.528576,728.768512,730.927104,736.321536,737.132544,741.183488,752.263168,756.318208,759.513088,761.401344,765.452288,768.57344,770.469888,775.0656,778.842112,782.348288,785.043456,788.815872,793.391104,797.413376,804.974592,1021.558784]}},\"id\":\"c759cc28-6232-4b09-bc7d-2340da7af8a1\",\"type\":\"ColumnDataSource\"},{\"attributes\":{\"plot\":{\"id\":\"2192b746-99fd-40ee-98d7-7c41a8f10856\",\"subtype\":\"Figure\",\"type\":\"Plot\"}},\"id\":\"8aef3155-382f-4e72-8c08-d5be09c69104\",\"type\":\"PreviewSaveTool\"},{\"attributes\":{\"callback\":null,\"end\":1021.558784,\"start\":252.870656},\"id\":\"fc11f57f-5dcf-416e-a0ea-4c14094664da\",\"type\":\"Range1d\"},{\"attributes\":{},\"id\":\"49a48a56-bab4-460b-be8d-9a27c1de319e\",\"type\":\"BasicTickFormatter\"},{\"attributes\":{},\"id\":\"72d715ac-8680-41d5-8190-9dc114894189\",\"type\":\"BasicTicker\"},{\"attributes\":{\"plot\":{\"id\":\"2192b746-99fd-40ee-98d7-7c41a8f10856\",\"subtype\":\"Figure\",\"type\":\"Plot\"}},\"id\":\"32541596-3b91-42f3-b03e-48a373460515\",\"type\":\"ResetTool\"},{\"attributes\":{\"line_color\":{\"value\":\"#253494\"},\"line_width\":{\"value\":4},\"x\":{\"field\":\"x\"},\"y\":{\"field\":\"y\"}},\"id\":\"0cbc814a-3b8e-4332-a0db-3c2e7dffeedf\",\"type\":\"Line\"},{\"attributes\":{\"line_color\":{\"value\":\"#41b6c4\"},\"line_width\":{\"value\":4},\"x\":{\"field\":\"x\"},\"y\":{\"field\":\"y\"}},\"id\":\"b3906186-c2e6-45ab-885e-92afcf9fdb7a\",\"type\":\"Line\"},{\"attributes\":{},\"id\":\"5220a80a-282f-479f-8b3e-d0e19a1d5ab5\",\"type\":\"ToolEvents\"},{\"attributes\":{\"axis_label\":\"Memory (MB)\",\"formatter\":{\"id\":\"d239f48a-296f-4d2d-b006-d3b640108e37\",\"type\":\"BasicTickFormatter\"},\"plot\":{\"id\":\"2192b746-99fd-40ee-98d7-7c41a8f10856\",\"subtype\":\"Figure\",\"type\":\"Plot\"},\"ticker\":{\"id\":\"9fe15e34-ffe6-42a0-9a5c-9da0ec299792\",\"type\":\"BasicTicker\"},\"y_range_name\":\"memory\"},\"id\":\"08438e4f-01f5-4ada-b3be-45cd31d19e47\",\"type\":\"LinearAxis\"},{\"attributes\":{\"callback\":null,\"end\":127.17720269200072},\"id\":\"1d8d1093-77b6-4410-abc8-5224bb83eff9\",\"type\":\"Range1d\"},{\"attributes\":{\"data_source\":{\"id\":\"972c2e1d-794e-40bb-89fc-ef577bfd8cc5\",\"type\":\"ColumnDataSource\"},\"glyph\":{\"id\":\"0cbc814a-3b8e-4332-a0db-3c2e7dffeedf\",\"type\":\"Line\"},\"hover_glyph\":null,\"nonselection_glyph\":{\"id\":\"9ab06ecd-f2b9-4bbc-b26c-7fa6d1d91b0e\",\"type\":\"Line\"},\"selection_glyph\":null},\"id\":\"997e76ed-cd45-4286-8e99-57cd1fb42561\",\"type\":\"GlyphRenderer\"},{\"attributes\":{\"dimensions\":[\"width\"],\"plot\":{\"id\":\"2192b746-99fd-40ee-98d7-7c41a8f10856\",\"subtype\":\"Figure\",\"type\":\"Plot\"}},\"id\":\"de2623a4-4427-40d0-ab02-9146c99279ab\",\"type\":\"PanTool\"}],\"root_ids\":[\"2192b746-99fd-40ee-98d7-7c41a8f10856\"]},\"title\":\"Bokeh Application\",\"version\":\"0.11.1\"}};\n",
       "            var render_items = [{\"docid\":\"590d9ae5-e6a7-45e4-9807-4688df58d77a\",\"elementid\":\"3dd93326-a996-4cca-8b94-dc1f2c0645fb\",\"modelid\":\"2192b746-99fd-40ee-98d7-7c41a8f10856\",\"notebook_comms_target\":\"1fa7db56-3366-4326-b48f-35389142c627\"}];\n",
       "            \n",
       "            Bokeh.embed.embed_items(docs_json, render_items);\n",
       "        });\n",
       "      },\n",
       "      function(Bokeh) {\n",
       "      }\n",
       "    ];\n",
       "  \n",
       "    function run_inline_js() {\n",
       "      for (var i = 0; i < inline_js.length; i++) {\n",
       "        inline_js[i](window.Bokeh);\n",
       "      }\n",
       "    }\n",
       "  \n",
       "    if (window._bokeh_is_loading === 0) {\n",
       "      console.log(\"Bokeh: BokehJS loaded, going straight to plotting\");\n",
       "      run_inline_js();\n",
       "    } else {\n",
       "      load_libs(js_urls, function() {\n",
       "        console.log(\"Bokeh: BokehJS plotting callback run at\", now());\n",
       "        run_inline_js();\n",
       "      });\n",
       "    }\n",
       "  }(this));\n",
       "</script>"
      ]
     },
     "metadata": {},
     "output_type": "display_data"
    }
   ],
   "source": [
    "# run the allele count computation via Dask\n",
    "gd = allel.GenotypeDaskArray(genotype, chunks=chunks)\n",
    "ac = gd.count_alleles(max_allele=3)\n",
    "with ResourceProfiler(dt=1) as rprof:\n",
    "    ac.compute()\n",
    "visualize(rprof);"
   ]
  },
  {
   "cell_type": "markdown",
   "metadata": {},
   "source": [
    "As you can see from the plot above, this computation uses just over 1 core (~130% CPU). The limiting factor is related to [h5py](h5py.org) which I've used to pull input data out of an [HDF5 file](https://www.hdfgroup.org/HDF5/). The h5py library is a totally awesome piece of software that I use every day, but HDF5 is not designed to support multi-threaded data access. Also, h5py doesn't release the [GIL](https://wiki.python.org/moin/GlobalInterpreterLock), a Python technicality which means other threads cannot run while h5py is doing anything, even if the other threads want to do something unrelated to HDF5 I/O."
   ]
  },
  {
   "cell_type": "markdown",
   "metadata": {},
   "source": [
    "## Dask + Zarr"
   ]
  },
  {
   "cell_type": "markdown",
   "metadata": {},
   "source": [
    "Recently I've been working on [Zarr](zarr.readthedocs.io/), a new Python library for chunked, compressed, N-dimensional data. Previously I [introduced Zarr](http://alimanfoo.github.io/2016/04/14/to-hdf5-and-beyond.html) and showed how it can be used to get fast access into large multi-dimensional arrays. The other thing Zarr can do is let you read or write to an array from multiple threads or processes in parallel. Also, Zarr releases the GIL during compression and decompression, so other threads can carry on working. Here's the allele count example again, but this time using a Zarr array as the input data source:"
   ]
  },
  {
   "cell_type": "code",
   "execution_count": 11,
   "metadata": {
    "collapsed": false
   },
   "outputs": [
    {
     "data": {
      "text/plain": [
       "'2.1.3'"
      ]
     },
     "execution_count": 11,
     "metadata": {},
     "output_type": "execute_result"
    }
   ],
   "source": [
    "import zarr\n",
    "zarr.__version__"
   ]
  },
  {
   "cell_type": "code",
   "execution_count": 12,
   "metadata": {
    "collapsed": false
   },
   "outputs": [
    {
     "data": {
      "text/plain": [
       "Array((13167162, 765, 2), int8, chunks=(6553, 200, 2), order=C)\n",
       "  nbytes: 18.8G; nbytes_stored: 640.7M; ratio: 30.0; initialized: 8040/8040\n",
       "  compressor: Blosc(cname='zlib', clevel=3, shuffle=0)\n",
       "  store: DirectoryStore"
      ]
     },
     "execution_count": 12,
     "metadata": {},
     "output_type": "execute_result"
    }
   ],
   "source": [
    "# Setup a Zarr array, copying in genotype data from the HDF5 file.\n",
    "# N.B., let's use the similar compression options as the HDF5 file for a fairer\n",
    "# comparison, although other compressors might be faster.\n",
    "# Let's also use SSD, same as where HDF5 was stored above.\n",
    "genotype_zarr = zarr.open_like(genotype, path='data/2016-05-16/genotype.zarr', mode='w', \n",
    "                               chunks=chunks, compression='blosc',\n",
    "                               compression_opts=dict(cname='zlib', clevel=3, shuffle=0))\n",
    "genotype_zarr[:] = genotype\n",
    "genotype_zarr"
   ]
  },
  {
   "cell_type": "code",
   "execution_count": 13,
   "metadata": {
    "collapsed": true
   },
   "outputs": [],
   "source": [
    "# ensure OS pagecache is cleared \n",
    "!sudo drop_caches"
   ]
  },
  {
   "cell_type": "code",
   "execution_count": 14,
   "metadata": {
    "collapsed": false
   },
   "outputs": [
    {
     "data": {
      "text/html": [
       "\n",
       "\n",
       "    <div class=\"plotdiv\" id=\"cc41ad4c-4194-4fe3-85db-bb7f1ac376ea\"></div>\n",
       "<script type=\"text/javascript\">\n",
       "  \n",
       "  (function(global) {\n",
       "    function now() {\n",
       "      return new Date();\n",
       "    }\n",
       "  \n",
       "    if (typeof (window._bokeh_onload_callbacks) === \"undefined\") {\n",
       "      window._bokeh_onload_callbacks = [];\n",
       "    }\n",
       "  \n",
       "    function run_callbacks() {\n",
       "      window._bokeh_onload_callbacks.forEach(function(callback) { callback() });\n",
       "      delete window._bokeh_onload_callbacks\n",
       "      console.info(\"Bokeh: all callbacks have finished\");\n",
       "    }\n",
       "  \n",
       "    function load_libs(js_urls, callback) {\n",
       "      window._bokeh_onload_callbacks.push(callback);\n",
       "      if (window._bokeh_is_loading > 0) {\n",
       "        console.log(\"Bokeh: BokehJS is being loaded, scheduling callback at\", now());\n",
       "        return null;\n",
       "      }\n",
       "      if (js_urls == null || js_urls.length === 0) {\n",
       "        run_callbacks();\n",
       "        return null;\n",
       "      }\n",
       "      console.log(\"Bokeh: BokehJS not loaded, scheduling load and callback at\", now());\n",
       "      window._bokeh_is_loading = js_urls.length;\n",
       "      for (var i = 0; i < js_urls.length; i++) {\n",
       "        var url = js_urls[i];\n",
       "        var s = document.createElement('script');\n",
       "        s.src = url;\n",
       "        s.async = false;\n",
       "        s.onreadystatechange = s.onload = function() {\n",
       "          window._bokeh_is_loading--;\n",
       "          if (window._bokeh_is_loading === 0) {\n",
       "            console.log(\"Bokeh: all BokehJS libraries loaded\");\n",
       "            run_callbacks()\n",
       "          }\n",
       "        };\n",
       "        s.onerror = function() {\n",
       "          console.warn(\"failed to load library \" + url);\n",
       "        };\n",
       "        console.log(\"Bokeh: injecting script tag for BokehJS library: \", url);\n",
       "        document.getElementsByTagName(\"head\")[0].appendChild(s);\n",
       "      }\n",
       "    };var element = document.getElementById(\"cc41ad4c-4194-4fe3-85db-bb7f1ac376ea\");\n",
       "    if (element == null) {\n",
       "      console.log(\"Bokeh: ERROR: autoload.js configured with elementid 'cc41ad4c-4194-4fe3-85db-bb7f1ac376ea' but no matching script tag was found. \")\n",
       "      return false;\n",
       "    }\n",
       "  \n",
       "    var js_urls = [];\n",
       "  \n",
       "    var inline_js = [\n",
       "      function(Bokeh) {\n",
       "        Bokeh.$(function() {\n",
       "            var docs_json = {\"3476eed3-e97b-4462-9153-8b38f2b3c145\":{\"roots\":{\"references\":[{\"attributes\":{},\"id\":\"201b5173-8d3c-4826-a84d-007d45c205a0\",\"type\":\"BasicTickFormatter\"},{\"attributes\":{\"dimension\":1,\"plot\":{\"id\":\"2192b746-99fd-40ee-98d7-7c41a8f10856\",\"subtype\":\"Figure\",\"type\":\"Plot\"},\"ticker\":{\"id\":\"6ae62019-2a56-4872-b22c-db8aa96dd2a4\",\"type\":\"BasicTicker\"}},\"id\":\"5d2654a4-d340-47cb-8513-f57e84d9d647\",\"type\":\"Grid\"},{\"attributes\":{},\"id\":\"7a9c5011-e8c0-4dbf-8c75-2c0a1263cb0f\",\"type\":\"BasicTicker\"},{\"attributes\":{\"line_alpha\":{\"value\":0.1},\"line_color\":{\"value\":\"#1f77b4\"},\"line_width\":{\"value\":4},\"x\":{\"field\":\"x\"},\"y\":{\"field\":\"y\"}},\"id\":\"9764d8db-ca2e-4854-8a59-23f3a4519199\",\"type\":\"Line\"},{\"attributes\":{\"callback\":null,\"end\":1340.534784,\"start\":973.869056},\"id\":\"43334d8a-080c-4540-a6bc-243b77d3a311\",\"type\":\"Range1d\"},{\"attributes\":{\"dimensions\":[\"width\"],\"plot\":{\"id\":\"2192b746-99fd-40ee-98d7-7c41a8f10856\",\"subtype\":\"Figure\",\"type\":\"Plot\"}},\"id\":\"1a579a18-dcfd-457c-a3ff-268c724cfd00\",\"type\":\"WheelZoomTool\"},{\"attributes\":{\"callback\":null,\"end\":133.9},\"id\":\"2290ca75-dbf6-45ca-93a2-35ac1e298758\",\"type\":\"Range1d\"},{\"attributes\":{\"dimension\":1,\"plot\":{\"id\":\"648da514-c73a-4f1c-b594-8089647be127\",\"subtype\":\"Figure\",\"type\":\"Plot\"},\"ticker\":{\"id\":\"46ef529c-c935-419f-ba97-44bc6557a008\",\"type\":\"BasicTicker\"}},\"id\":\"c46d7f58-e9be-43c8-ae57-bf8400f8a897\",\"type\":\"Grid\"},{\"attributes\":{\"axis_label\":\"Memory (MB)\",\"formatter\":{\"id\":\"8ff0b8d7-3be2-479c-8966-849c3229c60c\",\"type\":\"BasicTickFormatter\"},\"plot\":{\"id\":\"648da514-c73a-4f1c-b594-8089647be127\",\"subtype\":\"Figure\",\"type\":\"Plot\"},\"ticker\":{\"id\":\"0449b9b9-6c46-470f-8590-e15e4da2f211\",\"type\":\"BasicTicker\"},\"y_range_name\":\"memory\"},\"id\":\"d29d6ef9-72a5-40b0-adfe-92b16fc2acaa\",\"type\":\"LinearAxis\"},{\"attributes\":{\"dimensions\":[\"width\"],\"plot\":{\"id\":\"89138761-3bbc-4e96-939e-93b3ff9a887f\",\"subtype\":\"Figure\",\"type\":\"Plot\"}},\"id\":\"ac9cfd04-098b-40c7-b722-12d89e69635a\",\"type\":\"PanTool\"},{\"attributes\":{},\"id\":\"26e2637d-02b5-4e54-987a-03938deebc05\",\"type\":\"BasicTickFormatter\"},{\"attributes\":{\"plot\":{\"id\":\"2192b746-99fd-40ee-98d7-7c41a8f10856\",\"subtype\":\"Figure\",\"type\":\"Plot\"}},\"id\":\"df332944-9547-4ff9-be17-a9a81d17c8b0\",\"type\":\"ResizeTool\"},{\"attributes\":{\"axis_label\":\"% CPU\",\"formatter\":{\"id\":\"3ed7aa1a-c1a4-45a4-a81c-bbaf1bc7fbd9\",\"type\":\"BasicTickFormatter\"},\"plot\":{\"id\":\"2192b746-99fd-40ee-98d7-7c41a8f10856\",\"subtype\":\"Figure\",\"type\":\"Plot\"},\"ticker\":{\"id\":\"6ae62019-2a56-4872-b22c-db8aa96dd2a4\",\"type\":\"BasicTicker\"}},\"id\":\"d749628d-2598-40ce-8ee8-6f1d5c3d569d\",\"type\":\"LinearAxis\"},{\"attributes\":{\"line_color\":{\"value\":\"#41b6c4\"},\"line_width\":{\"value\":4},\"x\":{\"field\":\"x\"},\"y\":{\"field\":\"y\"}},\"id\":\"534287eb-4e13-4e1c-8b4b-f67e47baccb8\",\"type\":\"Line\"},{\"attributes\":{},\"id\":\"d239f48a-296f-4d2d-b006-d3b640108e37\",\"type\":\"BasicTickFormatter\"},{\"attributes\":{\"line_alpha\":{\"value\":0.1},\"line_color\":{\"value\":\"#1f77b4\"},\"line_width\":{\"value\":4},\"x\":{\"field\":\"x\"},\"y\":{\"field\":\"y\"}},\"id\":\"232c8908-cea6-4c85-893d-5e489c01f839\",\"type\":\"Line\"},{\"attributes\":{\"callback\":null,\"column_names\":[\"x\",\"y\"],\"data\":{\"x\":[0.0,1.0143253109999932,2.0155612239977927,3.01693399999931,4.018245297003887,5.018846094004402,6.020148328003415,7.021468019003805,8.022807276000094,9.024112184000842,10.025168897002004,11.02653271699819,12.02786617899983,13.029190393004683,14.030578721001802,15.03135482899961,16.032629450004606,17.03394069600472,18.035230030000093,19.036595782003133,20.03789811400202,21.039191109004605,22.04050322600233,23.04178739499912,24.043127466000442,25.044612620004045,26.04591193300439,27.04725227200106,28.048547028003668,29.0498424000034,30.051136499998393,31.052455400000326,32.053752006999275,33.05502802900446,34.056393753999146,35.05767425399972,36.05904188500426,37.060345293000864,38.061663202999625,39.062808105998556,40.06416501100466,41.06568570100353,42.06700941199961,43.06828932600183,44.0696432170007,45.070800624002004,46.0721108430007,47.07339799500187,48.074703263999254,49.07599657100218,50.07698814899777,51.07828383400192,52.07955550200131,53.080887098003586,54.08225346400286,55.08351852399937,56.08478386200295,57.08555878200423,58.08691681300115,59.08822017900093,60.08958498499851,61.09094135700434,62.09227328500128,63.09356146600476,64.09488638600305,65.09619603300234,66.09749707500305,67.09879715600255,68.09957369900076,69.10086332500214,70.10158063500421,71.10289183699933,72.10421298500296,73.10550937399967,74.10678477200418,75.10813360800239,76.10945169399929,77.1108116989999,78.1122282100041,79.11351960700267,80.11480474199925,81.11612945500383,82.1174250940021,83.1187382950011,84.12003584799822,85.12090355100372,86.12202192199766,87.12280020400067,88.12409532900347,89.12541394300206,90.12670342699857,91.12802545999875,92.12837522700283,93.12966397000127,94.13097134300187,95.13224543999968,96.13359674800449,97.1348166530006,98.13617492400226,99.13700259500183,100.13836080200417,101.13969141199777,102.14099644900125,103.14241833900451,104.14367383500212,105.14495648699813,106.14641655499872,107.1474881940012,108.14884364799946,109.15014385800168,110.15144719000091,111.15281032100029,112.15413033000368,113.15481192600419,114.1560468020034,115.15751873100089,116.15878871500172,117.16017116900184,118.16145223900094,119.1627566130046,120.16408468600275,121.16536901899963,122.16666931899817,123.16799552799785,124.16928933600138,125.170624710001,126.17197789600323],\"y\":[0.0,102.6,128.8,133.8,130.8,131.9,129.8,133.8,128.8,132.8,132.9,132.8,133.8,131.8,130.8,132.9,131.8,131.8,131.8,131.8,132.8,132.8,132.8,131.8,131.8,130.8,131.8,131.8,132.8,129.8,132.8,131.8,130.8,131.8,131.8,131.8,131.8,130.8,133.8,131.8,131.8,131.8,131.8,132.8,132.8,131.8,129.8,133.8,132.8,131.8,131.9,131.8,131.8,131.8,131.8,132.8,131.8,131.9,131.8,130.8,131.8,131.8,130.8,131.8,131.8,131.8,131.8,130.8,132.9,131.8,131.9,130.8,130.8,132.8,131.8,131.8,130.8,131.8,133.8,131.8,133.8,132.8,131.8,133.8,131.8,132.9,131.9,132.9,131.8,132.8,132.8,131.8,133.0,132.8,131.8,131.8,132.8,131.8,130.8,131.9,132.8,132.8,130.8,130.8,132.8,132.8,131.8,131.9,131.8,132.8,130.8,131.8,132.8,132.9,132.8,133.8,131.8,130.8,131.8,132.8,130.8,131.8,132.8,131.8,132.8,131.8,131.8]}},\"id\":\"b7c2a7e9-c63d-468e-83d3-cdcf8b7bc804\",\"type\":\"ColumnDataSource\"},{\"attributes\":{\"callback\":null,\"end\":1021.558784,\"start\":252.870656},\"id\":\"fc11f57f-5dcf-416e-a0ea-4c14094664da\",\"type\":\"Range1d\"},{\"attributes\":{\"plot\":{\"id\":\"648da514-c73a-4f1c-b594-8089647be127\",\"subtype\":\"Figure\",\"type\":\"Plot\"}},\"id\":\"8cc58f70-df0c-462a-b197-49ed76134369\",\"type\":\"PreviewSaveTool\"},{\"attributes\":{\"line_color\":{\"value\":\"#253494\"},\"line_width\":{\"value\":4},\"x\":{\"field\":\"x\"},\"y\":{\"field\":\"y\"}},\"id\":\"a7fa199c-8aa3-43f7-ab66-816f02dc4949\",\"type\":\"Line\"},{\"attributes\":{\"callback\":null,\"column_names\":[\"y\",\"x\"],\"data\":{\"x\":[0.0,1.0213050140009727,2.022573182999622,3.02389823699923,4.02480943500268,5.026184487003775,6.027501297998242,7.028806440997869,8.030163000003085,9.031481566002185,10.032834905003256,11.034162167998147,12.035467784000502,13.03680585300026,14.038170778003405],\"y\":[1104.605184,864.391168,880.04608,883.699712,894.562304,920.223744,951.775232,981.942272,1011.904512,1041.993728,1076.707328,1109.336064,1144.426496,1177.100288,1198.42816]}},\"id\":\"98b548ef-7bf3-408a-ac5b-492f822b4ab9\",\"type\":\"ColumnDataSource\"},{\"attributes\":{\"line_color\":{\"value\":\"#253494\"},\"line_width\":{\"value\":4},\"x\":{\"field\":\"x\"},\"y\":{\"field\":\"y\"}},\"id\":\"0cbc814a-3b8e-4332-a0db-3c2e7dffeedf\",\"type\":\"Line\"},{\"attributes\":{\"line_color\":{\"value\":\"#41b6c4\"},\"line_width\":{\"value\":4},\"x\":{\"field\":\"x\"},\"y\":{\"field\":\"y\"}},\"id\":\"b3906186-c2e6-45ab-885e-92afcf9fdb7a\",\"type\":\"Line\"},{\"attributes\":{\"data_source\":{\"id\":\"c759cc28-6232-4b09-bc7d-2340da7af8a1\",\"type\":\"ColumnDataSource\"},\"glyph\":{\"id\":\"b3906186-c2e6-45ab-885e-92afcf9fdb7a\",\"type\":\"Line\"},\"hover_glyph\":null,\"nonselection_glyph\":{\"id\":\"232c8908-cea6-4c85-893d-5e489c01f839\",\"type\":\"Line\"},\"selection_glyph\":null,\"y_range_name\":\"memory\"},\"id\":\"f18ab0d5-f359-4633-830a-65b1d773993d\",\"type\":\"GlyphRenderer\"},{\"attributes\":{\"plot\":{\"id\":\"2192b746-99fd-40ee-98d7-7c41a8f10856\",\"subtype\":\"Figure\",\"type\":\"Plot\"}},\"id\":\"32541596-3b91-42f3-b03e-48a373460515\",\"type\":\"ResetTool\"},{\"attributes\":{\"callback\":null,\"end\":1198.42816,\"start\":864.391168},\"id\":\"d9da2379-6da4-45f8-8ab2-86a38fa51daa\",\"type\":\"Range1d\"},{\"attributes\":{\"dimensions\":[\"width\"],\"plot\":{\"id\":\"2192b746-99fd-40ee-98d7-7c41a8f10856\",\"subtype\":\"Figure\",\"type\":\"Plot\"}},\"id\":\"de2623a4-4427-40d0-ab02-9146c99279ab\",\"type\":\"PanTool\"},{\"attributes\":{\"below\":[{\"id\":\"cb3a99d0-e45b-458e-9044-b13028c548dd\",\"type\":\"LinearAxis\"}],\"extra_y_ranges\":{\"memory\":{\"id\":\"43334d8a-080c-4540-a6bc-243b77d3a311\",\"type\":\"Range1d\"}},\"left\":[{\"id\":\"643e5d15-c2c3-4007-b22e-47db2c02a610\",\"type\":\"LinearAxis\"}],\"plot_height\":300,\"plot_width\":800,\"renderers\":[{\"id\":\"cb3a99d0-e45b-458e-9044-b13028c548dd\",\"type\":\"LinearAxis\"},{\"id\":\"5b7fc047-3408-4d6a-92f9-70f4b0493a52\",\"type\":\"Grid\"},{\"id\":\"643e5d15-c2c3-4007-b22e-47db2c02a610\",\"type\":\"LinearAxis\"},{\"id\":\"c46d7f58-e9be-43c8-ae57-bf8400f8a897\",\"type\":\"Grid\"},{\"id\":\"2b3f384d-3c78-4df9-9a02-cc5c2ad923c4\",\"type\":\"Legend\"},{\"id\":\"8480946a-88fb-4486-a279-6abf0f603369\",\"type\":\"GlyphRenderer\"},{\"id\":\"6fd4e3c5-722e-4f23-ad1e-a3004a0df512\",\"type\":\"GlyphRenderer\"},{\"id\":\"d29d6ef9-72a5-40b0-adfe-92b16fc2acaa\",\"type\":\"LinearAxis\"}],\"right\":[{\"id\":\"d29d6ef9-72a5-40b0-adfe-92b16fc2acaa\",\"type\":\"LinearAxis\"}],\"title\":\"Profile Results\",\"tool_events\":{\"id\":\"b8bd3b85-6136-46ba-8cd0-67885aed7b52\",\"type\":\"ToolEvents\"},\"tools\":[{\"id\":\"8cc58f70-df0c-462a-b197-49ed76134369\",\"type\":\"PreviewSaveTool\"},{\"id\":\"9e9e33b4-f882-4bd9-b59a-84cb8957cf38\",\"type\":\"ResetTool\"},{\"id\":\"fcf6be81-2b5d-41ed-918e-0709c447ec39\",\"type\":\"ResizeTool\"},{\"id\":\"525d1bc3-0040-47b5-ace0-70d3514526b1\",\"type\":\"WheelZoomTool\"},{\"id\":\"fe9330ac-184a-4517-94b0-134f29def591\",\"type\":\"PanTool\"}],\"x_range\":{\"id\":\"d213a333-b3af-47cb-8bfa-967ea2079a77\",\"type\":\"Range1d\"},\"y_range\":{\"id\":\"4b9e024d-7183-4370-b4f2-235b7e6b0635\",\"type\":\"Range1d\"}},\"id\":\"648da514-c73a-4f1c-b594-8089647be127\",\"subtype\":\"Figure\",\"type\":\"Plot\"},{\"attributes\":{\"line_alpha\":{\"value\":0.1},\"line_color\":{\"value\":\"#1f77b4\"},\"line_width\":{\"value\":4},\"x\":{\"field\":\"x\"},\"y\":{\"field\":\"y\"}},\"id\":\"96bcb7ab-25a2-41f5-84f0-824ad2916741\",\"type\":\"Line\"},{\"attributes\":{\"axis_label\":\"Time (s)\",\"formatter\":{\"id\":\"8ac9870b-1c25-4353-9379-2d136b9e3f7e\",\"type\":\"BasicTickFormatter\"},\"plot\":{\"id\":\"648da514-c73a-4f1c-b594-8089647be127\",\"subtype\":\"Figure\",\"type\":\"Plot\"},\"ticker\":{\"id\":\"821e6e8c-e705-46c4-8925-0f5fc88c51fc\",\"type\":\"BasicTicker\"}},\"id\":\"cb3a99d0-e45b-458e-9044-b13028c548dd\",\"type\":\"LinearAxis\"},{\"attributes\":{\"plot\":{\"id\":\"89138761-3bbc-4e96-939e-93b3ff9a887f\",\"subtype\":\"Figure\",\"type\":\"Plot\"}},\"id\":\"2d118b37-b95c-487e-9d60-f75e25b23e72\",\"type\":\"ResizeTool\"},{\"attributes\":{\"plot\":{\"id\":\"648da514-c73a-4f1c-b594-8089647be127\",\"subtype\":\"Figure\",\"type\":\"Plot\"},\"ticker\":{\"id\":\"821e6e8c-e705-46c4-8925-0f5fc88c51fc\",\"type\":\"BasicTicker\"}},\"id\":\"5b7fc047-3408-4d6a-92f9-70f4b0493a52\",\"type\":\"Grid\"},{\"attributes\":{\"data_source\":{\"id\":\"98b548ef-7bf3-408a-ac5b-492f822b4ab9\",\"type\":\"ColumnDataSource\"},\"glyph\":{\"id\":\"d2f52197-6b70-46f5-941f-c519c3126e8a\",\"type\":\"Line\"},\"hover_glyph\":null,\"nonselection_glyph\":{\"id\":\"96bcb7ab-25a2-41f5-84f0-824ad2916741\",\"type\":\"Line\"},\"selection_glyph\":null,\"y_range_name\":\"memory\"},\"id\":\"f159724e-e5fd-40d0-966c-f33e02df5cc5\",\"type\":\"GlyphRenderer\"},{\"attributes\":{},\"id\":\"8ff0b8d7-3be2-479c-8966-849c3229c60c\",\"type\":\"BasicTickFormatter\"},{\"attributes\":{},\"id\":\"821e6e8c-e705-46c4-8925-0f5fc88c51fc\",\"type\":\"BasicTicker\"},{\"attributes\":{\"data_source\":{\"id\":\"b7c2a7e9-c63d-468e-83d3-cdcf8b7bc804\",\"type\":\"ColumnDataSource\"},\"glyph\":{\"id\":\"dc842bf9-4094-4470-b772-4d61bf799940\",\"type\":\"Line\"},\"hover_glyph\":null,\"nonselection_glyph\":{\"id\":\"9839f6bb-2d38-4f77-b748-a2760a5ef74e\",\"type\":\"Line\"},\"selection_glyph\":null},\"id\":\"8480946a-88fb-4486-a279-6abf0f603369\",\"type\":\"GlyphRenderer\"},{\"attributes\":{\"plot\":{\"id\":\"89138761-3bbc-4e96-939e-93b3ff9a887f\",\"subtype\":\"Figure\",\"type\":\"Plot\"}},\"id\":\"e9f7df4a-2040-4650-a33d-f25c209e5d8a\",\"type\":\"ResetTool\"},{\"attributes\":{\"line_alpha\":{\"value\":0.1},\"line_color\":{\"value\":\"#1f77b4\"},\"line_width\":{\"value\":4},\"x\":{\"field\":\"x\"},\"y\":{\"field\":\"y\"}},\"id\":\"9ab06ecd-f2b9-4bbc-b26c-7fa6d1d91b0e\",\"type\":\"Line\"},{\"attributes\":{\"line_color\":{\"value\":\"#253494\"},\"line_width\":{\"value\":4},\"x\":{\"field\":\"x\"},\"y\":{\"field\":\"y\"}},\"id\":\"dc842bf9-4094-4470-b772-4d61bf799940\",\"type\":\"Line\"},{\"attributes\":{\"dimensions\":[\"width\"],\"plot\":{\"id\":\"89138761-3bbc-4e96-939e-93b3ff9a887f\",\"subtype\":\"Figure\",\"type\":\"Plot\"}},\"id\":\"7802ee7b-c587-464c-8aa9-2943d9faf71e\",\"type\":\"WheelZoomTool\"},{\"attributes\":{\"callback\":null,\"column_names\":[\"y\",\"x\"],\"data\":{\"x\":[0.0,1.020351061000838,2.0216233730025124,3.022917068003153,4.024211183001171,5.025467273997492,6.026875092997216,7.028189051998197,8.02945283200097,9.030793858000834,10.032075629002065,11.033378305000952,12.03468349600007,13.035725365996768,14.037032961001387,15.03829831800249,16.03958813600184,17.040849099998013,18.04220088799775,19.043494254998222,20.044842547998996,21.046168763001333,22.047472527003265,23.04881361399748,24.049859232000017,25.05114377800055,26.051800421002554,27.053062915998453,28.05351545799931,29.05478985299851,30.056158847000916,31.057463199002086,32.058788100999664,33.06007256200246,34.061367483998765,35.062567332999606,36.06391817700205,37.0652260679999,38.066540678999445,39.06773901900306,40.06904101800319,41.07032427700324,42.07106590899639,43.07238402799703,44.07366687100148,45.07496508400072,46.076290495999274,47.077604234997125,48.07889515400166,49.07973378799943,50.081003403996874,51.082362674998876,52.08369164499891,53.08498121800221,54.08634465200157,55.08761001899984,56.08895050400315,57.09024209200288,58.0915067599999,59.09287318400311,60.09424671799934,61.09555200199975,62.096869095999864,63.09817463399668,64.09947087299952,65.10083225300332,66.10212589499861,67.10341231000348,68.10395287199935,69.10524844400061,70.10654195999814,71.10782898199977,72.10912926599849,73.11051765800221,74.11181967199809,75.11311609300174,76.11438025999814,77.11569047300145,78.11698446600349,79.11827858899778,80.11869302899868,81.11998097600008,82.12082168299821,83.12211007600126,84.12339914400218,85.12472377400263,86.12599156799843,87.12737319200096,88.12772950100043,89.12902987399866,90.1303487710029,91.13168628799758,92.1330065229995,93.13429762500164,94.13577514600183,95.13723640600074,96.13817172899871,97.13943835700047,98.14075771899661,99.14206914399983,100.14343255700078,101.14471090000006,102.14600708900252,103.14739021300193,104.1487882759975,105.15007751999656,106.15137165800115,107.15268733900302,108.15398293999897,109.15428950500063,110.1556555549978,111.15695219799818,112.1582593819985,113.15954388299724,114.16085534200101,115.1621677639996,116.1634535560006,117.16480563100049,118.16610901599779,119.16741220199765,120.16872462099855,121.1699913659977,122.1712906679968,123.17258827399928,124.17322594900179,125.17451106500084,126.17586048100202,127.17720269200072],\"y\":[252.870656,266.354688,308.211712,311.164928,316.264448,321.101824,320.294912,325.18144,332.71808,336.920576,340.41856,346.619904,348.491776,355.913728,357.281792,360.517632,364.285952,369.33632,371.494912,376.078336,380.952576,383.348736,393.342976,392.921088,395.419648,402.460672,406.704128,408.326144,408.875008,411.639808,420.143104,426.811392,430.596096,436.555776,437.63712,441.368576,447.176704,450.043904,455.991296,459.10016,461.799424,465.846272,471.515136,474.165248,476.594176,480.649216,484.970496,489.02144,490.63936,494.690304,499.924992,504.520704,506.953728,511.266816,515.579904,523.083776,520.331264,530.06336,533.917696,535.330816,542.281728,548.487168,550.375424,557.129728,561.995776,565.235712,566.706176,568.864768,575.885312,578.859008,583.184384,586.153984,590.999552,591.798272,599.355392,600.526848,605.663232,612.1472,615.657472,619.442176,622.542848,627.675136,628.486144,631.136256,637.628416,642.494464,645.464064,650.596352,655.187968,659.243008,660.320256,665.726976,668.430336,673.120256,679.866368,680.685568,689.876992,690.024448,693.53472,699.203584,703.791104,705.683456,711.081984,715.132928,717.836288,727.01952,725.528576,728.768512,730.927104,736.321536,737.132544,741.183488,752.263168,756.318208,759.513088,761.401344,765.452288,768.57344,770.469888,775.0656,778.842112,782.348288,785.043456,788.815872,793.391104,797.413376,804.974592,1021.558784]}},\"id\":\"c759cc28-6232-4b09-bc7d-2340da7af8a1\",\"type\":\"ColumnDataSource\"},{\"attributes\":{\"dimensions\":[\"width\"],\"plot\":{\"id\":\"648da514-c73a-4f1c-b594-8089647be127\",\"subtype\":\"Figure\",\"type\":\"Plot\"}},\"id\":\"fe9330ac-184a-4517-94b0-134f29def591\",\"type\":\"PanTool\"},{\"attributes\":{},\"id\":\"3ed7aa1a-c1a4-45a4-a81c-bbaf1bc7fbd9\",\"type\":\"BasicTickFormatter\"},{\"attributes\":{},\"id\":\"49a48a56-bab4-460b-be8d-9a27c1de319e\",\"type\":\"BasicTickFormatter\"},{\"attributes\":{\"line_alpha\":{\"value\":0.1},\"line_color\":{\"value\":\"#1f77b4\"},\"line_width\":{\"value\":4},\"x\":{\"field\":\"x\"},\"y\":{\"field\":\"y\"}},\"id\":\"9839f6bb-2d38-4f77-b748-a2760a5ef74e\",\"type\":\"Line\"},{\"attributes\":{},\"id\":\"5220a80a-282f-479f-8b3e-d0e19a1d5ab5\",\"type\":\"ToolEvents\"},{\"attributes\":{},\"id\":\"6ae62019-2a56-4872-b22c-db8aa96dd2a4\",\"type\":\"BasicTicker\"},{\"attributes\":{\"plot\":{\"id\":\"648da514-c73a-4f1c-b594-8089647be127\",\"subtype\":\"Figure\",\"type\":\"Plot\"}},\"id\":\"9e9e33b4-f882-4bd9-b59a-84cb8957cf38\",\"type\":\"ResetTool\"},{\"attributes\":{\"callback\":null,\"end\":127.17720269200072},\"id\":\"1d8d1093-77b6-4410-abc8-5224bb83eff9\",\"type\":\"Range1d\"},{\"attributes\":{\"data_source\":{\"id\":\"972c2e1d-794e-40bb-89fc-ef577bfd8cc5\",\"type\":\"ColumnDataSource\"},\"glyph\":{\"id\":\"0cbc814a-3b8e-4332-a0db-3c2e7dffeedf\",\"type\":\"Line\"},\"hover_glyph\":null,\"nonselection_glyph\":{\"id\":\"9ab06ecd-f2b9-4bbc-b26c-7fa6d1d91b0e\",\"type\":\"Line\"},\"selection_glyph\":null},\"id\":\"997e76ed-cd45-4286-8e99-57cd1fb42561\",\"type\":\"GlyphRenderer\"},{\"attributes\":{\"below\":[{\"id\":\"78fd59ab-d081-4be2-833a-b1ee884149d4\",\"type\":\"LinearAxis\"}],\"extra_y_ranges\":{\"memory\":{\"id\":\"d9da2379-6da4-45f8-8ab2-86a38fa51daa\",\"type\":\"Range1d\"}},\"left\":[{\"id\":\"82f27798-17fc-41d7-9b03-f0d07aba9eab\",\"type\":\"LinearAxis\"}],\"plot_height\":300,\"plot_width\":800,\"renderers\":[{\"id\":\"78fd59ab-d081-4be2-833a-b1ee884149d4\",\"type\":\"LinearAxis\"},{\"id\":\"c09d7416-e3c5-4397-87ee-134e179e6326\",\"type\":\"Grid\"},{\"id\":\"82f27798-17fc-41d7-9b03-f0d07aba9eab\",\"type\":\"LinearAxis\"},{\"id\":\"5074e497-22c4-41fb-93ad-66c8cd3e1f26\",\"type\":\"Grid\"},{\"id\":\"a91abea7-d1da-4e61-a04a-257869dde6da\",\"type\":\"Legend\"},{\"id\":\"92c19b78-1e2b-44bb-9c11-5fb0702b37b2\",\"type\":\"GlyphRenderer\"},{\"id\":\"f159724e-e5fd-40d0-966c-f33e02df5cc5\",\"type\":\"GlyphRenderer\"},{\"id\":\"4d8c23c3-c6b1-4cc4-b419-244698f06042\",\"type\":\"LinearAxis\"}],\"right\":[{\"id\":\"4d8c23c3-c6b1-4cc4-b419-244698f06042\",\"type\":\"LinearAxis\"}],\"title\":\"Profile Results\",\"tool_events\":{\"id\":\"03b590ff-45de-45a7-bc59-43cfeef5e98c\",\"type\":\"ToolEvents\"},\"tools\":[{\"id\":\"38f626c5-dcd1-4275-901f-56ab33471850\",\"type\":\"PreviewSaveTool\"},{\"id\":\"e9f7df4a-2040-4650-a33d-f25c209e5d8a\",\"type\":\"ResetTool\"},{\"id\":\"2d118b37-b95c-487e-9d60-f75e25b23e72\",\"type\":\"ResizeTool\"},{\"id\":\"7802ee7b-c587-464c-8aa9-2943d9faf71e\",\"type\":\"WheelZoomTool\"},{\"id\":\"ac9cfd04-098b-40c7-b722-12d89e69635a\",\"type\":\"PanTool\"}],\"x_range\":{\"id\":\"bb03ab8e-272b-47b3-acba-f05d862c4929\",\"type\":\"Range1d\"},\"y_range\":{\"id\":\"ee559e51-4aa8-4ba3-9c42-31421285207a\",\"type\":\"Range1d\"}},\"id\":\"89138761-3bbc-4e96-939e-93b3ff9a887f\",\"subtype\":\"Figure\",\"type\":\"Plot\"},{\"attributes\":{\"legends\":[[\"% CPU\",[{\"id\":\"997e76ed-cd45-4286-8e99-57cd1fb42561\",\"type\":\"GlyphRenderer\"}]],[\"Memory\",[{\"id\":\"f18ab0d5-f359-4633-830a-65b1d773993d\",\"type\":\"GlyphRenderer\"}]]],\"plot\":{\"id\":\"2192b746-99fd-40ee-98d7-7c41a8f10856\",\"subtype\":\"Figure\",\"type\":\"Plot\"}},\"id\":\"2987bb98-f0f9-44e6-8aac-06603d54c292\",\"type\":\"Legend\"},{\"attributes\":{},\"id\":\"deff1c1d-74ec-4cc3-9def-3a6a47f8a753\",\"type\":\"BasicTicker\"},{\"attributes\":{},\"id\":\"0449b9b9-6c46-470f-8590-e15e4da2f211\",\"type\":\"BasicTicker\"},{\"attributes\":{\"below\":[{\"id\":\"07a042a1-5bdc-473f-860c-77885278259d\",\"type\":\"LinearAxis\"}],\"extra_y_ranges\":{\"memory\":{\"id\":\"fc11f57f-5dcf-416e-a0ea-4c14094664da\",\"type\":\"Range1d\"}},\"left\":[{\"id\":\"d749628d-2598-40ce-8ee8-6f1d5c3d569d\",\"type\":\"LinearAxis\"}],\"plot_height\":300,\"plot_width\":800,\"renderers\":[{\"id\":\"07a042a1-5bdc-473f-860c-77885278259d\",\"type\":\"LinearAxis\"},{\"id\":\"f8eb28c8-d8a9-4080-afeb-d31367c48dfc\",\"type\":\"Grid\"},{\"id\":\"d749628d-2598-40ce-8ee8-6f1d5c3d569d\",\"type\":\"LinearAxis\"},{\"id\":\"5d2654a4-d340-47cb-8513-f57e84d9d647\",\"type\":\"Grid\"},{\"id\":\"2987bb98-f0f9-44e6-8aac-06603d54c292\",\"type\":\"Legend\"},{\"id\":\"997e76ed-cd45-4286-8e99-57cd1fb42561\",\"type\":\"GlyphRenderer\"},{\"id\":\"f18ab0d5-f359-4633-830a-65b1d773993d\",\"type\":\"GlyphRenderer\"},{\"id\":\"08438e4f-01f5-4ada-b3be-45cd31d19e47\",\"type\":\"LinearAxis\"}],\"right\":[{\"id\":\"08438e4f-01f5-4ada-b3be-45cd31d19e47\",\"type\":\"LinearAxis\"}],\"title\":\"Profile Results\",\"tool_events\":{\"id\":\"5220a80a-282f-479f-8b3e-d0e19a1d5ab5\",\"type\":\"ToolEvents\"},\"tools\":[{\"id\":\"8aef3155-382f-4e72-8c08-d5be09c69104\",\"type\":\"PreviewSaveTool\"},{\"id\":\"32541596-3b91-42f3-b03e-48a373460515\",\"type\":\"ResetTool\"},{\"id\":\"df332944-9547-4ff9-be17-a9a81d17c8b0\",\"type\":\"ResizeTool\"},{\"id\":\"1a579a18-dcfd-457c-a3ff-268c724cfd00\",\"type\":\"WheelZoomTool\"},{\"id\":\"de2623a4-4427-40d0-ab02-9146c99279ab\",\"type\":\"PanTool\"}],\"x_range\":{\"id\":\"1d8d1093-77b6-4410-abc8-5224bb83eff9\",\"type\":\"Range1d\"},\"y_range\":{\"id\":\"2290ca75-dbf6-45ca-93a2-35ac1e298758\",\"type\":\"Range1d\"}},\"id\":\"2192b746-99fd-40ee-98d7-7c41a8f10856\",\"subtype\":\"Figure\",\"type\":\"Plot\"},{\"attributes\":{\"callback\":null,\"column_names\":[\"x\",\"y\"],\"data\":{\"x\":[0.0,1.020351061000838,2.0216233730025124,3.022917068003153,4.024211183001171,5.025467273997492,6.026875092997216,7.028189051998197,8.02945283200097,9.030793858000834,10.032075629002065,11.033378305000952,12.03468349600007,13.035725365996768,14.037032961001387,15.03829831800249,16.03958813600184,17.040849099998013,18.04220088799775,19.043494254998222,20.044842547998996,21.046168763001333,22.047472527003265,23.04881361399748,24.049859232000017,25.05114377800055,26.051800421002554,27.053062915998453,28.05351545799931,29.05478985299851,30.056158847000916,31.057463199002086,32.058788100999664,33.06007256200246,34.061367483998765,35.062567332999606,36.06391817700205,37.0652260679999,38.066540678999445,39.06773901900306,40.06904101800319,41.07032427700324,42.07106590899639,43.07238402799703,44.07366687100148,45.07496508400072,46.076290495999274,47.077604234997125,48.07889515400166,49.07973378799943,50.081003403996874,51.082362674998876,52.08369164499891,53.08498121800221,54.08634465200157,55.08761001899984,56.08895050400315,57.09024209200288,58.0915067599999,59.09287318400311,60.09424671799934,61.09555200199975,62.096869095999864,63.09817463399668,64.09947087299952,65.10083225300332,66.10212589499861,67.10341231000348,68.10395287199935,69.10524844400061,70.10654195999814,71.10782898199977,72.10912926599849,73.11051765800221,74.11181967199809,75.11311609300174,76.11438025999814,77.11569047300145,78.11698446600349,79.11827858899778,80.11869302899868,81.11998097600008,82.12082168299821,83.12211007600126,84.12339914400218,85.12472377400263,86.12599156799843,87.12737319200096,88.12772950100043,89.12902987399866,90.1303487710029,91.13168628799758,92.1330065229995,93.13429762500164,94.13577514600183,95.13723640600074,96.13817172899871,97.13943835700047,98.14075771899661,99.14206914399983,100.14343255700078,101.14471090000006,102.14600708900252,103.14739021300193,104.1487882759975,105.15007751999656,106.15137165800115,107.15268733900302,108.15398293999897,109.15428950500063,110.1556555549978,111.15695219799818,112.1582593819985,113.15954388299724,114.16085534200101,115.1621677639996,116.1634535560006,117.16480563100049,118.16610901599779,119.16741220199765,120.16872462099855,121.1699913659977,122.1712906679968,123.17258827399928,124.17322594900179,125.17451106500084,126.17586048100202,127.17720269200072],\"y\":[0.0,102.0,129.8,131.8,132.8,129.8,132.8,130.8,129.8,131.8,130.8,132.8,131.8,131.9,131.8,130.8,130.8,131.8,132.8,130.8,130.8,132.8,129.8,130.8,131.9,131.8,131.9,131.8,130.9,130.8,130.8,131.8,130.8,131.8,131.8,130.8,130.8,131.8,130.8,131.8,131.8,131.8,133.9,130.8,130.8,131.8,130.8,130.8,131.8,131.9,132.8,131.8,130.8,129.8,130.8,132.8,130.8,131.8,131.8,129.8,131.8,130.8,130.8,131.8,130.8,130.8,130.8,130.8,131.9,129.8,132.8,130.8,130.8,129.8,131.8,132.8,131.8,131.8,130.8,132.8,131.9,130.8,129.9,132.8,131.8,130.8,132.8,130.8,132.0,131.8,131.8,129.8,132.8,131.8,131.8,132.8,130.9,130.8,131.8,131.8,132.8,131.8,131.8,129.8,131.8,129.8,133.8,130.8,130.8,132.0,129.8,131.8,131.8,130.8,129.8,132.8,131.8,129.8,132.8,130.8,130.8,130.8,130.8,132.8,131.9,130.8,129.8,129.8]}},\"id\":\"972c2e1d-794e-40bb-89fc-ef577bfd8cc5\",\"type\":\"ColumnDataSource\"},{\"attributes\":{},\"id\":\"b8bd3b85-6136-46ba-8cd0-67885aed7b52\",\"type\":\"ToolEvents\"},{\"attributes\":{},\"id\":\"46ef529c-c935-419f-ba97-44bc6557a008\",\"type\":\"BasicTicker\"},{\"attributes\":{\"plot\":{\"id\":\"89138761-3bbc-4e96-939e-93b3ff9a887f\",\"subtype\":\"Figure\",\"type\":\"Plot\"}},\"id\":\"38f626c5-dcd1-4275-901f-56ab33471850\",\"type\":\"PreviewSaveTool\"},{\"attributes\":{\"legends\":[[\"% CPU\",[{\"id\":\"92c19b78-1e2b-44bb-9c11-5fb0702b37b2\",\"type\":\"GlyphRenderer\"}]],[\"Memory\",[{\"id\":\"f159724e-e5fd-40d0-966c-f33e02df5cc5\",\"type\":\"GlyphRenderer\"}]]],\"plot\":{\"id\":\"89138761-3bbc-4e96-939e-93b3ff9a887f\",\"subtype\":\"Figure\",\"type\":\"Plot\"}},\"id\":\"a91abea7-d1da-4e61-a04a-257869dde6da\",\"type\":\"Legend\"},{\"attributes\":{\"dimensions\":[\"width\"],\"plot\":{\"id\":\"648da514-c73a-4f1c-b594-8089647be127\",\"subtype\":\"Figure\",\"type\":\"Plot\"}},\"id\":\"525d1bc3-0040-47b5-ace0-70d3514526b1\",\"type\":\"WheelZoomTool\"},{\"attributes\":{\"dimension\":1,\"plot\":{\"id\":\"89138761-3bbc-4e96-939e-93b3ff9a887f\",\"subtype\":\"Figure\",\"type\":\"Plot\"},\"ticker\":{\"id\":\"deff1c1d-74ec-4cc3-9def-3a6a47f8a753\",\"type\":\"BasicTicker\"}},\"id\":\"5074e497-22c4-41fb-93ad-66c8cd3e1f26\",\"type\":\"Grid\"},{\"attributes\":{\"callback\":null,\"end\":14.038170778003405},\"id\":\"bb03ab8e-272b-47b3-acba-f05d862c4929\",\"type\":\"Range1d\"},{\"attributes\":{},\"id\":\"03b590ff-45de-45a7-bc59-43cfeef5e98c\",\"type\":\"ToolEvents\"},{\"attributes\":{\"data_source\":{\"id\":\"a4d244fe-1ae2-41da-a9b3-6c1865d857bd\",\"type\":\"ColumnDataSource\"},\"glyph\":{\"id\":\"a7fa199c-8aa3-43f7-ab66-816f02dc4949\",\"type\":\"Line\"},\"hover_glyph\":null,\"nonselection_glyph\":{\"id\":\"c98d69af-5bce-493f-ad23-a5b01bd07f89\",\"type\":\"Line\"},\"selection_glyph\":null},\"id\":\"92c19b78-1e2b-44bb-9c11-5fb0702b37b2\",\"type\":\"GlyphRenderer\"},{\"attributes\":{\"plot\":{\"id\":\"2192b746-99fd-40ee-98d7-7c41a8f10856\",\"subtype\":\"Figure\",\"type\":\"Plot\"}},\"id\":\"8aef3155-382f-4e72-8c08-d5be09c69104\",\"type\":\"PreviewSaveTool\"},{\"attributes\":{},\"id\":\"12905731-2cab-4bd5-894a-ec7d1c16cdc9\",\"type\":\"BasicTickFormatter\"},{\"attributes\":{\"line_alpha\":{\"value\":0.1},\"line_color\":{\"value\":\"#1f77b4\"},\"line_width\":{\"value\":4},\"x\":{\"field\":\"x\"},\"y\":{\"field\":\"y\"}},\"id\":\"c98d69af-5bce-493f-ad23-a5b01bd07f89\",\"type\":\"Line\"},{\"attributes\":{},\"id\":\"e622c638-7e82-4a4d-8c3e-721ee5fa61bb\",\"type\":\"BasicTickFormatter\"},{\"attributes\":{\"callback\":null,\"end\":752.0},\"id\":\"ee559e51-4aa8-4ba3-9c42-31421285207a\",\"type\":\"Range1d\"},{\"attributes\":{},\"id\":\"8ac9870b-1c25-4353-9379-2d136b9e3f7e\",\"type\":\"BasicTickFormatter\"},{\"attributes\":{\"axis_label\":\"Time (s)\",\"formatter\":{\"id\":\"49a48a56-bab4-460b-be8d-9a27c1de319e\",\"type\":\"BasicTickFormatter\"},\"plot\":{\"id\":\"2192b746-99fd-40ee-98d7-7c41a8f10856\",\"subtype\":\"Figure\",\"type\":\"Plot\"},\"ticker\":{\"id\":\"72d715ac-8680-41d5-8190-9dc114894189\",\"type\":\"BasicTicker\"}},\"id\":\"07a042a1-5bdc-473f-860c-77885278259d\",\"type\":\"LinearAxis\"},{\"attributes\":{\"plot\":{\"id\":\"648da514-c73a-4f1c-b594-8089647be127\",\"subtype\":\"Figure\",\"type\":\"Plot\"}},\"id\":\"fcf6be81-2b5d-41ed-918e-0709c447ec39\",\"type\":\"ResizeTool\"},{\"attributes\":{\"plot\":{\"id\":\"89138761-3bbc-4e96-939e-93b3ff9a887f\",\"subtype\":\"Figure\",\"type\":\"Plot\"},\"ticker\":{\"id\":\"7a9c5011-e8c0-4dbf-8c75-2c0a1263cb0f\",\"type\":\"BasicTicker\"}},\"id\":\"c09d7416-e3c5-4397-87ee-134e179e6326\",\"type\":\"Grid\"},{\"attributes\":{\"plot\":{\"id\":\"2192b746-99fd-40ee-98d7-7c41a8f10856\",\"subtype\":\"Figure\",\"type\":\"Plot\"},\"ticker\":{\"id\":\"72d715ac-8680-41d5-8190-9dc114894189\",\"type\":\"BasicTicker\"}},\"id\":\"f8eb28c8-d8a9-4080-afeb-d31367c48dfc\",\"type\":\"Grid\"},{\"attributes\":{\"data_source\":{\"id\":\"f4ff7f06-9a17-498c-a2fa-4a217d022b5e\",\"type\":\"ColumnDataSource\"},\"glyph\":{\"id\":\"534287eb-4e13-4e1c-8b4b-f67e47baccb8\",\"type\":\"Line\"},\"hover_glyph\":null,\"nonselection_glyph\":{\"id\":\"9764d8db-ca2e-4854-8a59-23f3a4519199\",\"type\":\"Line\"},\"selection_glyph\":null,\"y_range_name\":\"memory\"},\"id\":\"6fd4e3c5-722e-4f23-ad1e-a3004a0df512\",\"type\":\"GlyphRenderer\"},{\"attributes\":{\"axis_label\":\"% CPU\",\"formatter\":{\"id\":\"201b5173-8d3c-4826-a84d-007d45c205a0\",\"type\":\"BasicTickFormatter\"},\"plot\":{\"id\":\"648da514-c73a-4f1c-b594-8089647be127\",\"subtype\":\"Figure\",\"type\":\"Plot\"},\"ticker\":{\"id\":\"46ef529c-c935-419f-ba97-44bc6557a008\",\"type\":\"BasicTicker\"}},\"id\":\"643e5d15-c2c3-4007-b22e-47db2c02a610\",\"type\":\"LinearAxis\"},{\"attributes\":{\"callback\":null,\"end\":126.17197789600323},\"id\":\"d213a333-b3af-47cb-8bfa-967ea2079a77\",\"type\":\"Range1d\"},{\"attributes\":{},\"id\":\"227563b1-1855-44bb-8dc9-adebdb24bb2a\",\"type\":\"BasicTicker\"},{\"attributes\":{\"axis_label\":\"% CPU\",\"formatter\":{\"id\":\"26e2637d-02b5-4e54-987a-03938deebc05\",\"type\":\"BasicTickFormatter\"},\"plot\":{\"id\":\"89138761-3bbc-4e96-939e-93b3ff9a887f\",\"subtype\":\"Figure\",\"type\":\"Plot\"},\"ticker\":{\"id\":\"deff1c1d-74ec-4cc3-9def-3a6a47f8a753\",\"type\":\"BasicTicker\"}},\"id\":\"82f27798-17fc-41d7-9b03-f0d07aba9eab\",\"type\":\"LinearAxis\"},{\"attributes\":{\"axis_label\":\"Time (s)\",\"formatter\":{\"id\":\"12905731-2cab-4bd5-894a-ec7d1c16cdc9\",\"type\":\"BasicTickFormatter\"},\"plot\":{\"id\":\"89138761-3bbc-4e96-939e-93b3ff9a887f\",\"subtype\":\"Figure\",\"type\":\"Plot\"},\"ticker\":{\"id\":\"7a9c5011-e8c0-4dbf-8c75-2c0a1263cb0f\",\"type\":\"BasicTicker\"}},\"id\":\"78fd59ab-d081-4be2-833a-b1ee884149d4\",\"type\":\"LinearAxis\"},{\"attributes\":{\"legends\":[[\"% CPU\",[{\"id\":\"8480946a-88fb-4486-a279-6abf0f603369\",\"type\":\"GlyphRenderer\"}]],[\"Memory\",[{\"id\":\"6fd4e3c5-722e-4f23-ad1e-a3004a0df512\",\"type\":\"GlyphRenderer\"}]]],\"plot\":{\"id\":\"648da514-c73a-4f1c-b594-8089647be127\",\"subtype\":\"Figure\",\"type\":\"Plot\"}},\"id\":\"2b3f384d-3c78-4df9-9a02-cc5c2ad923c4\",\"type\":\"Legend\"},{\"attributes\":{\"callback\":null,\"column_names\":[\"y\",\"x\"],\"data\":{\"x\":[0.0,1.0143253109999932,2.0155612239977927,3.01693399999931,4.018245297003887,5.018846094004402,6.020148328003415,7.021468019003805,8.022807276000094,9.024112184000842,10.025168897002004,11.02653271699819,12.02786617899983,13.029190393004683,14.030578721001802,15.03135482899961,16.032629450004606,17.03394069600472,18.035230030000093,19.036595782003133,20.03789811400202,21.039191109004605,22.04050322600233,23.04178739499912,24.043127466000442,25.044612620004045,26.04591193300439,27.04725227200106,28.048547028003668,29.0498424000034,30.051136499998393,31.052455400000326,32.053752006999275,33.05502802900446,34.056393753999146,35.05767425399972,36.05904188500426,37.060345293000864,38.061663202999625,39.062808105998556,40.06416501100466,41.06568570100353,42.06700941199961,43.06828932600183,44.0696432170007,45.070800624002004,46.0721108430007,47.07339799500187,48.074703263999254,49.07599657100218,50.07698814899777,51.07828383400192,52.07955550200131,53.080887098003586,54.08225346400286,55.08351852399937,56.08478386200295,57.08555878200423,58.08691681300115,59.08822017900093,60.08958498499851,61.09094135700434,62.09227328500128,63.09356146600476,64.09488638600305,65.09619603300234,66.09749707500305,67.09879715600255,68.09957369900076,69.10086332500214,70.10158063500421,71.10289183699933,72.10421298500296,73.10550937399967,74.10678477200418,75.10813360800239,76.10945169399929,77.1108116989999,78.1122282100041,79.11351960700267,80.11480474199925,81.11612945500383,82.1174250940021,83.1187382950011,84.12003584799822,85.12090355100372,86.12202192199766,87.12280020400067,88.12409532900347,89.12541394300206,90.12670342699857,91.12802545999875,92.12837522700283,93.12966397000127,94.13097134300187,95.13224543999968,96.13359674800449,97.1348166530006,98.13617492400226,99.13700259500183,100.13836080200417,101.13969141199777,102.14099644900125,103.14241833900451,104.14367383500212,105.14495648699813,106.14641655499872,107.1474881940012,108.14884364799946,109.15014385800168,110.15144719000091,111.15281032100029,112.15413033000368,113.15481192600419,114.1560468020034,115.15751873100089,116.15878871500172,117.16017116900184,118.16145223900094,119.1627566130046,120.16408468600275,121.16536901899963,122.16666931899817,123.16799552799785,124.16928933600138,125.170624710001,126.17197789600323],\"y\":[1325.735936,1339.813888,1022.816256,973.869056,973.869056,973.869056,973.869056,973.869056,973.869056,973.877248,973.88544,973.889536,973.910016,976.371712,976.412672,976.412672,976.429056,976.44544,976.44544,976.449536,976.449536,978.939904,979.16928,980.680704,980.934656,982.216704,985.088,988.925952,990.3104,992.366592,992.575488,998.838272,1001.6768,1008.20992,1011.707904,1014.136832,1022.70976,1025.605632,1027.493888,1028.571136,1036.914688,1032.597504,1041.24416,1045.835776,1046.913024,1049.341952,1052.844032,1058.807808,1061.240832,1063.66976,1069.039616,1073.905664,1075.75296,1081.688064,1083.285504,1085.984768,1086.52544,1092.194304,1092.34176,1099.10016,1105.584128,1109.950464,1111.57248,1112.920064,1115.623424,1118.3104,1121.01376,1126.95296,1129.926656,1136.951296,1141.817344,1141.567488,1145.880576,1150.34112,1155.743744,1157.566464,1160.269824,1165.402112,1169.186816,1170.264064,1174.581248,1177.82528,1179.713536,1187.004416,1189.974016,1193.668608,1194.893312,1200.832512,1204.20352,1209.606144,1210.957824,1214.738432,1215.807488,1221.480448,1224.994816,1229.852672,1234.71872,1234.989056,1238.372352,1243.697152,1248.018432,1255.849984,1256.38656,1259.896832,1261.248512,1265.614848,1267.494912,1275.33056,1280.458752,1282.62144,1286.406144,1289.408512,1292.255232,1299.001344,1303.310336,1307.619328,1313.23904,1313.312768,1314.762752,1318.54336,1319.89504,1322.94656,1322.94656,1323.896832,1332.199424,1335.136256,1340.534784]}},\"id\":\"f4ff7f06-9a17-498c-a2fa-4a217d022b5e\",\"type\":\"ColumnDataSource\"},{\"attributes\":{},\"id\":\"72d715ac-8680-41d5-8190-9dc114894189\",\"type\":\"BasicTicker\"},{\"attributes\":{\"callback\":null,\"end\":133.8},\"id\":\"4b9e024d-7183-4370-b4f2-235b7e6b0635\",\"type\":\"Range1d\"},{\"attributes\":{\"callback\":null,\"column_names\":[\"x\",\"y\"],\"data\":{\"x\":[0.0,1.0213050140009727,2.022573182999622,3.02389823699923,4.02480943500268,5.026184487003775,6.027501297998242,7.028806440997869,8.030163000003085,9.031481566002185,10.032834905003256,11.034162167998147,12.035467784000502,13.03680585300026,14.038170778003405],\"y\":[0.0,108.7,745.0,744.0,739.3,730.0,752.0,743.0,749.0,739.0,737.0,736.0,740.0,739.0,699.0]}},\"id\":\"a4d244fe-1ae2-41da-a9b3-6c1865d857bd\",\"type\":\"ColumnDataSource\"},{\"attributes\":{\"axis_label\":\"Memory (MB)\",\"formatter\":{\"id\":\"e622c638-7e82-4a4d-8c3e-721ee5fa61bb\",\"type\":\"BasicTickFormatter\"},\"plot\":{\"id\":\"89138761-3bbc-4e96-939e-93b3ff9a887f\",\"subtype\":\"Figure\",\"type\":\"Plot\"},\"ticker\":{\"id\":\"227563b1-1855-44bb-8dc9-adebdb24bb2a\",\"type\":\"BasicTicker\"},\"y_range_name\":\"memory\"},\"id\":\"4d8c23c3-c6b1-4cc4-b419-244698f06042\",\"type\":\"LinearAxis\"},{\"attributes\":{\"axis_label\":\"Memory (MB)\",\"formatter\":{\"id\":\"d239f48a-296f-4d2d-b006-d3b640108e37\",\"type\":\"BasicTickFormatter\"},\"plot\":{\"id\":\"2192b746-99fd-40ee-98d7-7c41a8f10856\",\"subtype\":\"Figure\",\"type\":\"Plot\"},\"ticker\":{\"id\":\"9fe15e34-ffe6-42a0-9a5c-9da0ec299792\",\"type\":\"BasicTicker\"},\"y_range_name\":\"memory\"},\"id\":\"08438e4f-01f5-4ada-b3be-45cd31d19e47\",\"type\":\"LinearAxis\"},{\"attributes\":{},\"id\":\"9fe15e34-ffe6-42a0-9a5c-9da0ec299792\",\"type\":\"BasicTicker\"},{\"attributes\":{\"line_color\":{\"value\":\"#41b6c4\"},\"line_width\":{\"value\":4},\"x\":{\"field\":\"x\"},\"y\":{\"field\":\"y\"}},\"id\":\"d2f52197-6b70-46f5-941f-c519c3126e8a\",\"type\":\"Line\"}],\"root_ids\":[\"2192b746-99fd-40ee-98d7-7c41a8f10856\",\"648da514-c73a-4f1c-b594-8089647be127\",\"89138761-3bbc-4e96-939e-93b3ff9a887f\"]},\"title\":\"Bokeh Application\",\"version\":\"0.11.1\"}};\n",
       "            var render_items = [{\"docid\":\"3476eed3-e97b-4462-9153-8b38f2b3c145\",\"elementid\":\"cc41ad4c-4194-4fe3-85db-bb7f1ac376ea\",\"modelid\":\"89138761-3bbc-4e96-939e-93b3ff9a887f\",\"notebook_comms_target\":\"2b053fdb-75db-46f9-ae74-f3e0a6ab489e\"}];\n",
       "            \n",
       "            Bokeh.embed.embed_items(docs_json, render_items);\n",
       "        });\n",
       "      },\n",
       "      function(Bokeh) {\n",
       "      }\n",
       "    ];\n",
       "  \n",
       "    function run_inline_js() {\n",
       "      for (var i = 0; i < inline_js.length; i++) {\n",
       "        inline_js[i](window.Bokeh);\n",
       "      }\n",
       "    }\n",
       "  \n",
       "    if (window._bokeh_is_loading === 0) {\n",
       "      console.log(\"Bokeh: BokehJS loaded, going straight to plotting\");\n",
       "      run_inline_js();\n",
       "    } else {\n",
       "      load_libs(js_urls, function() {\n",
       "        console.log(\"Bokeh: BokehJS plotting callback run at\", now());\n",
       "        run_inline_js();\n",
       "      });\n",
       "    }\n",
       "  }(this));\n",
       "</script>"
      ]
     },
     "metadata": {},
     "output_type": "display_data"
    }
   ],
   "source": [
    "# run allele count computation via dask\n",
    "gdz = allel.model.dask.GenotypeDaskArray(genotype_zarr)\n",
    "acz = gdz.count_alleles(max_allele=3)\n",
    "with ResourceProfiler(dt=1) as rprof:\n",
    "    acz.compute()\n",
    "visualize(rprof);"
   ]
  },
  {
   "cell_type": "markdown",
   "metadata": {},
   "source": [
    "This time I get over 700% CPU usage. Also the computation is about 8 times faster, which is about what you'd expect given the higher CPU usage. \n",
    "\n",
    "Zlib is a fairly slow compressor, what happens if we use something faster like LZ4?"
   ]
  },
  {
   "cell_type": "code",
   "execution_count": 15,
   "metadata": {
    "collapsed": false
   },
   "outputs": [
    {
     "data": {
      "text/plain": [
       "Array((13167162, 765, 2), int8, chunks=(6553, 200, 2), order=C)\n",
       "  nbytes: 18.8G; nbytes_stored: 1.0G; ratio: 18.2; initialized: 8040/8040\n",
       "  compressor: Blosc(cname='lz4', clevel=5, shuffle=0)\n",
       "  store: DirectoryStore"
      ]
     },
     "execution_count": 15,
     "metadata": {},
     "output_type": "execute_result"
    }
   ],
   "source": [
    "genotype_zarr_lz4 = zarr.open_like(genotype, path='data/2016-05-16/genotype.zarr.lz4', mode='w', \n",
    "                                   chunks=chunks, compression='blosc',\n",
    "                                   compression_opts=dict(cname='lz4', clevel=5, shuffle=0))\n",
    "genotype_zarr_lz4[:] = genotype_zarr\n",
    "genotype_zarr_lz4"
   ]
  },
  {
   "cell_type": "code",
   "execution_count": 16,
   "metadata": {
    "collapsed": true
   },
   "outputs": [],
   "source": [
    "# ensure OS pagecache is cleared \n",
    "!sudo drop_caches"
   ]
  },
  {
   "cell_type": "code",
   "execution_count": 17,
   "metadata": {
    "collapsed": false
   },
   "outputs": [
    {
     "data": {
      "text/html": [
       "\n",
       "\n",
       "    <div class=\"plotdiv\" id=\"6367c165-c891-459e-81ee-d6defcd3fbea\"></div>\n",
       "<script type=\"text/javascript\">\n",
       "  \n",
       "  (function(global) {\n",
       "    function now() {\n",
       "      return new Date();\n",
       "    }\n",
       "  \n",
       "    if (typeof (window._bokeh_onload_callbacks) === \"undefined\") {\n",
       "      window._bokeh_onload_callbacks = [];\n",
       "    }\n",
       "  \n",
       "    function run_callbacks() {\n",
       "      window._bokeh_onload_callbacks.forEach(function(callback) { callback() });\n",
       "      delete window._bokeh_onload_callbacks\n",
       "      console.info(\"Bokeh: all callbacks have finished\");\n",
       "    }\n",
       "  \n",
       "    function load_libs(js_urls, callback) {\n",
       "      window._bokeh_onload_callbacks.push(callback);\n",
       "      if (window._bokeh_is_loading > 0) {\n",
       "        console.log(\"Bokeh: BokehJS is being loaded, scheduling callback at\", now());\n",
       "        return null;\n",
       "      }\n",
       "      if (js_urls == null || js_urls.length === 0) {\n",
       "        run_callbacks();\n",
       "        return null;\n",
       "      }\n",
       "      console.log(\"Bokeh: BokehJS not loaded, scheduling load and callback at\", now());\n",
       "      window._bokeh_is_loading = js_urls.length;\n",
       "      for (var i = 0; i < js_urls.length; i++) {\n",
       "        var url = js_urls[i];\n",
       "        var s = document.createElement('script');\n",
       "        s.src = url;\n",
       "        s.async = false;\n",
       "        s.onreadystatechange = s.onload = function() {\n",
       "          window._bokeh_is_loading--;\n",
       "          if (window._bokeh_is_loading === 0) {\n",
       "            console.log(\"Bokeh: all BokehJS libraries loaded\");\n",
       "            run_callbacks()\n",
       "          }\n",
       "        };\n",
       "        s.onerror = function() {\n",
       "          console.warn(\"failed to load library \" + url);\n",
       "        };\n",
       "        console.log(\"Bokeh: injecting script tag for BokehJS library: \", url);\n",
       "        document.getElementsByTagName(\"head\")[0].appendChild(s);\n",
       "      }\n",
       "    };var element = document.getElementById(\"6367c165-c891-459e-81ee-d6defcd3fbea\");\n",
       "    if (element == null) {\n",
       "      console.log(\"Bokeh: ERROR: autoload.js configured with elementid '6367c165-c891-459e-81ee-d6defcd3fbea' but no matching script tag was found. \")\n",
       "      return false;\n",
       "    }\n",
       "  \n",
       "    var js_urls = [];\n",
       "  \n",
       "    var inline_js = [\n",
       "      function(Bokeh) {\n",
       "        Bokeh.$(function() {\n",
       "            var docs_json = {\"77e0931c-1201-4bef-ba17-87c97b4caa7e\":{\"roots\":{\"references\":[{\"attributes\":{},\"id\":\"201b5173-8d3c-4826-a84d-007d45c205a0\",\"type\":\"BasicTickFormatter\"},{\"attributes\":{\"dimension\":1,\"plot\":{\"id\":\"2192b746-99fd-40ee-98d7-7c41a8f10856\",\"subtype\":\"Figure\",\"type\":\"Plot\"},\"ticker\":{\"id\":\"6ae62019-2a56-4872-b22c-db8aa96dd2a4\",\"type\":\"BasicTicker\"}},\"id\":\"5d2654a4-d340-47cb-8513-f57e84d9d647\",\"type\":\"Grid\"},{\"attributes\":{},\"id\":\"7a9c5011-e8c0-4dbf-8c75-2c0a1263cb0f\",\"type\":\"BasicTicker\"},{\"attributes\":{\"line_alpha\":{\"value\":0.1},\"line_color\":{\"value\":\"#1f77b4\"},\"line_width\":{\"value\":4},\"x\":{\"field\":\"x\"},\"y\":{\"field\":\"y\"}},\"id\":\"9764d8db-ca2e-4854-8a59-23f3a4519199\",\"type\":\"Line\"},{\"attributes\":{\"callback\":null,\"end\":1340.534784,\"start\":973.869056},\"id\":\"43334d8a-080c-4540-a6bc-243b77d3a311\",\"type\":\"Range1d\"},{\"attributes\":{\"dimensions\":[\"width\"],\"plot\":{\"id\":\"2192b746-99fd-40ee-98d7-7c41a8f10856\",\"subtype\":\"Figure\",\"type\":\"Plot\"}},\"id\":\"1a579a18-dcfd-457c-a3ff-268c724cfd00\",\"type\":\"WheelZoomTool\"},{\"attributes\":{\"callback\":null,\"end\":133.9},\"id\":\"2290ca75-dbf6-45ca-93a2-35ac1e298758\",\"type\":\"Range1d\"},{\"attributes\":{\"dimension\":1,\"plot\":{\"id\":\"648da514-c73a-4f1c-b594-8089647be127\",\"subtype\":\"Figure\",\"type\":\"Plot\"},\"ticker\":{\"id\":\"46ef529c-c935-419f-ba97-44bc6557a008\",\"type\":\"BasicTicker\"}},\"id\":\"c46d7f58-e9be-43c8-ae57-bf8400f8a897\",\"type\":\"Grid\"},{\"attributes\":{\"line_color\":{\"value\":\"#253494\"},\"line_width\":{\"value\":4},\"x\":{\"field\":\"x\"},\"y\":{\"field\":\"y\"}},\"id\":\"e0c4cd51-1752-4db4-87c1-081f3342a92a\",\"type\":\"Line\"},{\"attributes\":{\"axis_label\":\"Memory (MB)\",\"formatter\":{\"id\":\"8ff0b8d7-3be2-479c-8966-849c3229c60c\",\"type\":\"BasicTickFormatter\"},\"plot\":{\"id\":\"648da514-c73a-4f1c-b594-8089647be127\",\"subtype\":\"Figure\",\"type\":\"Plot\"},\"ticker\":{\"id\":\"0449b9b9-6c46-470f-8590-e15e4da2f211\",\"type\":\"BasicTicker\"},\"y_range_name\":\"memory\"},\"id\":\"d29d6ef9-72a5-40b0-adfe-92b16fc2acaa\",\"type\":\"LinearAxis\"},{\"attributes\":{\"dimensions\":[\"width\"],\"plot\":{\"id\":\"89138761-3bbc-4e96-939e-93b3ff9a887f\",\"subtype\":\"Figure\",\"type\":\"Plot\"}},\"id\":\"ac9cfd04-098b-40c7-b722-12d89e69635a\",\"type\":\"PanTool\"},{\"attributes\":{},\"id\":\"7a05d106-3c7e-4364-9e25-acea55d336eb\",\"type\":\"BasicTicker\"},{\"attributes\":{},\"id\":\"ec977001-c033-47f9-bc88-1314b1125901\",\"type\":\"BasicTickFormatter\"},{\"attributes\":{\"plot\":{\"id\":\"89138761-3bbc-4e96-939e-93b3ff9a887f\",\"subtype\":\"Figure\",\"type\":\"Plot\"}},\"id\":\"e9f7df4a-2040-4650-a33d-f25c209e5d8a\",\"type\":\"ResetTool\"},{\"attributes\":{\"plot\":{\"id\":\"2192b746-99fd-40ee-98d7-7c41a8f10856\",\"subtype\":\"Figure\",\"type\":\"Plot\"}},\"id\":\"df332944-9547-4ff9-be17-a9a81d17c8b0\",\"type\":\"ResizeTool\"},{\"attributes\":{\"axis_label\":\"% CPU\",\"formatter\":{\"id\":\"3ed7aa1a-c1a4-45a4-a81c-bbaf1bc7fbd9\",\"type\":\"BasicTickFormatter\"},\"plot\":{\"id\":\"2192b746-99fd-40ee-98d7-7c41a8f10856\",\"subtype\":\"Figure\",\"type\":\"Plot\"},\"ticker\":{\"id\":\"6ae62019-2a56-4872-b22c-db8aa96dd2a4\",\"type\":\"BasicTicker\"}},\"id\":\"d749628d-2598-40ce-8ee8-6f1d5c3d569d\",\"type\":\"LinearAxis\"},{\"attributes\":{\"line_color\":{\"value\":\"#41b6c4\"},\"line_width\":{\"value\":4},\"x\":{\"field\":\"x\"},\"y\":{\"field\":\"y\"}},\"id\":\"534287eb-4e13-4e1c-8b4b-f67e47baccb8\",\"type\":\"Line\"},{\"attributes\":{},\"id\":\"d239f48a-296f-4d2d-b006-d3b640108e37\",\"type\":\"BasicTickFormatter\"},{\"attributes\":{\"line_alpha\":{\"value\":0.1},\"line_color\":{\"value\":\"#1f77b4\"},\"line_width\":{\"value\":4},\"x\":{\"field\":\"x\"},\"y\":{\"field\":\"y\"}},\"id\":\"232c8908-cea6-4c85-893d-5e489c01f839\",\"type\":\"Line\"},{\"attributes\":{\"callback\":null,\"column_names\":[\"x\",\"y\"],\"data\":{\"x\":[0.0,1.0143253109999932,2.0155612239977927,3.01693399999931,4.018245297003887,5.018846094004402,6.020148328003415,7.021468019003805,8.022807276000094,9.024112184000842,10.025168897002004,11.02653271699819,12.02786617899983,13.029190393004683,14.030578721001802,15.03135482899961,16.032629450004606,17.03394069600472,18.035230030000093,19.036595782003133,20.03789811400202,21.039191109004605,22.04050322600233,23.04178739499912,24.043127466000442,25.044612620004045,26.04591193300439,27.04725227200106,28.048547028003668,29.0498424000034,30.051136499998393,31.052455400000326,32.053752006999275,33.05502802900446,34.056393753999146,35.05767425399972,36.05904188500426,37.060345293000864,38.061663202999625,39.062808105998556,40.06416501100466,41.06568570100353,42.06700941199961,43.06828932600183,44.0696432170007,45.070800624002004,46.0721108430007,47.07339799500187,48.074703263999254,49.07599657100218,50.07698814899777,51.07828383400192,52.07955550200131,53.080887098003586,54.08225346400286,55.08351852399937,56.08478386200295,57.08555878200423,58.08691681300115,59.08822017900093,60.08958498499851,61.09094135700434,62.09227328500128,63.09356146600476,64.09488638600305,65.09619603300234,66.09749707500305,67.09879715600255,68.09957369900076,69.10086332500214,70.10158063500421,71.10289183699933,72.10421298500296,73.10550937399967,74.10678477200418,75.10813360800239,76.10945169399929,77.1108116989999,78.1122282100041,79.11351960700267,80.11480474199925,81.11612945500383,82.1174250940021,83.1187382950011,84.12003584799822,85.12090355100372,86.12202192199766,87.12280020400067,88.12409532900347,89.12541394300206,90.12670342699857,91.12802545999875,92.12837522700283,93.12966397000127,94.13097134300187,95.13224543999968,96.13359674800449,97.1348166530006,98.13617492400226,99.13700259500183,100.13836080200417,101.13969141199777,102.14099644900125,103.14241833900451,104.14367383500212,105.14495648699813,106.14641655499872,107.1474881940012,108.14884364799946,109.15014385800168,110.15144719000091,111.15281032100029,112.15413033000368,113.15481192600419,114.1560468020034,115.15751873100089,116.15878871500172,117.16017116900184,118.16145223900094,119.1627566130046,120.16408468600275,121.16536901899963,122.16666931899817,123.16799552799785,124.16928933600138,125.170624710001,126.17197789600323],\"y\":[0.0,102.6,128.8,133.8,130.8,131.9,129.8,133.8,128.8,132.8,132.9,132.8,133.8,131.8,130.8,132.9,131.8,131.8,131.8,131.8,132.8,132.8,132.8,131.8,131.8,130.8,131.8,131.8,132.8,129.8,132.8,131.8,130.8,131.8,131.8,131.8,131.8,130.8,133.8,131.8,131.8,131.8,131.8,132.8,132.8,131.8,129.8,133.8,132.8,131.8,131.9,131.8,131.8,131.8,131.8,132.8,131.8,131.9,131.8,130.8,131.8,131.8,130.8,131.8,131.8,131.8,131.8,130.8,132.9,131.8,131.9,130.8,130.8,132.8,131.8,131.8,130.8,131.8,133.8,131.8,133.8,132.8,131.8,133.8,131.8,132.9,131.9,132.9,131.8,132.8,132.8,131.8,133.0,132.8,131.8,131.8,132.8,131.8,130.8,131.9,132.8,132.8,130.8,130.8,132.8,132.8,131.8,131.9,131.8,132.8,130.8,131.8,132.8,132.9,132.8,133.8,131.8,130.8,131.8,132.8,130.8,131.8,132.8,131.8,132.8,131.8,131.8]}},\"id\":\"b7c2a7e9-c63d-468e-83d3-cdcf8b7bc804\",\"type\":\"ColumnDataSource\"},{\"attributes\":{},\"id\":\"092d73f0-7e8b-4d4a-9a86-8d2c44c7f43c\",\"type\":\"BasicTickFormatter\"},{\"attributes\":{\"axis_label\":\"Memory (MB)\",\"formatter\":{\"id\":\"ec977001-c033-47f9-bc88-1314b1125901\",\"type\":\"BasicTickFormatter\"},\"plot\":{\"id\":\"29adb289-516b-4949-9c79-7a5583853ae0\",\"subtype\":\"Figure\",\"type\":\"Plot\"},\"ticker\":{\"id\":\"7a05d106-3c7e-4364-9e25-acea55d336eb\",\"type\":\"BasicTicker\"},\"y_range_name\":\"memory\"},\"id\":\"ea36f22f-e562-4f0f-8f1b-5d8ef40c7455\",\"type\":\"LinearAxis\"},{\"attributes\":{\"callback\":null,\"end\":1021.558784,\"start\":252.870656},\"id\":\"fc11f57f-5dcf-416e-a0ea-4c14094664da\",\"type\":\"Range1d\"},{\"attributes\":{\"plot\":{\"id\":\"648da514-c73a-4f1c-b594-8089647be127\",\"subtype\":\"Figure\",\"type\":\"Plot\"}},\"id\":\"8cc58f70-df0c-462a-b197-49ed76134369\",\"type\":\"PreviewSaveTool\"},{\"attributes\":{\"line_color\":{\"value\":\"#253494\"},\"line_width\":{\"value\":4},\"x\":{\"field\":\"x\"},\"y\":{\"field\":\"y\"}},\"id\":\"a7fa199c-8aa3-43f7-ab66-816f02dc4949\",\"type\":\"Line\"},{\"attributes\":{\"callback\":null,\"column_names\":[\"x\",\"y\"],\"data\":{\"x\":[0.0,1.0142777970031602,2.015495801002544,3.0168478460036567,4.0182239710047725,5.019572803998017,6.020888699000352,7.022248391003814,8.02356138399773,9.0249767589994,10.026371840001957],\"y\":[0.0,100.6,669.1,734.0,739.0,725.0,721.0,730.0,728.1,727.9,729.0]}},\"id\":\"38038449-aede-4ab8-8f43-67d3ddc62563\",\"type\":\"ColumnDataSource\"},{\"attributes\":{\"plot\":{\"id\":\"89138761-3bbc-4e96-939e-93b3ff9a887f\",\"subtype\":\"Figure\",\"type\":\"Plot\"}},\"id\":\"2d118b37-b95c-487e-9d60-f75e25b23e72\",\"type\":\"ResizeTool\"},{\"attributes\":{\"callback\":null,\"column_names\":[\"y\",\"x\"],\"data\":{\"x\":[0.0,1.0213050140009727,2.022573182999622,3.02389823699923,4.02480943500268,5.026184487003775,6.027501297998242,7.028806440997869,8.030163000003085,9.031481566002185,10.032834905003256,11.034162167998147,12.035467784000502,13.03680585300026,14.038170778003405],\"y\":[1104.605184,864.391168,880.04608,883.699712,894.562304,920.223744,951.775232,981.942272,1011.904512,1041.993728,1076.707328,1109.336064,1144.426496,1177.100288,1198.42816]}},\"id\":\"98b548ef-7bf3-408a-ac5b-492f822b4ab9\",\"type\":\"ColumnDataSource\"},{\"attributes\":{\"line_color\":{\"value\":\"#253494\"},\"line_width\":{\"value\":4},\"x\":{\"field\":\"x\"},\"y\":{\"field\":\"y\"}},\"id\":\"0cbc814a-3b8e-4332-a0db-3c2e7dffeedf\",\"type\":\"Line\"},{\"attributes\":{\"line_color\":{\"value\":\"#41b6c4\"},\"line_width\":{\"value\":4},\"x\":{\"field\":\"x\"},\"y\":{\"field\":\"y\"}},\"id\":\"b3906186-c2e6-45ab-885e-92afcf9fdb7a\",\"type\":\"Line\"},{\"attributes\":{\"data_source\":{\"id\":\"c759cc28-6232-4b09-bc7d-2340da7af8a1\",\"type\":\"ColumnDataSource\"},\"glyph\":{\"id\":\"b3906186-c2e6-45ab-885e-92afcf9fdb7a\",\"type\":\"Line\"},\"hover_glyph\":null,\"nonselection_glyph\":{\"id\":\"232c8908-cea6-4c85-893d-5e489c01f839\",\"type\":\"Line\"},\"selection_glyph\":null,\"y_range_name\":\"memory\"},\"id\":\"f18ab0d5-f359-4633-830a-65b1d773993d\",\"type\":\"GlyphRenderer\"},{\"attributes\":{\"plot\":{\"id\":\"2192b746-99fd-40ee-98d7-7c41a8f10856\",\"subtype\":\"Figure\",\"type\":\"Plot\"}},\"id\":\"32541596-3b91-42f3-b03e-48a373460515\",\"type\":\"ResetTool\"},{\"attributes\":{\"callback\":null,\"end\":1198.42816,\"start\":864.391168},\"id\":\"d9da2379-6da4-45f8-8ab2-86a38fa51daa\",\"type\":\"Range1d\"},{\"attributes\":{\"dimensions\":[\"width\"],\"plot\":{\"id\":\"2192b746-99fd-40ee-98d7-7c41a8f10856\",\"subtype\":\"Figure\",\"type\":\"Plot\"}},\"id\":\"de2623a4-4427-40d0-ab02-9146c99279ab\",\"type\":\"PanTool\"},{\"attributes\":{\"callback\":null,\"end\":1107.939328,\"start\":745.701376},\"id\":\"b02f7d03-3fe1-4df7-872d-f33366fe7608\",\"type\":\"Range1d\"},{\"attributes\":{\"line_alpha\":{\"value\":0.1},\"line_color\":{\"value\":\"#1f77b4\"},\"line_width\":{\"value\":4},\"x\":{\"field\":\"x\"},\"y\":{\"field\":\"y\"}},\"id\":\"96bcb7ab-25a2-41f5-84f0-824ad2916741\",\"type\":\"Line\"},{\"attributes\":{\"callback\":null,\"end\":14.038170778003405},\"id\":\"bb03ab8e-272b-47b3-acba-f05d862c4929\",\"type\":\"Range1d\"},{\"attributes\":{\"axis_label\":\"Time (s)\",\"formatter\":{\"id\":\"8ac9870b-1c25-4353-9379-2d136b9e3f7e\",\"type\":\"BasicTickFormatter\"},\"plot\":{\"id\":\"648da514-c73a-4f1c-b594-8089647be127\",\"subtype\":\"Figure\",\"type\":\"Plot\"},\"ticker\":{\"id\":\"821e6e8c-e705-46c4-8925-0f5fc88c51fc\",\"type\":\"BasicTicker\"}},\"id\":\"cb3a99d0-e45b-458e-9044-b13028c548dd\",\"type\":\"LinearAxis\"},{\"attributes\":{\"axis_label\":\"Time (s)\",\"formatter\":{\"id\":\"12905731-2cab-4bd5-894a-ec7d1c16cdc9\",\"type\":\"BasicTickFormatter\"},\"plot\":{\"id\":\"89138761-3bbc-4e96-939e-93b3ff9a887f\",\"subtype\":\"Figure\",\"type\":\"Plot\"},\"ticker\":{\"id\":\"7a9c5011-e8c0-4dbf-8c75-2c0a1263cb0f\",\"type\":\"BasicTicker\"}},\"id\":\"78fd59ab-d081-4be2-833a-b1ee884149d4\",\"type\":\"LinearAxis\"},{\"attributes\":{\"plot\":{\"id\":\"648da514-c73a-4f1c-b594-8089647be127\",\"subtype\":\"Figure\",\"type\":\"Plot\"},\"ticker\":{\"id\":\"821e6e8c-e705-46c4-8925-0f5fc88c51fc\",\"type\":\"BasicTicker\"}},\"id\":\"5b7fc047-3408-4d6a-92f9-70f4b0493a52\",\"type\":\"Grid\"},{\"attributes\":{\"data_source\":{\"id\":\"98b548ef-7bf3-408a-ac5b-492f822b4ab9\",\"type\":\"ColumnDataSource\"},\"glyph\":{\"id\":\"d2f52197-6b70-46f5-941f-c519c3126e8a\",\"type\":\"Line\"},\"hover_glyph\":null,\"nonselection_glyph\":{\"id\":\"96bcb7ab-25a2-41f5-84f0-824ad2916741\",\"type\":\"Line\"},\"selection_glyph\":null,\"y_range_name\":\"memory\"},\"id\":\"f159724e-e5fd-40d0-966c-f33e02df5cc5\",\"type\":\"GlyphRenderer\"},{\"attributes\":{},\"id\":\"8ff0b8d7-3be2-479c-8966-849c3229c60c\",\"type\":\"BasicTickFormatter\"},{\"attributes\":{\"axis_label\":\"Time (s)\",\"formatter\":{\"id\":\"eba79111-4192-4d9f-ae7e-d6ba9af50c43\",\"type\":\"BasicTickFormatter\"},\"plot\":{\"id\":\"29adb289-516b-4949-9c79-7a5583853ae0\",\"subtype\":\"Figure\",\"type\":\"Plot\"},\"ticker\":{\"id\":\"e2f17dc0-5f74-4df4-85fb-fbfc2fc51549\",\"type\":\"BasicTicker\"}},\"id\":\"47caced4-5588-4dce-aff7-8eaea957d91e\",\"type\":\"LinearAxis\"},{\"attributes\":{\"data_source\":{\"id\":\"b7c2a7e9-c63d-468e-83d3-cdcf8b7bc804\",\"type\":\"ColumnDataSource\"},\"glyph\":{\"id\":\"dc842bf9-4094-4470-b772-4d61bf799940\",\"type\":\"Line\"},\"hover_glyph\":null,\"nonselection_glyph\":{\"id\":\"9839f6bb-2d38-4f77-b748-a2760a5ef74e\",\"type\":\"Line\"},\"selection_glyph\":null},\"id\":\"8480946a-88fb-4486-a279-6abf0f603369\",\"type\":\"GlyphRenderer\"},{\"attributes\":{},\"id\":\"26e2637d-02b5-4e54-987a-03938deebc05\",\"type\":\"BasicTickFormatter\"},{\"attributes\":{\"callback\":null,\"end\":10.026371840001957},\"id\":\"1a167c8f-8686-44a6-a42c-a5be458ec392\",\"type\":\"Range1d\"},{\"attributes\":{\"dimensions\":[\"width\"],\"plot\":{\"id\":\"648da514-c73a-4f1c-b594-8089647be127\",\"subtype\":\"Figure\",\"type\":\"Plot\"}},\"id\":\"525d1bc3-0040-47b5-ace0-70d3514526b1\",\"type\":\"WheelZoomTool\"},{\"attributes\":{\"line_alpha\":{\"value\":0.1},\"line_color\":{\"value\":\"#1f77b4\"},\"line_width\":{\"value\":4},\"x\":{\"field\":\"x\"},\"y\":{\"field\":\"y\"}},\"id\":\"773e3bfa-b152-4a91-98aa-f699f9511dcd\",\"type\":\"Line\"},{\"attributes\":{},\"id\":\"eba79111-4192-4d9f-ae7e-d6ba9af50c43\",\"type\":\"BasicTickFormatter\"},{\"attributes\":{\"line_color\":{\"value\":\"#253494\"},\"line_width\":{\"value\":4},\"x\":{\"field\":\"x\"},\"y\":{\"field\":\"y\"}},\"id\":\"dc842bf9-4094-4470-b772-4d61bf799940\",\"type\":\"Line\"},{\"attributes\":{\"legends\":[[\"% CPU\",[{\"id\":\"6e06e102-49e9-4b41-abf7-79630075b102\",\"type\":\"GlyphRenderer\"}]],[\"Memory\",[{\"id\":\"ab2fe4b5-9c11-4261-8796-58f70b07b40d\",\"type\":\"GlyphRenderer\"}]]],\"plot\":{\"id\":\"29adb289-516b-4949-9c79-7a5583853ae0\",\"subtype\":\"Figure\",\"type\":\"Plot\"}},\"id\":\"8e173add-14b8-4521-bad6-5cc387e02351\",\"type\":\"Legend\"},{\"attributes\":{\"dimensions\":[\"width\"],\"plot\":{\"id\":\"89138761-3bbc-4e96-939e-93b3ff9a887f\",\"subtype\":\"Figure\",\"type\":\"Plot\"}},\"id\":\"7802ee7b-c587-464c-8aa9-2943d9faf71e\",\"type\":\"WheelZoomTool\"},{\"attributes\":{\"callback\":null,\"column_names\":[\"y\",\"x\"],\"data\":{\"x\":[0.0,1.020351061000838,2.0216233730025124,3.022917068003153,4.024211183001171,5.025467273997492,6.026875092997216,7.028189051998197,8.02945283200097,9.030793858000834,10.032075629002065,11.033378305000952,12.03468349600007,13.035725365996768,14.037032961001387,15.03829831800249,16.03958813600184,17.040849099998013,18.04220088799775,19.043494254998222,20.044842547998996,21.046168763001333,22.047472527003265,23.04881361399748,24.049859232000017,25.05114377800055,26.051800421002554,27.053062915998453,28.05351545799931,29.05478985299851,30.056158847000916,31.057463199002086,32.058788100999664,33.06007256200246,34.061367483998765,35.062567332999606,36.06391817700205,37.0652260679999,38.066540678999445,39.06773901900306,40.06904101800319,41.07032427700324,42.07106590899639,43.07238402799703,44.07366687100148,45.07496508400072,46.076290495999274,47.077604234997125,48.07889515400166,49.07973378799943,50.081003403996874,51.082362674998876,52.08369164499891,53.08498121800221,54.08634465200157,55.08761001899984,56.08895050400315,57.09024209200288,58.0915067599999,59.09287318400311,60.09424671799934,61.09555200199975,62.096869095999864,63.09817463399668,64.09947087299952,65.10083225300332,66.10212589499861,67.10341231000348,68.10395287199935,69.10524844400061,70.10654195999814,71.10782898199977,72.10912926599849,73.11051765800221,74.11181967199809,75.11311609300174,76.11438025999814,77.11569047300145,78.11698446600349,79.11827858899778,80.11869302899868,81.11998097600008,82.12082168299821,83.12211007600126,84.12339914400218,85.12472377400263,86.12599156799843,87.12737319200096,88.12772950100043,89.12902987399866,90.1303487710029,91.13168628799758,92.1330065229995,93.13429762500164,94.13577514600183,95.13723640600074,96.13817172899871,97.13943835700047,98.14075771899661,99.14206914399983,100.14343255700078,101.14471090000006,102.14600708900252,103.14739021300193,104.1487882759975,105.15007751999656,106.15137165800115,107.15268733900302,108.15398293999897,109.15428950500063,110.1556555549978,111.15695219799818,112.1582593819985,113.15954388299724,114.16085534200101,115.1621677639996,116.1634535560006,117.16480563100049,118.16610901599779,119.16741220199765,120.16872462099855,121.1699913659977,122.1712906679968,123.17258827399928,124.17322594900179,125.17451106500084,126.17586048100202,127.17720269200072],\"y\":[252.870656,266.354688,308.211712,311.164928,316.264448,321.101824,320.294912,325.18144,332.71808,336.920576,340.41856,346.619904,348.491776,355.913728,357.281792,360.517632,364.285952,369.33632,371.494912,376.078336,380.952576,383.348736,393.342976,392.921088,395.419648,402.460672,406.704128,408.326144,408.875008,411.639808,420.143104,426.811392,430.596096,436.555776,437.63712,441.368576,447.176704,450.043904,455.991296,459.10016,461.799424,465.846272,471.515136,474.165248,476.594176,480.649216,484.970496,489.02144,490.63936,494.690304,499.924992,504.520704,506.953728,511.266816,515.579904,523.083776,520.331264,530.06336,533.917696,535.330816,542.281728,548.487168,550.375424,557.129728,561.995776,565.235712,566.706176,568.864768,575.885312,578.859008,583.184384,586.153984,590.999552,591.798272,599.355392,600.526848,605.663232,612.1472,615.657472,619.442176,622.542848,627.675136,628.486144,631.136256,637.628416,642.494464,645.464064,650.596352,655.187968,659.243008,660.320256,665.726976,668.430336,673.120256,679.866368,680.685568,689.876992,690.024448,693.53472,699.203584,703.791104,705.683456,711.081984,715.132928,717.836288,727.01952,725.528576,728.768512,730.927104,736.321536,737.132544,741.183488,752.263168,756.318208,759.513088,761.401344,765.452288,768.57344,770.469888,775.0656,778.842112,782.348288,785.043456,788.815872,793.391104,797.413376,804.974592,1021.558784]}},\"id\":\"c759cc28-6232-4b09-bc7d-2340da7af8a1\",\"type\":\"ColumnDataSource\"},{\"attributes\":{\"dimensions\":[\"width\"],\"plot\":{\"id\":\"648da514-c73a-4f1c-b594-8089647be127\",\"subtype\":\"Figure\",\"type\":\"Plot\"}},\"id\":\"fe9330ac-184a-4517-94b0-134f29def591\",\"type\":\"PanTool\"},{\"attributes\":{},\"id\":\"3ed7aa1a-c1a4-45a4-a81c-bbaf1bc7fbd9\",\"type\":\"BasicTickFormatter\"},{\"attributes\":{},\"id\":\"49a48a56-bab4-460b-be8d-9a27c1de319e\",\"type\":\"BasicTickFormatter\"},{\"attributes\":{\"plot\":{\"id\":\"29adb289-516b-4949-9c79-7a5583853ae0\",\"subtype\":\"Figure\",\"type\":\"Plot\"}},\"id\":\"792b639b-f7f7-4434-85d5-6f676e5eed04\",\"type\":\"ResizeTool\"},{\"attributes\":{\"line_alpha\":{\"value\":0.1},\"line_color\":{\"value\":\"#1f77b4\"},\"line_width\":{\"value\":4},\"x\":{\"field\":\"x\"},\"y\":{\"field\":\"y\"}},\"id\":\"9839f6bb-2d38-4f77-b748-a2760a5ef74e\",\"type\":\"Line\"},{\"attributes\":{\"data_source\":{\"id\":\"77639b62-5aa0-4609-ad52-ed71a6a0b1ce\",\"type\":\"ColumnDataSource\"},\"glyph\":{\"id\":\"647edc35-1831-45e2-bb88-e4edfde355ee\",\"type\":\"Line\"},\"hover_glyph\":null,\"nonselection_glyph\":{\"id\":\"773e3bfa-b152-4a91-98aa-f699f9511dcd\",\"type\":\"Line\"},\"selection_glyph\":null,\"y_range_name\":\"memory\"},\"id\":\"ab2fe4b5-9c11-4261-8796-58f70b07b40d\",\"type\":\"GlyphRenderer\"},{\"attributes\":{\"callback\":null,\"end\":739.0},\"id\":\"3db32317-c4d1-4218-bc58-db2bc62deecc\",\"type\":\"Range1d\"},{\"attributes\":{},\"id\":\"6ae62019-2a56-4872-b22c-db8aa96dd2a4\",\"type\":\"BasicTicker\"},{\"attributes\":{\"plot\":{\"id\":\"648da514-c73a-4f1c-b594-8089647be127\",\"subtype\":\"Figure\",\"type\":\"Plot\"}},\"id\":\"9e9e33b4-f882-4bd9-b59a-84cb8957cf38\",\"type\":\"ResetTool\"},{\"attributes\":{\"callback\":null,\"end\":127.17720269200072},\"id\":\"1d8d1093-77b6-4410-abc8-5224bb83eff9\",\"type\":\"Range1d\"},{\"attributes\":{\"data_source\":{\"id\":\"972c2e1d-794e-40bb-89fc-ef577bfd8cc5\",\"type\":\"ColumnDataSource\"},\"glyph\":{\"id\":\"0cbc814a-3b8e-4332-a0db-3c2e7dffeedf\",\"type\":\"Line\"},\"hover_glyph\":null,\"nonselection_glyph\":{\"id\":\"9ab06ecd-f2b9-4bbc-b26c-7fa6d1d91b0e\",\"type\":\"Line\"},\"selection_glyph\":null},\"id\":\"997e76ed-cd45-4286-8e99-57cd1fb42561\",\"type\":\"GlyphRenderer\"},{\"attributes\":{\"below\":[{\"id\":\"78fd59ab-d081-4be2-833a-b1ee884149d4\",\"type\":\"LinearAxis\"}],\"extra_y_ranges\":{\"memory\":{\"id\":\"d9da2379-6da4-45f8-8ab2-86a38fa51daa\",\"type\":\"Range1d\"}},\"left\":[{\"id\":\"82f27798-17fc-41d7-9b03-f0d07aba9eab\",\"type\":\"LinearAxis\"}],\"plot_height\":300,\"plot_width\":800,\"renderers\":[{\"id\":\"78fd59ab-d081-4be2-833a-b1ee884149d4\",\"type\":\"LinearAxis\"},{\"id\":\"c09d7416-e3c5-4397-87ee-134e179e6326\",\"type\":\"Grid\"},{\"id\":\"82f27798-17fc-41d7-9b03-f0d07aba9eab\",\"type\":\"LinearAxis\"},{\"id\":\"5074e497-22c4-41fb-93ad-66c8cd3e1f26\",\"type\":\"Grid\"},{\"id\":\"a91abea7-d1da-4e61-a04a-257869dde6da\",\"type\":\"Legend\"},{\"id\":\"92c19b78-1e2b-44bb-9c11-5fb0702b37b2\",\"type\":\"GlyphRenderer\"},{\"id\":\"f159724e-e5fd-40d0-966c-f33e02df5cc5\",\"type\":\"GlyphRenderer\"},{\"id\":\"4d8c23c3-c6b1-4cc4-b419-244698f06042\",\"type\":\"LinearAxis\"}],\"right\":[{\"id\":\"4d8c23c3-c6b1-4cc4-b419-244698f06042\",\"type\":\"LinearAxis\"}],\"title\":\"Profile Results\",\"tool_events\":{\"id\":\"03b590ff-45de-45a7-bc59-43cfeef5e98c\",\"type\":\"ToolEvents\"},\"tools\":[{\"id\":\"38f626c5-dcd1-4275-901f-56ab33471850\",\"type\":\"PreviewSaveTool\"},{\"id\":\"e9f7df4a-2040-4650-a33d-f25c209e5d8a\",\"type\":\"ResetTool\"},{\"id\":\"2d118b37-b95c-487e-9d60-f75e25b23e72\",\"type\":\"ResizeTool\"},{\"id\":\"7802ee7b-c587-464c-8aa9-2943d9faf71e\",\"type\":\"WheelZoomTool\"},{\"id\":\"ac9cfd04-098b-40c7-b722-12d89e69635a\",\"type\":\"PanTool\"}],\"x_range\":{\"id\":\"bb03ab8e-272b-47b3-acba-f05d862c4929\",\"type\":\"Range1d\"},\"y_range\":{\"id\":\"ee559e51-4aa8-4ba3-9c42-31421285207a\",\"type\":\"Range1d\"}},\"id\":\"89138761-3bbc-4e96-939e-93b3ff9a887f\",\"subtype\":\"Figure\",\"type\":\"Plot\"},{\"attributes\":{\"legends\":[[\"% CPU\",[{\"id\":\"997e76ed-cd45-4286-8e99-57cd1fb42561\",\"type\":\"GlyphRenderer\"}]],[\"Memory\",[{\"id\":\"f18ab0d5-f359-4633-830a-65b1d773993d\",\"type\":\"GlyphRenderer\"}]]],\"plot\":{\"id\":\"2192b746-99fd-40ee-98d7-7c41a8f10856\",\"subtype\":\"Figure\",\"type\":\"Plot\"}},\"id\":\"2987bb98-f0f9-44e6-8aac-06603d54c292\",\"type\":\"Legend\"},{\"attributes\":{\"below\":[{\"id\":\"cb3a99d0-e45b-458e-9044-b13028c548dd\",\"type\":\"LinearAxis\"}],\"extra_y_ranges\":{\"memory\":{\"id\":\"43334d8a-080c-4540-a6bc-243b77d3a311\",\"type\":\"Range1d\"}},\"left\":[{\"id\":\"643e5d15-c2c3-4007-b22e-47db2c02a610\",\"type\":\"LinearAxis\"}],\"plot_height\":300,\"plot_width\":800,\"renderers\":[{\"id\":\"cb3a99d0-e45b-458e-9044-b13028c548dd\",\"type\":\"LinearAxis\"},{\"id\":\"5b7fc047-3408-4d6a-92f9-70f4b0493a52\",\"type\":\"Grid\"},{\"id\":\"643e5d15-c2c3-4007-b22e-47db2c02a610\",\"type\":\"LinearAxis\"},{\"id\":\"c46d7f58-e9be-43c8-ae57-bf8400f8a897\",\"type\":\"Grid\"},{\"id\":\"2b3f384d-3c78-4df9-9a02-cc5c2ad923c4\",\"type\":\"Legend\"},{\"id\":\"8480946a-88fb-4486-a279-6abf0f603369\",\"type\":\"GlyphRenderer\"},{\"id\":\"6fd4e3c5-722e-4f23-ad1e-a3004a0df512\",\"type\":\"GlyphRenderer\"},{\"id\":\"d29d6ef9-72a5-40b0-adfe-92b16fc2acaa\",\"type\":\"LinearAxis\"}],\"right\":[{\"id\":\"d29d6ef9-72a5-40b0-adfe-92b16fc2acaa\",\"type\":\"LinearAxis\"}],\"title\":\"Profile Results\",\"tool_events\":{\"id\":\"b8bd3b85-6136-46ba-8cd0-67885aed7b52\",\"type\":\"ToolEvents\"},\"tools\":[{\"id\":\"8cc58f70-df0c-462a-b197-49ed76134369\",\"type\":\"PreviewSaveTool\"},{\"id\":\"9e9e33b4-f882-4bd9-b59a-84cb8957cf38\",\"type\":\"ResetTool\"},{\"id\":\"fcf6be81-2b5d-41ed-918e-0709c447ec39\",\"type\":\"ResizeTool\"},{\"id\":\"525d1bc3-0040-47b5-ace0-70d3514526b1\",\"type\":\"WheelZoomTool\"},{\"id\":\"fe9330ac-184a-4517-94b0-134f29def591\",\"type\":\"PanTool\"}],\"x_range\":{\"id\":\"d213a333-b3af-47cb-8bfa-967ea2079a77\",\"type\":\"Range1d\"},\"y_range\":{\"id\":\"4b9e024d-7183-4370-b4f2-235b7e6b0635\",\"type\":\"Range1d\"}},\"id\":\"648da514-c73a-4f1c-b594-8089647be127\",\"subtype\":\"Figure\",\"type\":\"Plot\"},{\"attributes\":{\"callback\":null,\"end\":133.8},\"id\":\"4b9e024d-7183-4370-b4f2-235b7e6b0635\",\"type\":\"Range1d\"},{\"attributes\":{},\"id\":\"deff1c1d-74ec-4cc3-9def-3a6a47f8a753\",\"type\":\"BasicTicker\"},{\"attributes\":{},\"id\":\"0449b9b9-6c46-470f-8590-e15e4da2f211\",\"type\":\"BasicTicker\"},{\"attributes\":{\"below\":[{\"id\":\"07a042a1-5bdc-473f-860c-77885278259d\",\"type\":\"LinearAxis\"}],\"extra_y_ranges\":{\"memory\":{\"id\":\"fc11f57f-5dcf-416e-a0ea-4c14094664da\",\"type\":\"Range1d\"}},\"left\":[{\"id\":\"d749628d-2598-40ce-8ee8-6f1d5c3d569d\",\"type\":\"LinearAxis\"}],\"plot_height\":300,\"plot_width\":800,\"renderers\":[{\"id\":\"07a042a1-5bdc-473f-860c-77885278259d\",\"type\":\"LinearAxis\"},{\"id\":\"f8eb28c8-d8a9-4080-afeb-d31367c48dfc\",\"type\":\"Grid\"},{\"id\":\"d749628d-2598-40ce-8ee8-6f1d5c3d569d\",\"type\":\"LinearAxis\"},{\"id\":\"5d2654a4-d340-47cb-8513-f57e84d9d647\",\"type\":\"Grid\"},{\"id\":\"2987bb98-f0f9-44e6-8aac-06603d54c292\",\"type\":\"Legend\"},{\"id\":\"997e76ed-cd45-4286-8e99-57cd1fb42561\",\"type\":\"GlyphRenderer\"},{\"id\":\"f18ab0d5-f359-4633-830a-65b1d773993d\",\"type\":\"GlyphRenderer\"},{\"id\":\"08438e4f-01f5-4ada-b3be-45cd31d19e47\",\"type\":\"LinearAxis\"}],\"right\":[{\"id\":\"08438e4f-01f5-4ada-b3be-45cd31d19e47\",\"type\":\"LinearAxis\"}],\"title\":\"Profile Results\",\"tool_events\":{\"id\":\"5220a80a-282f-479f-8b3e-d0e19a1d5ab5\",\"type\":\"ToolEvents\"},\"tools\":[{\"id\":\"8aef3155-382f-4e72-8c08-d5be09c69104\",\"type\":\"PreviewSaveTool\"},{\"id\":\"32541596-3b91-42f3-b03e-48a373460515\",\"type\":\"ResetTool\"},{\"id\":\"df332944-9547-4ff9-be17-a9a81d17c8b0\",\"type\":\"ResizeTool\"},{\"id\":\"1a579a18-dcfd-457c-a3ff-268c724cfd00\",\"type\":\"WheelZoomTool\"},{\"id\":\"de2623a4-4427-40d0-ab02-9146c99279ab\",\"type\":\"PanTool\"}],\"x_range\":{\"id\":\"1d8d1093-77b6-4410-abc8-5224bb83eff9\",\"type\":\"Range1d\"},\"y_range\":{\"id\":\"2290ca75-dbf6-45ca-93a2-35ac1e298758\",\"type\":\"Range1d\"}},\"id\":\"2192b746-99fd-40ee-98d7-7c41a8f10856\",\"subtype\":\"Figure\",\"type\":\"Plot\"},{\"attributes\":{\"plot\":{\"id\":\"29adb289-516b-4949-9c79-7a5583853ae0\",\"subtype\":\"Figure\",\"type\":\"Plot\"}},\"id\":\"c2a37d54-7f1b-4add-8f44-54da3a1c1432\",\"type\":\"PreviewSaveTool\"},{\"attributes\":{\"callback\":null,\"column_names\":[\"x\",\"y\"],\"data\":{\"x\":[0.0,1.020351061000838,2.0216233730025124,3.022917068003153,4.024211183001171,5.025467273997492,6.026875092997216,7.028189051998197,8.02945283200097,9.030793858000834,10.032075629002065,11.033378305000952,12.03468349600007,13.035725365996768,14.037032961001387,15.03829831800249,16.03958813600184,17.040849099998013,18.04220088799775,19.043494254998222,20.044842547998996,21.046168763001333,22.047472527003265,23.04881361399748,24.049859232000017,25.05114377800055,26.051800421002554,27.053062915998453,28.05351545799931,29.05478985299851,30.056158847000916,31.057463199002086,32.058788100999664,33.06007256200246,34.061367483998765,35.062567332999606,36.06391817700205,37.0652260679999,38.066540678999445,39.06773901900306,40.06904101800319,41.07032427700324,42.07106590899639,43.07238402799703,44.07366687100148,45.07496508400072,46.076290495999274,47.077604234997125,48.07889515400166,49.07973378799943,50.081003403996874,51.082362674998876,52.08369164499891,53.08498121800221,54.08634465200157,55.08761001899984,56.08895050400315,57.09024209200288,58.0915067599999,59.09287318400311,60.09424671799934,61.09555200199975,62.096869095999864,63.09817463399668,64.09947087299952,65.10083225300332,66.10212589499861,67.10341231000348,68.10395287199935,69.10524844400061,70.10654195999814,71.10782898199977,72.10912926599849,73.11051765800221,74.11181967199809,75.11311609300174,76.11438025999814,77.11569047300145,78.11698446600349,79.11827858899778,80.11869302899868,81.11998097600008,82.12082168299821,83.12211007600126,84.12339914400218,85.12472377400263,86.12599156799843,87.12737319200096,88.12772950100043,89.12902987399866,90.1303487710029,91.13168628799758,92.1330065229995,93.13429762500164,94.13577514600183,95.13723640600074,96.13817172899871,97.13943835700047,98.14075771899661,99.14206914399983,100.14343255700078,101.14471090000006,102.14600708900252,103.14739021300193,104.1487882759975,105.15007751999656,106.15137165800115,107.15268733900302,108.15398293999897,109.15428950500063,110.1556555549978,111.15695219799818,112.1582593819985,113.15954388299724,114.16085534200101,115.1621677639996,116.1634535560006,117.16480563100049,118.16610901599779,119.16741220199765,120.16872462099855,121.1699913659977,122.1712906679968,123.17258827399928,124.17322594900179,125.17451106500084,126.17586048100202,127.17720269200072],\"y\":[0.0,102.0,129.8,131.8,132.8,129.8,132.8,130.8,129.8,131.8,130.8,132.8,131.8,131.9,131.8,130.8,130.8,131.8,132.8,130.8,130.8,132.8,129.8,130.8,131.9,131.8,131.9,131.8,130.9,130.8,130.8,131.8,130.8,131.8,131.8,130.8,130.8,131.8,130.8,131.8,131.8,131.8,133.9,130.8,130.8,131.8,130.8,130.8,131.8,131.9,132.8,131.8,130.8,129.8,130.8,132.8,130.8,131.8,131.8,129.8,131.8,130.8,130.8,131.8,130.8,130.8,130.8,130.8,131.9,129.8,132.8,130.8,130.8,129.8,131.8,132.8,131.8,131.8,130.8,132.8,131.9,130.8,129.9,132.8,131.8,130.8,132.8,130.8,132.0,131.8,131.8,129.8,132.8,131.8,131.8,132.8,130.9,130.8,131.8,131.8,132.8,131.8,131.8,129.8,131.8,129.8,133.8,130.8,130.8,132.0,129.8,131.8,131.8,130.8,129.8,132.8,131.8,129.8,132.8,130.8,130.8,130.8,130.8,132.8,131.9,130.8,129.8,129.8]}},\"id\":\"972c2e1d-794e-40bb-89fc-ef577bfd8cc5\",\"type\":\"ColumnDataSource\"},{\"attributes\":{\"axis_label\":\"Time (s)\",\"formatter\":{\"id\":\"49a48a56-bab4-460b-be8d-9a27c1de319e\",\"type\":\"BasicTickFormatter\"},\"plot\":{\"id\":\"2192b746-99fd-40ee-98d7-7c41a8f10856\",\"subtype\":\"Figure\",\"type\":\"Plot\"},\"ticker\":{\"id\":\"72d715ac-8680-41d5-8190-9dc114894189\",\"type\":\"BasicTicker\"}},\"id\":\"07a042a1-5bdc-473f-860c-77885278259d\",\"type\":\"LinearAxis\"},{\"attributes\":{},\"id\":\"46ef529c-c935-419f-ba97-44bc6557a008\",\"type\":\"BasicTicker\"},{\"attributes\":{\"plot\":{\"id\":\"89138761-3bbc-4e96-939e-93b3ff9a887f\",\"subtype\":\"Figure\",\"type\":\"Plot\"}},\"id\":\"38f626c5-dcd1-4275-901f-56ab33471850\",\"type\":\"PreviewSaveTool\"},{\"attributes\":{\"legends\":[[\"% CPU\",[{\"id\":\"92c19b78-1e2b-44bb-9c11-5fb0702b37b2\",\"type\":\"GlyphRenderer\"}]],[\"Memory\",[{\"id\":\"f159724e-e5fd-40d0-966c-f33e02df5cc5\",\"type\":\"GlyphRenderer\"}]]],\"plot\":{\"id\":\"89138761-3bbc-4e96-939e-93b3ff9a887f\",\"subtype\":\"Figure\",\"type\":\"Plot\"}},\"id\":\"a91abea7-d1da-4e61-a04a-257869dde6da\",\"type\":\"Legend\"},{\"attributes\":{\"plot\":{\"id\":\"29adb289-516b-4949-9c79-7a5583853ae0\",\"subtype\":\"Figure\",\"type\":\"Plot\"}},\"id\":\"989de691-b07b-4ae7-b91d-f2b144f1690e\",\"type\":\"ResetTool\"},{\"attributes\":{\"callback\":null,\"column_names\":[\"y\",\"x\"],\"data\":{\"x\":[0.0,1.0142777970031602,2.015495801002544,3.0168478460036567,4.0182239710047725,5.019572803998017,6.020888699000352,7.022248391003814,8.02356138399773,9.0249767589994,10.026371840001957],\"y\":[880.181248,880.508928,745.701376,755.851264,796.717056,848.379904,898.248704,950.595584,1001.59488,1053.151232,1107.939328]}},\"id\":\"77639b62-5aa0-4609-ad52-ed71a6a0b1ce\",\"type\":\"ColumnDataSource\"},{\"attributes\":{\"plot\":{\"id\":\"29adb289-516b-4949-9c79-7a5583853ae0\",\"subtype\":\"Figure\",\"type\":\"Plot\"},\"ticker\":{\"id\":\"e2f17dc0-5f74-4df4-85fb-fbfc2fc51549\",\"type\":\"BasicTicker\"}},\"id\":\"e7f344ad-9799-4829-8651-634f9bd2249d\",\"type\":\"Grid\"},{\"attributes\":{\"dimension\":1,\"plot\":{\"id\":\"89138761-3bbc-4e96-939e-93b3ff9a887f\",\"subtype\":\"Figure\",\"type\":\"Plot\"},\"ticker\":{\"id\":\"deff1c1d-74ec-4cc3-9def-3a6a47f8a753\",\"type\":\"BasicTicker\"}},\"id\":\"5074e497-22c4-41fb-93ad-66c8cd3e1f26\",\"type\":\"Grid\"},{\"attributes\":{},\"id\":\"227563b1-1855-44bb-8dc9-adebdb24bb2a\",\"type\":\"BasicTicker\"},{\"attributes\":{},\"id\":\"03b590ff-45de-45a7-bc59-43cfeef5e98c\",\"type\":\"ToolEvents\"},{\"attributes\":{\"data_source\":{\"id\":\"a4d244fe-1ae2-41da-a9b3-6c1865d857bd\",\"type\":\"ColumnDataSource\"},\"glyph\":{\"id\":\"a7fa199c-8aa3-43f7-ab66-816f02dc4949\",\"type\":\"Line\"},\"hover_glyph\":null,\"nonselection_glyph\":{\"id\":\"c98d69af-5bce-493f-ad23-a5b01bd07f89\",\"type\":\"Line\"},\"selection_glyph\":null},\"id\":\"92c19b78-1e2b-44bb-9c11-5fb0702b37b2\",\"type\":\"GlyphRenderer\"},{\"attributes\":{\"line_alpha\":{\"value\":0.1},\"line_color\":{\"value\":\"#1f77b4\"},\"line_width\":{\"value\":4},\"x\":{\"field\":\"x\"},\"y\":{\"field\":\"y\"}},\"id\":\"9ab06ecd-f2b9-4bbc-b26c-7fa6d1d91b0e\",\"type\":\"Line\"},{\"attributes\":{\"plot\":{\"id\":\"2192b746-99fd-40ee-98d7-7c41a8f10856\",\"subtype\":\"Figure\",\"type\":\"Plot\"}},\"id\":\"8aef3155-382f-4e72-8c08-d5be09c69104\",\"type\":\"PreviewSaveTool\"},{\"attributes\":{},\"id\":\"12905731-2cab-4bd5-894a-ec7d1c16cdc9\",\"type\":\"BasicTickFormatter\"},{\"attributes\":{\"line_alpha\":{\"value\":0.1},\"line_color\":{\"value\":\"#1f77b4\"},\"line_width\":{\"value\":4},\"x\":{\"field\":\"x\"},\"y\":{\"field\":\"y\"}},\"id\":\"c98d69af-5bce-493f-ad23-a5b01bd07f89\",\"type\":\"Line\"},{\"attributes\":{},\"id\":\"e622c638-7e82-4a4d-8c3e-721ee5fa61bb\",\"type\":\"BasicTickFormatter\"},{\"attributes\":{\"callback\":null,\"end\":752.0},\"id\":\"ee559e51-4aa8-4ba3-9c42-31421285207a\",\"type\":\"Range1d\"},{\"attributes\":{\"data_source\":{\"id\":\"38038449-aede-4ab8-8f43-67d3ddc62563\",\"type\":\"ColumnDataSource\"},\"glyph\":{\"id\":\"e0c4cd51-1752-4db4-87c1-081f3342a92a\",\"type\":\"Line\"},\"hover_glyph\":null,\"nonselection_glyph\":{\"id\":\"d668d6a7-41ee-40fb-92be-2a13f42ba58b\",\"type\":\"Line\"},\"selection_glyph\":null},\"id\":\"6e06e102-49e9-4b41-abf7-79630075b102\",\"type\":\"GlyphRenderer\"},{\"attributes\":{},\"id\":\"e2f17dc0-5f74-4df4-85fb-fbfc2fc51549\",\"type\":\"BasicTicker\"},{\"attributes\":{\"dimensions\":[\"width\"],\"plot\":{\"id\":\"29adb289-516b-4949-9c79-7a5583853ae0\",\"subtype\":\"Figure\",\"type\":\"Plot\"}},\"id\":\"99bb8836-657e-48b4-8265-2c8fea8f0da2\",\"type\":\"PanTool\"},{\"attributes\":{},\"id\":\"8ac9870b-1c25-4353-9379-2d136b9e3f7e\",\"type\":\"BasicTickFormatter\"},{\"attributes\":{\"axis_label\":\"Memory (MB)\",\"formatter\":{\"id\":\"e622c638-7e82-4a4d-8c3e-721ee5fa61bb\",\"type\":\"BasicTickFormatter\"},\"plot\":{\"id\":\"89138761-3bbc-4e96-939e-93b3ff9a887f\",\"subtype\":\"Figure\",\"type\":\"Plot\"},\"ticker\":{\"id\":\"227563b1-1855-44bb-8dc9-adebdb24bb2a\",\"type\":\"BasicTicker\"},\"y_range_name\":\"memory\"},\"id\":\"4d8c23c3-c6b1-4cc4-b419-244698f06042\",\"type\":\"LinearAxis\"},{\"attributes\":{},\"id\":\"b8bd3b85-6136-46ba-8cd0-67885aed7b52\",\"type\":\"ToolEvents\"},{\"attributes\":{\"line_color\":{\"value\":\"#41b6c4\"},\"line_width\":{\"value\":4},\"x\":{\"field\":\"x\"},\"y\":{\"field\":\"y\"}},\"id\":\"647edc35-1831-45e2-bb88-e4edfde355ee\",\"type\":\"Line\"},{\"attributes\":{\"dimension\":1,\"plot\":{\"id\":\"29adb289-516b-4949-9c79-7a5583853ae0\",\"subtype\":\"Figure\",\"type\":\"Plot\"},\"ticker\":{\"id\":\"56e71274-c5b3-4a3d-93f7-b19eafffce1b\",\"type\":\"BasicTicker\"}},\"id\":\"20a83806-1db9-4305-b6f0-2c1160665ad8\",\"type\":\"Grid\"},{\"attributes\":{\"plot\":{\"id\":\"648da514-c73a-4f1c-b594-8089647be127\",\"subtype\":\"Figure\",\"type\":\"Plot\"}},\"id\":\"fcf6be81-2b5d-41ed-918e-0709c447ec39\",\"type\":\"ResizeTool\"},{\"attributes\":{\"plot\":{\"id\":\"89138761-3bbc-4e96-939e-93b3ff9a887f\",\"subtype\":\"Figure\",\"type\":\"Plot\"},\"ticker\":{\"id\":\"7a9c5011-e8c0-4dbf-8c75-2c0a1263cb0f\",\"type\":\"BasicTicker\"}},\"id\":\"c09d7416-e3c5-4397-87ee-134e179e6326\",\"type\":\"Grid\"},{\"attributes\":{\"below\":[{\"id\":\"47caced4-5588-4dce-aff7-8eaea957d91e\",\"type\":\"LinearAxis\"}],\"extra_y_ranges\":{\"memory\":{\"id\":\"b02f7d03-3fe1-4df7-872d-f33366fe7608\",\"type\":\"Range1d\"}},\"left\":[{\"id\":\"f2345a0d-fafc-4b55-91ea-5c77c02d27ea\",\"type\":\"LinearAxis\"}],\"plot_height\":300,\"plot_width\":800,\"renderers\":[{\"id\":\"47caced4-5588-4dce-aff7-8eaea957d91e\",\"type\":\"LinearAxis\"},{\"id\":\"e7f344ad-9799-4829-8651-634f9bd2249d\",\"type\":\"Grid\"},{\"id\":\"f2345a0d-fafc-4b55-91ea-5c77c02d27ea\",\"type\":\"LinearAxis\"},{\"id\":\"20a83806-1db9-4305-b6f0-2c1160665ad8\",\"type\":\"Grid\"},{\"id\":\"8e173add-14b8-4521-bad6-5cc387e02351\",\"type\":\"Legend\"},{\"id\":\"6e06e102-49e9-4b41-abf7-79630075b102\",\"type\":\"GlyphRenderer\"},{\"id\":\"ab2fe4b5-9c11-4261-8796-58f70b07b40d\",\"type\":\"GlyphRenderer\"},{\"id\":\"ea36f22f-e562-4f0f-8f1b-5d8ef40c7455\",\"type\":\"LinearAxis\"}],\"right\":[{\"id\":\"ea36f22f-e562-4f0f-8f1b-5d8ef40c7455\",\"type\":\"LinearAxis\"}],\"title\":\"Profile Results\",\"tool_events\":{\"id\":\"d83a72a7-5c56-4228-b2f5-dfb0f732ff64\",\"type\":\"ToolEvents\"},\"tools\":[{\"id\":\"c2a37d54-7f1b-4add-8f44-54da3a1c1432\",\"type\":\"PreviewSaveTool\"},{\"id\":\"989de691-b07b-4ae7-b91d-f2b144f1690e\",\"type\":\"ResetTool\"},{\"id\":\"792b639b-f7f7-4434-85d5-6f676e5eed04\",\"type\":\"ResizeTool\"},{\"id\":\"bccdf911-ff8f-4522-ad52-504111100f62\",\"type\":\"WheelZoomTool\"},{\"id\":\"99bb8836-657e-48b4-8265-2c8fea8f0da2\",\"type\":\"PanTool\"}],\"x_range\":{\"id\":\"1a167c8f-8686-44a6-a42c-a5be458ec392\",\"type\":\"Range1d\"},\"y_range\":{\"id\":\"3db32317-c4d1-4218-bc58-db2bc62deecc\",\"type\":\"Range1d\"}},\"id\":\"29adb289-516b-4949-9c79-7a5583853ae0\",\"subtype\":\"Figure\",\"type\":\"Plot\"},{\"attributes\":{\"plot\":{\"id\":\"2192b746-99fd-40ee-98d7-7c41a8f10856\",\"subtype\":\"Figure\",\"type\":\"Plot\"},\"ticker\":{\"id\":\"72d715ac-8680-41d5-8190-9dc114894189\",\"type\":\"BasicTicker\"}},\"id\":\"f8eb28c8-d8a9-4080-afeb-d31367c48dfc\",\"type\":\"Grid\"},{\"attributes\":{\"data_source\":{\"id\":\"f4ff7f06-9a17-498c-a2fa-4a217d022b5e\",\"type\":\"ColumnDataSource\"},\"glyph\":{\"id\":\"534287eb-4e13-4e1c-8b4b-f67e47baccb8\",\"type\":\"Line\"},\"hover_glyph\":null,\"nonselection_glyph\":{\"id\":\"9764d8db-ca2e-4854-8a59-23f3a4519199\",\"type\":\"Line\"},\"selection_glyph\":null,\"y_range_name\":\"memory\"},\"id\":\"6fd4e3c5-722e-4f23-ad1e-a3004a0df512\",\"type\":\"GlyphRenderer\"},{\"attributes\":{},\"id\":\"5220a80a-282f-479f-8b3e-d0e19a1d5ab5\",\"type\":\"ToolEvents\"},{\"attributes\":{},\"id\":\"d83a72a7-5c56-4228-b2f5-dfb0f732ff64\",\"type\":\"ToolEvents\"},{\"attributes\":{\"axis_label\":\"% CPU\",\"formatter\":{\"id\":\"26e2637d-02b5-4e54-987a-03938deebc05\",\"type\":\"BasicTickFormatter\"},\"plot\":{\"id\":\"89138761-3bbc-4e96-939e-93b3ff9a887f\",\"subtype\":\"Figure\",\"type\":\"Plot\"},\"ticker\":{\"id\":\"deff1c1d-74ec-4cc3-9def-3a6a47f8a753\",\"type\":\"BasicTicker\"}},\"id\":\"82f27798-17fc-41d7-9b03-f0d07aba9eab\",\"type\":\"LinearAxis\"},{\"attributes\":{\"axis_label\":\"% CPU\",\"formatter\":{\"id\":\"092d73f0-7e8b-4d4a-9a86-8d2c44c7f43c\",\"type\":\"BasicTickFormatter\"},\"plot\":{\"id\":\"29adb289-516b-4949-9c79-7a5583853ae0\",\"subtype\":\"Figure\",\"type\":\"Plot\"},\"ticker\":{\"id\":\"56e71274-c5b3-4a3d-93f7-b19eafffce1b\",\"type\":\"BasicTicker\"}},\"id\":\"f2345a0d-fafc-4b55-91ea-5c77c02d27ea\",\"type\":\"LinearAxis\"},{\"attributes\":{\"line_alpha\":{\"value\":0.1},\"line_color\":{\"value\":\"#1f77b4\"},\"line_width\":{\"value\":4},\"x\":{\"field\":\"x\"},\"y\":{\"field\":\"y\"}},\"id\":\"d668d6a7-41ee-40fb-92be-2a13f42ba58b\",\"type\":\"Line\"},{\"attributes\":{\"axis_label\":\"% CPU\",\"formatter\":{\"id\":\"201b5173-8d3c-4826-a84d-007d45c205a0\",\"type\":\"BasicTickFormatter\"},\"plot\":{\"id\":\"648da514-c73a-4f1c-b594-8089647be127\",\"subtype\":\"Figure\",\"type\":\"Plot\"},\"ticker\":{\"id\":\"46ef529c-c935-419f-ba97-44bc6557a008\",\"type\":\"BasicTicker\"}},\"id\":\"643e5d15-c2c3-4007-b22e-47db2c02a610\",\"type\":\"LinearAxis\"},{\"attributes\":{\"legends\":[[\"% CPU\",[{\"id\":\"8480946a-88fb-4486-a279-6abf0f603369\",\"type\":\"GlyphRenderer\"}]],[\"Memory\",[{\"id\":\"6fd4e3c5-722e-4f23-ad1e-a3004a0df512\",\"type\":\"GlyphRenderer\"}]]],\"plot\":{\"id\":\"648da514-c73a-4f1c-b594-8089647be127\",\"subtype\":\"Figure\",\"type\":\"Plot\"}},\"id\":\"2b3f384d-3c78-4df9-9a02-cc5c2ad923c4\",\"type\":\"Legend\"},{\"attributes\":{\"callback\":null,\"column_names\":[\"y\",\"x\"],\"data\":{\"x\":[0.0,1.0143253109999932,2.0155612239977927,3.01693399999931,4.018245297003887,5.018846094004402,6.020148328003415,7.021468019003805,8.022807276000094,9.024112184000842,10.025168897002004,11.02653271699819,12.02786617899983,13.029190393004683,14.030578721001802,15.03135482899961,16.032629450004606,17.03394069600472,18.035230030000093,19.036595782003133,20.03789811400202,21.039191109004605,22.04050322600233,23.04178739499912,24.043127466000442,25.044612620004045,26.04591193300439,27.04725227200106,28.048547028003668,29.0498424000034,30.051136499998393,31.052455400000326,32.053752006999275,33.05502802900446,34.056393753999146,35.05767425399972,36.05904188500426,37.060345293000864,38.061663202999625,39.062808105998556,40.06416501100466,41.06568570100353,42.06700941199961,43.06828932600183,44.0696432170007,45.070800624002004,46.0721108430007,47.07339799500187,48.074703263999254,49.07599657100218,50.07698814899777,51.07828383400192,52.07955550200131,53.080887098003586,54.08225346400286,55.08351852399937,56.08478386200295,57.08555878200423,58.08691681300115,59.08822017900093,60.08958498499851,61.09094135700434,62.09227328500128,63.09356146600476,64.09488638600305,65.09619603300234,66.09749707500305,67.09879715600255,68.09957369900076,69.10086332500214,70.10158063500421,71.10289183699933,72.10421298500296,73.10550937399967,74.10678477200418,75.10813360800239,76.10945169399929,77.1108116989999,78.1122282100041,79.11351960700267,80.11480474199925,81.11612945500383,82.1174250940021,83.1187382950011,84.12003584799822,85.12090355100372,86.12202192199766,87.12280020400067,88.12409532900347,89.12541394300206,90.12670342699857,91.12802545999875,92.12837522700283,93.12966397000127,94.13097134300187,95.13224543999968,96.13359674800449,97.1348166530006,98.13617492400226,99.13700259500183,100.13836080200417,101.13969141199777,102.14099644900125,103.14241833900451,104.14367383500212,105.14495648699813,106.14641655499872,107.1474881940012,108.14884364799946,109.15014385800168,110.15144719000091,111.15281032100029,112.15413033000368,113.15481192600419,114.1560468020034,115.15751873100089,116.15878871500172,117.16017116900184,118.16145223900094,119.1627566130046,120.16408468600275,121.16536901899963,122.16666931899817,123.16799552799785,124.16928933600138,125.170624710001,126.17197789600323],\"y\":[1325.735936,1339.813888,1022.816256,973.869056,973.869056,973.869056,973.869056,973.869056,973.869056,973.877248,973.88544,973.889536,973.910016,976.371712,976.412672,976.412672,976.429056,976.44544,976.44544,976.449536,976.449536,978.939904,979.16928,980.680704,980.934656,982.216704,985.088,988.925952,990.3104,992.366592,992.575488,998.838272,1001.6768,1008.20992,1011.707904,1014.136832,1022.70976,1025.605632,1027.493888,1028.571136,1036.914688,1032.597504,1041.24416,1045.835776,1046.913024,1049.341952,1052.844032,1058.807808,1061.240832,1063.66976,1069.039616,1073.905664,1075.75296,1081.688064,1083.285504,1085.984768,1086.52544,1092.194304,1092.34176,1099.10016,1105.584128,1109.950464,1111.57248,1112.920064,1115.623424,1118.3104,1121.01376,1126.95296,1129.926656,1136.951296,1141.817344,1141.567488,1145.880576,1150.34112,1155.743744,1157.566464,1160.269824,1165.402112,1169.186816,1170.264064,1174.581248,1177.82528,1179.713536,1187.004416,1189.974016,1193.668608,1194.893312,1200.832512,1204.20352,1209.606144,1210.957824,1214.738432,1215.807488,1221.480448,1224.994816,1229.852672,1234.71872,1234.989056,1238.372352,1243.697152,1248.018432,1255.849984,1256.38656,1259.896832,1261.248512,1265.614848,1267.494912,1275.33056,1280.458752,1282.62144,1286.406144,1289.408512,1292.255232,1299.001344,1303.310336,1307.619328,1313.23904,1313.312768,1314.762752,1318.54336,1319.89504,1322.94656,1322.94656,1323.896832,1332.199424,1335.136256,1340.534784]}},\"id\":\"f4ff7f06-9a17-498c-a2fa-4a217d022b5e\",\"type\":\"ColumnDataSource\"},{\"attributes\":{},\"id\":\"72d715ac-8680-41d5-8190-9dc114894189\",\"type\":\"BasicTicker\"},{\"attributes\":{\"callback\":null,\"end\":126.17197789600323},\"id\":\"d213a333-b3af-47cb-8bfa-967ea2079a77\",\"type\":\"Range1d\"},{\"attributes\":{\"callback\":null,\"column_names\":[\"x\",\"y\"],\"data\":{\"x\":[0.0,1.0213050140009727,2.022573182999622,3.02389823699923,4.02480943500268,5.026184487003775,6.027501297998242,7.028806440997869,8.030163000003085,9.031481566002185,10.032834905003256,11.034162167998147,12.035467784000502,13.03680585300026,14.038170778003405],\"y\":[0.0,108.7,745.0,744.0,739.3,730.0,752.0,743.0,749.0,739.0,737.0,736.0,740.0,739.0,699.0]}},\"id\":\"a4d244fe-1ae2-41da-a9b3-6c1865d857bd\",\"type\":\"ColumnDataSource\"},{\"attributes\":{},\"id\":\"56e71274-c5b3-4a3d-93f7-b19eafffce1b\",\"type\":\"BasicTicker\"},{\"attributes\":{\"axis_label\":\"Memory (MB)\",\"formatter\":{\"id\":\"d239f48a-296f-4d2d-b006-d3b640108e37\",\"type\":\"BasicTickFormatter\"},\"plot\":{\"id\":\"2192b746-99fd-40ee-98d7-7c41a8f10856\",\"subtype\":\"Figure\",\"type\":\"Plot\"},\"ticker\":{\"id\":\"9fe15e34-ffe6-42a0-9a5c-9da0ec299792\",\"type\":\"BasicTicker\"},\"y_range_name\":\"memory\"},\"id\":\"08438e4f-01f5-4ada-b3be-45cd31d19e47\",\"type\":\"LinearAxis\"},{\"attributes\":{},\"id\":\"9fe15e34-ffe6-42a0-9a5c-9da0ec299792\",\"type\":\"BasicTicker\"},{\"attributes\":{\"line_color\":{\"value\":\"#41b6c4\"},\"line_width\":{\"value\":4},\"x\":{\"field\":\"x\"},\"y\":{\"field\":\"y\"}},\"id\":\"d2f52197-6b70-46f5-941f-c519c3126e8a\",\"type\":\"Line\"},{\"attributes\":{\"dimensions\":[\"width\"],\"plot\":{\"id\":\"29adb289-516b-4949-9c79-7a5583853ae0\",\"subtype\":\"Figure\",\"type\":\"Plot\"}},\"id\":\"bccdf911-ff8f-4522-ad52-504111100f62\",\"type\":\"WheelZoomTool\"},{\"attributes\":{},\"id\":\"821e6e8c-e705-46c4-8925-0f5fc88c51fc\",\"type\":\"BasicTicker\"}],\"root_ids\":[\"2192b746-99fd-40ee-98d7-7c41a8f10856\",\"648da514-c73a-4f1c-b594-8089647be127\",\"89138761-3bbc-4e96-939e-93b3ff9a887f\",\"29adb289-516b-4949-9c79-7a5583853ae0\"]},\"title\":\"Bokeh Application\",\"version\":\"0.11.1\"}};\n",
       "            var render_items = [{\"docid\":\"77e0931c-1201-4bef-ba17-87c97b4caa7e\",\"elementid\":\"6367c165-c891-459e-81ee-d6defcd3fbea\",\"modelid\":\"29adb289-516b-4949-9c79-7a5583853ae0\",\"notebook_comms_target\":\"11adbcfb-c15b-4597-adec-9e89357b1232\"}];\n",
       "            \n",
       "            Bokeh.embed.embed_items(docs_json, render_items);\n",
       "        });\n",
       "      },\n",
       "      function(Bokeh) {\n",
       "      }\n",
       "    ];\n",
       "  \n",
       "    function run_inline_js() {\n",
       "      for (var i = 0; i < inline_js.length; i++) {\n",
       "        inline_js[i](window.Bokeh);\n",
       "      }\n",
       "    }\n",
       "  \n",
       "    if (window._bokeh_is_loading === 0) {\n",
       "      console.log(\"Bokeh: BokehJS loaded, going straight to plotting\");\n",
       "      run_inline_js();\n",
       "    } else {\n",
       "      load_libs(js_urls, function() {\n",
       "        console.log(\"Bokeh: BokehJS plotting callback run at\", now());\n",
       "        run_inline_js();\n",
       "      });\n",
       "    }\n",
       "  }(this));\n",
       "</script>"
      ]
     },
     "metadata": {},
     "output_type": "display_data"
    }
   ],
   "source": [
    "# run allele count computation via dask\n",
    "gdz = allel.model.dask.GenotypeDaskArray(genotype_zarr_lz4)\n",
    "acz = gdz.count_alleles(max_allele=3)\n",
    "with ResourceProfiler(dt=1) as rprof:\n",
    "    acz.compute()\n",
    "visualize(rprof);"
   ]
  },
  {
   "cell_type": "markdown",
   "metadata": {},
   "source": [
    "This goes even faster, and I'm still getting nearly full CPU utilisation, so probably I could push my SSD harder."
   ]
  },
  {
   "cell_type": "markdown",
   "metadata": {},
   "source": [
    "## Distributed Dask + Zarr"
   ]
  },
  {
   "cell_type": "markdown",
   "metadata": {},
   "source": [
    "I'm currently focused on making better use of multi-core processors, but others like [Matt Rocklin](https://github.com/mrocklin) are working on frameworks for large-scale distributed computing. After I released Zarr v0.4.0 in April, Matt got in touch to suggest a reorganization of the code so that Zarr arrays could be stored in distributed systems like S3 or HDFS. Earlier this week I [released Zarr v1.0.0](http://zarr.readthedocs.io/en/latest/release.html#release-1-0-0) which includes a new storage architecture to support this. Here is Matt on using the new version of Zarr with Dask and S3 on a 20 node (160 core) cluster...\n",
    "\n",
    "<iframe width=\"560\" height=\"315\" src=\"https://www.youtube.com/embed/8WtaYvqhxHc\" frameborder=\"0\" allowfullscreen></iframe>\n",
    "\n",
    "Dask’s distributed scheduler looks seriously cool. It’s exciting to think that computations I’m currently coding to run in parallel via Dask on my multi-core desktop could in future be scaled up to a large compute cluster without any extra work at all."
   ]
  },
  {
   "cell_type": "markdown",
   "metadata": {},
   "source": [
    "## Further reading"
   ]
  },
  {
   "cell_type": "markdown",
   "metadata": {},
   "source": [
    "To go with the new Zarr release there is some [new documentation](http://zarr.readthedocs.io/), including a [tutorial](http://zarr.readthedocs.io/en/latest/tutorial.html), [API reference](http://zarr.readthedocs.io/en/latest/api.html) and [storage specification](http://zarr.readthedocs.io/en/latest/spec/v1.html). Please bear in mind that Zarr is still a young project, so if you do take it for a spin, any [feedback is appreciated](https://github.com/alimanfoo/zarr/issues).\n",
    "\n",
    "See also:\n",
    "\n",
    "* [Dask](http://dask.pydata.org)\n",
    "* [h5py](http://www.h5py.org/)\n",
    "* [h5py parallel](http://docs.h5py.org/en/latest/mpi.html)"
   ]
  },
  {
   "cell_type": "code",
   "execution_count": 18,
   "metadata": {
    "collapsed": false
   },
   "outputs": [
    {
     "name": "stdout",
     "output_type": "stream",
     "text": [
      "2016-10-18T12:50:33.290971\n"
     ]
    }
   ],
   "source": [
    "import datetime\n",
    "print(datetime.datetime.now().isoformat())"
   ]
  }
 ],
 "metadata": {
  "kernelspec": {
   "display_name": "Python 3",
   "language": "python",
   "name": "python3"
  },
  "language_info": {
   "codemirror_mode": {
    "name": "ipython",
    "version": 3
   },
   "file_extension": ".py",
   "mimetype": "text/x-python",
   "name": "python",
   "nbconvert_exporter": "python",
   "pygments_lexer": "ipython3",
   "version": "3.5.2"
  }
 },
 "nbformat": 4,
 "nbformat_minor": 0
}
