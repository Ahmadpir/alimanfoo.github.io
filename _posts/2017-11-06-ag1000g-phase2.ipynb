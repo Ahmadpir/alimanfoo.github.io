{
 "cells": [
  {
   "cell_type": "markdown",
   "metadata": {},
   "source": [
    "Today we made the first [data release](https://www.malariagen.net/data/ag1000g-phase2-ar1) from phase 2 of the *Anopheles gambiae* 1000 genomes project ([Ag1000G](http://www.malariagen.net/ag1000g)). These data include variant calls and haplotypes for 1,142 wild-caught mosquitoes from 13 African countries, and 234 mosquitoes from 11 lab crosses. In this article I thought I would give a quick tour of the data release, summarizing some of the main features of the data.\n",
    "\n",
    "The data are available for download from a [public FTP site](ftp://ngs.sanger.ac.uk/production/ag1000g/phase2/AR1/). I have a copy of some of the files downloaded to a directory on my computer, so I'll be loading data from there."
   ]
  },
  {
   "cell_type": "code",
   "execution_count": 1,
   "metadata": {
    "collapsed": true
   },
   "outputs": [],
   "source": [
    "release_dir = 'data/ag1000g/phase2/AR1'"
   ]
  },
  {
   "cell_type": "markdown",
   "metadata": {},
   "source": [
    "## Population sampling"
   ]
  },
  {
   "cell_type": "markdown",
   "metadata": {},
   "source": [
    "Some metadata about the mosquitoes we've sampled is available in the \"samples\" sub-directory. Let's load metadata for the wild-caught mosquitoes."
   ]
  },
  {
   "cell_type": "code",
   "execution_count": 3,
   "metadata": {},
   "outputs": [
    {
     "data": {
      "text/html": [
       "<div>\n",
       "<table border=\"1\" class=\"dataframe\">\n",
       "  <thead>\n",
       "    <tr style=\"text-align: right;\">\n",
       "      <th></th>\n",
       "      <th>src_code</th>\n",
       "      <th>population</th>\n",
       "      <th>country</th>\n",
       "      <th>region</th>\n",
       "      <th>contributor</th>\n",
       "      <th>contact</th>\n",
       "      <th>year</th>\n",
       "      <th>m_s</th>\n",
       "      <th>sex</th>\n",
       "      <th>n_sequences</th>\n",
       "      <th>mean_coverage</th>\n",
       "    </tr>\n",
       "    <tr>\n",
       "      <th>ox_code</th>\n",
       "      <th></th>\n",
       "      <th></th>\n",
       "      <th></th>\n",
       "      <th></th>\n",
       "      <th></th>\n",
       "      <th></th>\n",
       "      <th></th>\n",
       "      <th></th>\n",
       "      <th></th>\n",
       "      <th></th>\n",
       "      <th></th>\n",
       "    </tr>\n",
       "  </thead>\n",
       "  <tbody>\n",
       "    <tr>\n",
       "      <th>AA0040-C</th>\n",
       "      <td>Twifo_Praso__E2</td>\n",
       "      <td>GHcol</td>\n",
       "      <td>Ghana</td>\n",
       "      <td>Twifo_Praso</td>\n",
       "      <td>David Weetman</td>\n",
       "      <td>NaN</td>\n",
       "      <td>2012.0</td>\n",
       "      <td>M</td>\n",
       "      <td>F</td>\n",
       "      <td>95033368</td>\n",
       "      <td>30.99</td>\n",
       "    </tr>\n",
       "    <tr>\n",
       "      <th>AA0041-C</th>\n",
       "      <td>Twifo_Praso__H3</td>\n",
       "      <td>GHcol</td>\n",
       "      <td>Ghana</td>\n",
       "      <td>Twifo_Praso</td>\n",
       "      <td>David Weetman</td>\n",
       "      <td>NaN</td>\n",
       "      <td>2012.0</td>\n",
       "      <td>M</td>\n",
       "      <td>F</td>\n",
       "      <td>95843804</td>\n",
       "      <td>31.70</td>\n",
       "    </tr>\n",
       "    <tr>\n",
       "      <th>AA0042-C</th>\n",
       "      <td>Takoradi_C7</td>\n",
       "      <td>GHcol</td>\n",
       "      <td>Ghana</td>\n",
       "      <td>Takoradi</td>\n",
       "      <td>David Weetman</td>\n",
       "      <td>NaN</td>\n",
       "      <td>2012.0</td>\n",
       "      <td>M</td>\n",
       "      <td>F</td>\n",
       "      <td>107420666</td>\n",
       "      <td>35.65</td>\n",
       "    </tr>\n",
       "    <tr>\n",
       "      <th>AA0043-C</th>\n",
       "      <td>Takoradi_H8</td>\n",
       "      <td>GHcol</td>\n",
       "      <td>Ghana</td>\n",
       "      <td>Takoradi</td>\n",
       "      <td>David Weetman</td>\n",
       "      <td>NaN</td>\n",
       "      <td>2012.0</td>\n",
       "      <td>M</td>\n",
       "      <td>F</td>\n",
       "      <td>95993752</td>\n",
       "      <td>29.46</td>\n",
       "    </tr>\n",
       "    <tr>\n",
       "      <th>AA0044-C</th>\n",
       "      <td>Takoradi_D10</td>\n",
       "      <td>GHcol</td>\n",
       "      <td>Ghana</td>\n",
       "      <td>Takoradi</td>\n",
       "      <td>David Weetman</td>\n",
       "      <td>NaN</td>\n",
       "      <td>2012.0</td>\n",
       "      <td>M</td>\n",
       "      <td>F</td>\n",
       "      <td>103044262</td>\n",
       "      <td>33.67</td>\n",
       "    </tr>\n",
       "  </tbody>\n",
       "</table>\n",
       "</div>"
      ],
      "text/plain": [
       "                 src_code population country       region    contributor  \\\n",
       "ox_code                                                                    \n",
       "AA0040-C  Twifo_Praso__E2      GHcol   Ghana  Twifo_Praso  David Weetman   \n",
       "AA0041-C  Twifo_Praso__H3      GHcol   Ghana  Twifo_Praso  David Weetman   \n",
       "AA0042-C      Takoradi_C7      GHcol   Ghana     Takoradi  David Weetman   \n",
       "AA0043-C      Takoradi_H8      GHcol   Ghana     Takoradi  David Weetman   \n",
       "AA0044-C     Takoradi_D10      GHcol   Ghana     Takoradi  David Weetman   \n",
       "\n",
       "         contact    year m_s sex  n_sequences  mean_coverage  \n",
       "ox_code                                                       \n",
       "AA0040-C     NaN  2012.0   M   F     95033368          30.99  \n",
       "AA0041-C     NaN  2012.0   M   F     95843804          31.70  \n",
       "AA0042-C     NaN  2012.0   M   F    107420666          35.65  \n",
       "AA0043-C     NaN  2012.0   M   F     95993752          29.46  \n",
       "AA0044-C     NaN  2012.0   M   F    103044262          33.67  "
      ]
     },
     "execution_count": 3,
     "metadata": {},
     "output_type": "execute_result"
    }
   ],
   "source": [
    "import os\n",
    "import pandas as pd\n",
    "samples = pd.read_csv(os.path.join(release_dir, 'samples', 'samples.meta.txt'),\n",
    "                      sep='\\t', index_col='ox_code')\n",
    "samples.head()"
   ]
  },
  {
   "cell_type": "markdown",
   "metadata": {},
   "source": [
    "The \"ox_code\" column is the main identifier we use for each mosquito in our analyses. Just to confirm how many individuals:"
   ]
  },
  {
   "cell_type": "code",
   "execution_count": 12,
   "metadata": {},
   "outputs": [
    {
     "data": {
      "text/plain": [
       "1142"
      ]
     },
     "execution_count": 12,
     "metadata": {},
     "output_type": "execute_result"
    }
   ],
   "source": [
    "len(samples)"
   ]
  },
  {
   "cell_type": "markdown",
   "metadata": {},
   "source": [
    "Here's a breakdown of number of mosquitoes by country:"
   ]
  },
  {
   "cell_type": "code",
   "execution_count": 6,
   "metadata": {},
   "outputs": [
    {
     "data": {
      "text/plain": [
       "Cameroon             297\n",
       "Burkina Faso         167\n",
       "Uganda               112\n",
       "Guinea-Bissau         91\n",
       "Angola                78\n",
       "Cote d'Ivoire         71\n",
       "Gabon                 69\n",
       "Ghana                 67\n",
       "Gambia, The           65\n",
       "Kenya                 48\n",
       "Guinea                44\n",
       "France                24\n",
       "Equatorial Guinea      9\n",
       "Name: country, dtype: int64"
      ]
     },
     "execution_count": 6,
     "metadata": {},
     "output_type": "execute_result"
    }
   ],
   "source": [
    "samples.country.value_counts()"
   ]
  },
  {
   "cell_type": "markdown",
   "metadata": {},
   "source": [
    "The mosquitoes from \"France\" were collected on Mayotte Island, and the mosquitoes from Equatorial Guinea were collected on Bioko Island."
   ]
  },
  {
   "cell_type": "markdown",
   "metadata": {},
   "source": [
    "### Population definitions\n",
    "\n",
    "Ag1000G phase 2 includes mosquitoes from two species, *An. gambiae* and *An. coluzzii*. It also includes mosquitoes from populations which are hard to assign unambiguously to either *An. gambiae* or *An. coluzzii* because of some apparent mixed ancestry. To aid with downstream analyses we have assigned each mosquito to one of 16 populations, based on country of origin and species. Here's a breakdown of number of mosquitoes by population:"
   ]
  },
  {
   "cell_type": "code",
   "execution_count": 17,
   "metadata": {},
   "outputs": [
    {
     "data": {
      "text/plain": [
       "CMgam    297\n",
       "UGgam    112\n",
       "BFgam     92\n",
       "GW        91\n",
       "AOcol     78\n",
       "BFcol     75\n",
       "CIcol     71\n",
       "GAgam     69\n",
       "GM        65\n",
       "GHcol     55\n",
       "KE        48\n",
       "GNgam     40\n",
       "FRgam     24\n",
       "GHgam     12\n",
       "GQgam      9\n",
       "GNcol      4\n",
       "Name: population, dtype: int64"
      ]
     },
     "execution_count": 17,
     "metadata": {},
     "output_type": "execute_result"
    }
   ],
   "source": [
    "samples.population.value_counts()"
   ]
  },
  {
   "cell_type": "markdown",
   "metadata": {},
   "source": [
    "Each population identifier is formed by concatenating the two letter country code (e.g., \"CM\" for Cameroon) with an abbreviation for the species (\"gam\" means *An. gambiae*, \"col\" means *An. coluzzii*). There are three populations (GW, GM, KE) where we have not divided by species because of mixed ancestry. For all other populations, the assignment of species for each individual was based on the results of the conventional PCR-based molecular tests."
   ]
  },
  {
   "cell_type": "markdown",
   "metadata": {},
   "source": [
    "### Lab crosses\n",
    "\n",
    "There are also 11 lab crosses included in this release. Each cross comprises 2 parents and up to 20 progeny. "
   ]
  },
  {
   "cell_type": "code",
   "execution_count": 39,
   "metadata": {},
   "outputs": [
    {
     "data": {
      "text/html": [
       "<div>\n",
       "<table border=\"1\" class=\"dataframe\">\n",
       "  <thead>\n",
       "    <tr style=\"text-align: right;\">\n",
       "      <th></th>\n",
       "      <th>cross</th>\n",
       "      <th>role</th>\n",
       "      <th>n_reads</th>\n",
       "      <th>median_cov</th>\n",
       "      <th>mean_cov</th>\n",
       "      <th>sex</th>\n",
       "      <th>colony_id</th>\n",
       "    </tr>\n",
       "    <tr>\n",
       "      <th>ox_code</th>\n",
       "      <th></th>\n",
       "      <th></th>\n",
       "      <th></th>\n",
       "      <th></th>\n",
       "      <th></th>\n",
       "      <th></th>\n",
       "      <th></th>\n",
       "    </tr>\n",
       "  </thead>\n",
       "  <tbody>\n",
       "    <tr>\n",
       "      <th>AD0142-C</th>\n",
       "      <td>18-5</td>\n",
       "      <td>parent</td>\n",
       "      <td>60486753</td>\n",
       "      <td>26</td>\n",
       "      <td>25.824447</td>\n",
       "      <td>F</td>\n",
       "      <td>Ghana</td>\n",
       "    </tr>\n",
       "    <tr>\n",
       "      <th>AD0143-C</th>\n",
       "      <td>18-5</td>\n",
       "      <td>parent</td>\n",
       "      <td>58509103</td>\n",
       "      <td>19</td>\n",
       "      <td>18.800118</td>\n",
       "      <td>M</td>\n",
       "      <td>Kisumu/G3</td>\n",
       "    </tr>\n",
       "    <tr>\n",
       "      <th>AD0146-C</th>\n",
       "      <td>18-5</td>\n",
       "      <td>progeny</td>\n",
       "      <td>101612499</td>\n",
       "      <td>44</td>\n",
       "      <td>43.494594</td>\n",
       "      <td>NaN</td>\n",
       "      <td>NaN</td>\n",
       "    </tr>\n",
       "    <tr>\n",
       "      <th>AD0147-C</th>\n",
       "      <td>18-5</td>\n",
       "      <td>progeny</td>\n",
       "      <td>50710020</td>\n",
       "      <td>16</td>\n",
       "      <td>16.284487</td>\n",
       "      <td>NaN</td>\n",
       "      <td>NaN</td>\n",
       "    </tr>\n",
       "    <tr>\n",
       "      <th>AD0148-C</th>\n",
       "      <td>18-5</td>\n",
       "      <td>progeny</td>\n",
       "      <td>59023991</td>\n",
       "      <td>19</td>\n",
       "      <td>18.978021</td>\n",
       "      <td>NaN</td>\n",
       "      <td>NaN</td>\n",
       "    </tr>\n",
       "  </tbody>\n",
       "</table>\n",
       "</div>"
      ],
      "text/plain": [
       "         cross     role    n_reads  median_cov   mean_cov  sex  colony_id\n",
       "ox_code                                                                  \n",
       "AD0142-C  18-5   parent   60486753          26  25.824447    F      Ghana\n",
       "AD0143-C  18-5   parent   58509103          19  18.800118    M  Kisumu/G3\n",
       "AD0146-C  18-5  progeny  101612499          44  43.494594  NaN        NaN\n",
       "AD0147-C  18-5  progeny   50710020          16  16.284487  NaN        NaN\n",
       "AD0148-C  18-5  progeny   59023991          19  18.978021  NaN        NaN"
      ]
     },
     "execution_count": 39,
     "metadata": {},
     "output_type": "execute_result"
    }
   ],
   "source": [
    "crosses = pd.read_csv(os.path.join(release_dir, 'samples', 'cross.samples.meta.txt'),\n",
    "                      sep='\\t', usecols=range(1, 9), index_col='ox_code')\n",
    "crosses.head()"
   ]
  },
  {
   "cell_type": "markdown",
   "metadata": {},
   "source": [
    "Each cross has been given an identifier like \"18-5\", these are just arbitrary identifiers and don't mean anything. Here's a breakdown of number of individuals by cross:"
   ]
  },
  {
   "cell_type": "code",
   "execution_count": 43,
   "metadata": {},
   "outputs": [
    {
     "data": {
      "text/plain": [
       "37-3    22\n",
       "46-9    22\n",
       "47-6    22\n",
       "80-2    22\n",
       "45-1    22\n",
       "36-9    22\n",
       "29-2    22\n",
       "18-5    22\n",
       "73-2    21\n",
       "78-2    21\n",
       "42-4    16\n",
       "Name: cross, dtype: int64"
      ]
     },
     "execution_count": 43,
     "metadata": {},
     "output_type": "execute_result"
    }
   ],
   "source": [
    "crosses.cross.value_counts()"
   ]
  },
  {
   "cell_type": "markdown",
   "metadata": {},
   "source": [
    "The parents of the crosses came from various commonly used lab colonies, e.g., \"Mali\" or \"Pimperena\". Because of the way the crosses were performed, in some cases we could not be completely certain of the parent colony, and these are labelled as ambiguous, e.g.., \"Kisumu/G3\". Here's a count of which colonies were used for the parents:"
   ]
  },
  {
   "cell_type": "code",
   "execution_count": 45,
   "metadata": {},
   "outputs": [
    {
     "data": {
      "text/plain": [
       "Mali            6\n",
       "Kisumu          5\n",
       "Ghana           4\n",
       "Kisumu/Ghana    2\n",
       "Akron           2\n",
       "Pimperena       2\n",
       "Kisumu/G3       1\n",
       "Name: colony_id, dtype: int64"
      ]
     },
     "execution_count": 45,
     "metadata": {},
     "output_type": "execute_result"
    }
   ],
   "source": [
    "crosses[crosses.role == 'parent'].colony_id.value_counts()"
   ]
  },
  {
   "cell_type": "markdown",
   "metadata": {},
   "source": [
    "## Variation data\n",
    "\n",
    "We have run SNP discovery on the cohort of wild-caught individuals, using GATK UnifiedGenotyper. We have then annotated the variants discovered with various quality filters. The canonical VCF files containing these variation data are in the \"variation/main/vcf/all\" sub-folder."
   ]
  },
  {
   "cell_type": "code",
   "execution_count": 48,
   "metadata": {},
   "outputs": [
    {
     "ename": "FileNotFoundError",
     "evalue": "[Errno 2] No such file or directory: 'data/ag1000g/phase2/AR1/variation/main/vcf/all'",
     "output_type": "error",
     "traceback": [
      "\u001b[0;31m---------------------------------------------------------------------------\u001b[0m",
      "\u001b[0;31mFileNotFoundError\u001b[0m                         Traceback (most recent call last)",
      "\u001b[0;32m<ipython-input-48-2f81a3f36457>\u001b[0m in \u001b[0;36m<module>\u001b[0;34m()\u001b[0m\n\u001b[0;32m----> 1\u001b[0;31m \u001b[0mprint\u001b[0m\u001b[0;34m(\u001b[0m\u001b[0mos\u001b[0m\u001b[0;34m.\u001b[0m\u001b[0mlistdir\u001b[0m\u001b[0;34m(\u001b[0m\u001b[0mos\u001b[0m\u001b[0;34m.\u001b[0m\u001b[0mpath\u001b[0m\u001b[0;34m.\u001b[0m\u001b[0mjoin\u001b[0m\u001b[0;34m(\u001b[0m\u001b[0mrelease_dir\u001b[0m\u001b[0;34m,\u001b[0m \u001b[0;34m'variation'\u001b[0m\u001b[0;34m,\u001b[0m \u001b[0;34m'main'\u001b[0m\u001b[0;34m,\u001b[0m \u001b[0;34m'vcf'\u001b[0m\u001b[0;34m,\u001b[0m \u001b[0;34m'all'\u001b[0m\u001b[0;34m)\u001b[0m\u001b[0;34m)\u001b[0m\u001b[0;34m)\u001b[0m\u001b[0;34m\u001b[0m\u001b[0m\n\u001b[0m",
      "\u001b[0;31mFileNotFoundError\u001b[0m: [Errno 2] No such file or directory: 'data/ag1000g/phase2/AR1/variation/main/vcf/all'"
     ]
    }
   ],
   "source": [
    "print(os.listdir(os.path.join(release_dir, 'variation', 'main', 'vcf', 'all')))"
   ]
  },
  {
   "cell_type": "markdown",
   "metadata": {},
   "source": [
    "Various subsets of the variation data are also available, which may be more convenient for some analyses. We've also converted the variation data to HDF5 format files, which can be faster to process for some analyses. \n",
    "\n",
    "Here's a few summary statistics about the variation data:"
   ]
  },
  {
   "cell_type": "code",
   "execution_count": null,
   "metadata": {
    "collapsed": true
   },
   "outputs": [],
   "source": []
  }
 ],
 "metadata": {
  "kernelspec": {
   "display_name": "Python 3",
   "language": "python",
   "name": "python3"
  },
  "language_info": {
   "codemirror_mode": {
    "name": "ipython",
    "version": 3
   },
   "file_extension": ".py",
   "mimetype": "text/x-python",
   "name": "python",
   "nbconvert_exporter": "python",
   "pygments_lexer": "ipython3",
   "version": "3.5.3"
  }
 },
 "nbformat": 4,
 "nbformat_minor": 2
}
