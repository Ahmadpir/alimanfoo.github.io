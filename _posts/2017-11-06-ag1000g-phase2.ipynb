{
 "cells": [
  {
   "cell_type": "markdown",
   "metadata": {},
   "source": [
    "Today we made the first [data release](https://www.malariagen.net/data/ag1000g-phase2-ar1) from phase 2 of the *Anopheles gambiae* 1000 genomes project ([Ag1000G](http://www.malariagen.net/ag1000g)). These data include variant calls and haplotypes for 1,142 wild-caught mosquitoes from 13 African countries, and 234 mosquitoes from 11 lab crosses. In this article I thought I would give a quick tour of the data release, summarizing some of the main features of the data.\n",
    "\n",
    "The data are available for download from a [public FTP site](ftp://ngs.sanger.ac.uk/production/ag1000g/phase2/AR1/). I have a copy of some of the files downloaded to a directory on my computer, so I'll be loading data from there. This article was written as a [Jupyter notebook](@@TODO), and I'll be using a bit of Python code to help inspect the data."
   ]
  },
  {
   "cell_type": "code",
   "execution_count": 2,
   "metadata": {
    "collapsed": true
   },
   "outputs": [],
   "source": [
    "release_dir = 'data/ag1000g/phase2/AR1'"
   ]
  },
  {
   "cell_type": "markdown",
   "metadata": {},
   "source": [
    "## Sample metadata\n",
    "\n",
    "Some metadata about the mosquitoes included in Ag1000G phase 2 is available in the \"samples\" sub-directory. Let's look at the wild-caught mosquitoes first, then the lab crosses. "
   ]
  },
  {
   "cell_type": "markdown",
   "metadata": {},
   "source": [
    "### Wild-caught mosquitoes"
   ]
  },
  {
   "cell_type": "markdown",
   "metadata": {},
   "source": [
    "Here are metadata for the mosquitoes sampled from natural populations:"
   ]
  },
  {
   "cell_type": "code",
   "execution_count": 16,
   "metadata": {},
   "outputs": [
    {
     "data": {
      "text/html": [
       "<div>\n",
       "<style>\n",
       "    .dataframe thead tr:only-child th {\n",
       "        text-align: right;\n",
       "    }\n",
       "\n",
       "    .dataframe thead th {\n",
       "        text-align: left;\n",
       "    }\n",
       "\n",
       "    .dataframe tbody tr th {\n",
       "        vertical-align: top;\n",
       "    }\n",
       "</style>\n",
       "<table border=\"1\" class=\"dataframe\">\n",
       "  <thead>\n",
       "    <tr style=\"text-align: right;\">\n",
       "      <th></th>\n",
       "      <th>src_code</th>\n",
       "      <th>population</th>\n",
       "      <th>country</th>\n",
       "      <th>region</th>\n",
       "      <th>contributor</th>\n",
       "      <th>contact</th>\n",
       "      <th>year</th>\n",
       "      <th>m_s</th>\n",
       "      <th>sex</th>\n",
       "      <th>n_sequences</th>\n",
       "      <th>mean_coverage</th>\n",
       "    </tr>\n",
       "    <tr>\n",
       "      <th>ox_code</th>\n",
       "      <th></th>\n",
       "      <th></th>\n",
       "      <th></th>\n",
       "      <th></th>\n",
       "      <th></th>\n",
       "      <th></th>\n",
       "      <th></th>\n",
       "      <th></th>\n",
       "      <th></th>\n",
       "      <th></th>\n",
       "      <th></th>\n",
       "    </tr>\n",
       "  </thead>\n",
       "  <tbody>\n",
       "    <tr>\n",
       "      <th>AA0040-C</th>\n",
       "      <td>Twifo_Praso__E2</td>\n",
       "      <td>GHcol</td>\n",
       "      <td>Ghana</td>\n",
       "      <td>Twifo_Praso</td>\n",
       "      <td>David Weetman</td>\n",
       "      <td>NaN</td>\n",
       "      <td>2012.0</td>\n",
       "      <td>M</td>\n",
       "      <td>F</td>\n",
       "      <td>95033368</td>\n",
       "      <td>30.99</td>\n",
       "    </tr>\n",
       "    <tr>\n",
       "      <th>AA0041-C</th>\n",
       "      <td>Twifo_Praso__H3</td>\n",
       "      <td>GHcol</td>\n",
       "      <td>Ghana</td>\n",
       "      <td>Twifo_Praso</td>\n",
       "      <td>David Weetman</td>\n",
       "      <td>NaN</td>\n",
       "      <td>2012.0</td>\n",
       "      <td>M</td>\n",
       "      <td>F</td>\n",
       "      <td>95843804</td>\n",
       "      <td>31.70</td>\n",
       "    </tr>\n",
       "    <tr>\n",
       "      <th>AA0042-C</th>\n",
       "      <td>Takoradi_C7</td>\n",
       "      <td>GHcol</td>\n",
       "      <td>Ghana</td>\n",
       "      <td>Takoradi</td>\n",
       "      <td>David Weetman</td>\n",
       "      <td>NaN</td>\n",
       "      <td>2012.0</td>\n",
       "      <td>M</td>\n",
       "      <td>F</td>\n",
       "      <td>107420666</td>\n",
       "      <td>35.65</td>\n",
       "    </tr>\n",
       "    <tr>\n",
       "      <th>AA0043-C</th>\n",
       "      <td>Takoradi_H8</td>\n",
       "      <td>GHcol</td>\n",
       "      <td>Ghana</td>\n",
       "      <td>Takoradi</td>\n",
       "      <td>David Weetman</td>\n",
       "      <td>NaN</td>\n",
       "      <td>2012.0</td>\n",
       "      <td>M</td>\n",
       "      <td>F</td>\n",
       "      <td>95993752</td>\n",
       "      <td>29.46</td>\n",
       "    </tr>\n",
       "    <tr>\n",
       "      <th>AA0044-C</th>\n",
       "      <td>Takoradi_D10</td>\n",
       "      <td>GHcol</td>\n",
       "      <td>Ghana</td>\n",
       "      <td>Takoradi</td>\n",
       "      <td>David Weetman</td>\n",
       "      <td>NaN</td>\n",
       "      <td>2012.0</td>\n",
       "      <td>M</td>\n",
       "      <td>F</td>\n",
       "      <td>103044262</td>\n",
       "      <td>33.67</td>\n",
       "    </tr>\n",
       "  </tbody>\n",
       "</table>\n",
       "</div>"
      ],
      "text/plain": [
       "                 src_code population country       region    contributor  \\\n",
       "ox_code                                                                    \n",
       "AA0040-C  Twifo_Praso__E2      GHcol   Ghana  Twifo_Praso  David Weetman   \n",
       "AA0041-C  Twifo_Praso__H3      GHcol   Ghana  Twifo_Praso  David Weetman   \n",
       "AA0042-C      Takoradi_C7      GHcol   Ghana     Takoradi  David Weetman   \n",
       "AA0043-C      Takoradi_H8      GHcol   Ghana     Takoradi  David Weetman   \n",
       "AA0044-C     Takoradi_D10      GHcol   Ghana     Takoradi  David Weetman   \n",
       "\n",
       "         contact    year m_s sex  n_sequences  mean_coverage  \n",
       "ox_code                                                       \n",
       "AA0040-C     NaN  2012.0   M   F     95033368          30.99  \n",
       "AA0041-C     NaN  2012.0   M   F     95843804          31.70  \n",
       "AA0042-C     NaN  2012.0   M   F    107420666          35.65  \n",
       "AA0043-C     NaN  2012.0   M   F     95993752          29.46  \n",
       "AA0044-C     NaN  2012.0   M   F    103044262          33.67  "
      ]
     },
     "execution_count": 16,
     "metadata": {},
     "output_type": "execute_result"
    }
   ],
   "source": [
    "import os\n",
    "import pandas as pd\n",
    "wild_samples = pd.read_csv(os.path.join(release_dir, 'samples', 'samples.meta.txt'),\n",
    "                           sep='\\t', index_col='ox_code')\n",
    "wild_samples.head()"
   ]
  },
  {
   "cell_type": "markdown",
   "metadata": {},
   "source": [
    "The \"ox_code\" column is the main identifier we use for each mosquito in our analyses. Just to confirm how many individuals:"
   ]
  },
  {
   "cell_type": "code",
   "execution_count": 17,
   "metadata": {},
   "outputs": [
    {
     "data": {
      "text/plain": [
       "1142"
      ]
     },
     "execution_count": 17,
     "metadata": {},
     "output_type": "execute_result"
    }
   ],
   "source": [
    "len(wild_samples)"
   ]
  },
  {
   "cell_type": "markdown",
   "metadata": {},
   "source": [
    "Here's a breakdown of number of mosquitoes by country:"
   ]
  },
  {
   "cell_type": "code",
   "execution_count": 18,
   "metadata": {},
   "outputs": [
    {
     "data": {
      "text/plain": [
       "Cameroon             297\n",
       "Burkina Faso         167\n",
       "Uganda               112\n",
       "Guinea-Bissau         91\n",
       "Angola                78\n",
       "Cote d'Ivoire         71\n",
       "Gabon                 69\n",
       "Ghana                 67\n",
       "Gambia, The           65\n",
       "Kenya                 48\n",
       "Guinea                44\n",
       "France                24\n",
       "Equatorial Guinea      9\n",
       "Name: country, dtype: int64"
      ]
     },
     "execution_count": 18,
     "metadata": {},
     "output_type": "execute_result"
    }
   ],
   "source": [
    "wild_samples.country.value_counts()"
   ]
  },
  {
   "cell_type": "markdown",
   "metadata": {},
   "source": [
    "The mosquitoes from \"France\" were collected on Mayotte Island, and the mosquitoes from Equatorial Guinea were collected on Bioko Island."
   ]
  },
  {
   "cell_type": "markdown",
   "metadata": {},
   "source": [
    "Ag1000G phase 2 includes mosquitoes from two species, *An. gambiae* and *An. coluzzii*. It also includes mosquitoes from populations which are hard to assign unambiguously to either *An. gambiae* or *An. coluzzii* because of some apparent mixed ancestry. To aid with downstream analyses we have assigned each mosquito to one of 16 populations, based on country of origin and species. Here's a breakdown of number of mosquitoes by population:"
   ]
  },
  {
   "cell_type": "code",
   "execution_count": 19,
   "metadata": {},
   "outputs": [
    {
     "data": {
      "text/plain": [
       "CMgam    297\n",
       "UGgam    112\n",
       "BFgam     92\n",
       "GW        91\n",
       "AOcol     78\n",
       "BFcol     75\n",
       "CIcol     71\n",
       "GAgam     69\n",
       "GM        65\n",
       "GHcol     55\n",
       "KE        48\n",
       "GNgam     40\n",
       "FRgam     24\n",
       "GHgam     12\n",
       "GQgam      9\n",
       "GNcol      4\n",
       "Name: population, dtype: int64"
      ]
     },
     "execution_count": 19,
     "metadata": {},
     "output_type": "execute_result"
    }
   ],
   "source": [
    "wild_samples.population.value_counts()"
   ]
  },
  {
   "cell_type": "markdown",
   "metadata": {},
   "source": [
    "Each population identifier is formed by concatenating the two letter country code (e.g., \"CM\" for Cameroon) with an abbreviation for the species (\"gam\" means *An. gambiae*, \"col\" means *An. coluzzii*). There are three populations (GW, GM, KE) where we have not divided by species because of mixed ancestry. For all other populations, the assignment of species for each individual was based on the results of the conventional PCR-based molecular tests.\n",
    "\n",
    "All mosquitoes were sequenced to a target depth of 30X. Here's the actual coverage obtained, broken down by population:"
   ]
  },
  {
   "cell_type": "code",
   "execution_count": 61,
   "metadata": {
    "collapsed": true
   },
   "outputs": [],
   "source": [
    "import matplotlib.pyplot as plt\n",
    "%matplotlib inline\n",
    "import seaborn as sns\n",
    "sns.set_context('paper')"
   ]
  },
  {
   "cell_type": "code",
   "execution_count": 67,
   "metadata": {},
   "outputs": [
    {
     "data": {
      "image/png": "[encoded data removed]",
      "text/plain": [
       "<matplotlib.figure.Figure at 0x7fd0472842b0>"
      ]
     },
     "metadata": {},
     "output_type": "display_data"
    }
   ],
   "source": [
    "fig, ax = plt.subplots(figsize=(9, 3))\n",
    "sns.boxplot(data=wild_samples, x='population', y='mean_coverage', ax=ax)\n",
    "ax.set_ylim(bottom=0)\n",
    "ax.set_title('Depth of coverage by population');"
   ]
  },
  {
   "cell_type": "markdown",
   "metadata": {},
   "source": [
    "### Lab crosses\n",
    "\n",
    "There are also 11 lab crosses included in this release. Each cross comprises 2 parents and up to 20 progeny. "
   ]
  },
  {
   "cell_type": "code",
   "execution_count": 20,
   "metadata": {},
   "outputs": [
    {
     "data": {
      "text/html": [
       "<div>\n",
       "<style>\n",
       "    .dataframe thead tr:only-child th {\n",
       "        text-align: right;\n",
       "    }\n",
       "\n",
       "    .dataframe thead th {\n",
       "        text-align: left;\n",
       "    }\n",
       "\n",
       "    .dataframe tbody tr th {\n",
       "        vertical-align: top;\n",
       "    }\n",
       "</style>\n",
       "<table border=\"1\" class=\"dataframe\">\n",
       "  <thead>\n",
       "    <tr style=\"text-align: right;\">\n",
       "      <th></th>\n",
       "      <th>cross</th>\n",
       "      <th>role</th>\n",
       "      <th>n_reads</th>\n",
       "      <th>median_cov</th>\n",
       "      <th>mean_cov</th>\n",
       "      <th>sex</th>\n",
       "      <th>colony_id</th>\n",
       "    </tr>\n",
       "    <tr>\n",
       "      <th>ox_code</th>\n",
       "      <th></th>\n",
       "      <th></th>\n",
       "      <th></th>\n",
       "      <th></th>\n",
       "      <th></th>\n",
       "      <th></th>\n",
       "      <th></th>\n",
       "    </tr>\n",
       "  </thead>\n",
       "  <tbody>\n",
       "    <tr>\n",
       "      <th>AD0142-C</th>\n",
       "      <td>18-5</td>\n",
       "      <td>parent</td>\n",
       "      <td>60486753</td>\n",
       "      <td>26</td>\n",
       "      <td>25.824447</td>\n",
       "      <td>F</td>\n",
       "      <td>Ghana</td>\n",
       "    </tr>\n",
       "    <tr>\n",
       "      <th>AD0143-C</th>\n",
       "      <td>18-5</td>\n",
       "      <td>parent</td>\n",
       "      <td>58509103</td>\n",
       "      <td>19</td>\n",
       "      <td>18.800118</td>\n",
       "      <td>M</td>\n",
       "      <td>Kisumu/G3</td>\n",
       "    </tr>\n",
       "    <tr>\n",
       "      <th>AD0146-C</th>\n",
       "      <td>18-5</td>\n",
       "      <td>progeny</td>\n",
       "      <td>101612499</td>\n",
       "      <td>44</td>\n",
       "      <td>43.494594</td>\n",
       "      <td>NaN</td>\n",
       "      <td>NaN</td>\n",
       "    </tr>\n",
       "    <tr>\n",
       "      <th>AD0147-C</th>\n",
       "      <td>18-5</td>\n",
       "      <td>progeny</td>\n",
       "      <td>50710020</td>\n",
       "      <td>16</td>\n",
       "      <td>16.284487</td>\n",
       "      <td>NaN</td>\n",
       "      <td>NaN</td>\n",
       "    </tr>\n",
       "    <tr>\n",
       "      <th>AD0148-C</th>\n",
       "      <td>18-5</td>\n",
       "      <td>progeny</td>\n",
       "      <td>59023991</td>\n",
       "      <td>19</td>\n",
       "      <td>18.978021</td>\n",
       "      <td>NaN</td>\n",
       "      <td>NaN</td>\n",
       "    </tr>\n",
       "  </tbody>\n",
       "</table>\n",
       "</div>"
      ],
      "text/plain": [
       "         cross     role    n_reads  median_cov   mean_cov  sex  colony_id\n",
       "ox_code                                                                  \n",
       "AD0142-C  18-5   parent   60486753          26  25.824447    F      Ghana\n",
       "AD0143-C  18-5   parent   58509103          19  18.800118    M  Kisumu/G3\n",
       "AD0146-C  18-5  progeny  101612499          44  43.494594  NaN        NaN\n",
       "AD0147-C  18-5  progeny   50710020          16  16.284487  NaN        NaN\n",
       "AD0148-C  18-5  progeny   59023991          19  18.978021  NaN        NaN"
      ]
     },
     "execution_count": 20,
     "metadata": {},
     "output_type": "execute_result"
    }
   ],
   "source": [
    "cross_samples = pd.read_csv(os.path.join(release_dir, 'samples', 'cross.samples.meta.txt'),\n",
    "                            sep='\\t', usecols=range(1, 9), index_col='ox_code')\n",
    "cross_samples.head()"
   ]
  },
  {
   "cell_type": "markdown",
   "metadata": {},
   "source": [
    "Each cross has been given an identifier like \"18-5\", these are just arbitrary identifiers and don't mean anything. Here's a breakdown of number of individuals by cross:"
   ]
  },
  {
   "cell_type": "code",
   "execution_count": 21,
   "metadata": {},
   "outputs": [
    {
     "data": {
      "text/plain": [
       "46-9    22\n",
       "29-2    22\n",
       "18-5    22\n",
       "36-9    22\n",
       "37-3    22\n",
       "45-1    22\n",
       "47-6    22\n",
       "80-2    22\n",
       "78-2    21\n",
       "73-2    21\n",
       "42-4    16\n",
       "Name: cross, dtype: int64"
      ]
     },
     "execution_count": 21,
     "metadata": {},
     "output_type": "execute_result"
    }
   ],
   "source": [
    "cross_samples.cross.value_counts()"
   ]
  },
  {
   "cell_type": "markdown",
   "metadata": {},
   "source": [
    "The parents of the crosses came from various commonly used lab colonies, e.g., \"Mali\" or \"Pimperena\". Because of the way the crosses were performed, in some cases we could not be completely certain of the parent colony, and these are labelled as ambiguous, e.g.., \"Kisumu/G3\". Here's a count of which colonies were used for the parents:"
   ]
  },
  {
   "cell_type": "code",
   "execution_count": 22,
   "metadata": {},
   "outputs": [
    {
     "data": {
      "text/plain": [
       "Mali            6\n",
       "Kisumu          5\n",
       "Ghana           4\n",
       "Akron           2\n",
       "Kisumu/Ghana    2\n",
       "Pimperena       2\n",
       "Kisumu/G3       1\n",
       "Name: colony_id, dtype: int64"
      ]
     },
     "execution_count": 22,
     "metadata": {},
     "output_type": "execute_result"
    }
   ],
   "source": [
    "cross_samples[cross_samples.role == 'parent'].colony_id.value_counts()"
   ]
  },
  {
   "cell_type": "markdown",
   "metadata": {},
   "source": [
    "## Variation data\n",
    "\n",
    "We have run SNP discovery on the wild-caught individuals, using GATK UnifiedGenotyper. We have then annotated the variants discovered with various quality filters. The canonical VCF files containing these variation data are in the \"variation/main/vcf/all\" sub-folder, with one VCF file per chromosome arm."
   ]
  },
  {
   "cell_type": "code",
   "execution_count": 43,
   "metadata": {},
   "outputs": [
    {
     "name": "stdout",
     "output_type": "stream",
     "text": [
      "ag1000g.phase2.ar1.UNKN.vcf.gz : 44.4 GB\n",
      "ag1000g.phase2.ar1.X.vcf.gz : 67.9 GB\n",
      "ag1000g.phase2.ar1.3L.vcf.gz : 131.8 GB\n",
      "ag1000g.phase2.ar1.2R.vcf.gz : 177.3 GB\n",
      "ag1000g.phase2.ar1.Y_unplaced.vcf.gz : 24.1 MB\n",
      "ag1000g.phase2.ar1.3R.vcf.gz : 181.1 GB\n",
      "ag1000g.phase2.ar1.2L.vcf.gz : 152.3 GB\n"
     ]
    }
   ],
   "source": [
    "from humanize import naturalsize\n",
    "vcf_dir = os.path.join(release_dir, 'variation', 'main', 'vcf', 'all')\n",
    "for file_name in os.listdir(vcf_dir):\n",
    "    if file_name.endswith('.vcf.gz'):\n",
    "        file_path = os.path.join(vcf_dir, file_name)\n",
    "        print(file_name, ':', naturalsize(os.stat(file_path).st_size))"
   ]
  },
  {
   "cell_type": "markdown",
   "metadata": {},
   "source": [
    "Some of these files are reasonably large. To make life a bit easier, various subsets of the variation data are also available, which may be more convenient for some analyses. We've also converted the variation data to HDF5 format files, which can be faster to process for some analyses.\n",
    "\n",
    "I'm going to use some HDF5 files from the \"variation/main/hdf5/lite\" sub-folder to extract some summary statistics about the variation data. These files have been pared down to contain only the essential data need for most analyses, and so are a bit smaller and easier to move around."
   ]
  },
  {
   "cell_type": "code",
   "execution_count": 45,
   "metadata": {},
   "outputs": [
    {
     "name": "stdout",
     "output_type": "stream",
     "text": [
      "ag1000g.phase2.ar1.pass.biallelic.lite.h5 : 4.7 GB\n",
      "ag1000g.phase2.ar1.lite.h5 : 17.7 GB\n",
      "ag1000g.phase2.ar1.pass.lite.h5 : 7.0 GB\n"
     ]
    }
   ],
   "source": [
    "hdf5_dir = os.path.join(release_dir, 'variation', 'main', 'hdf5', 'lite')\n",
    "for file_name in os.listdir(hdf5_dir):\n",
    "    if file_name.endswith('.h5'):\n",
    "        file_path = os.path.join(hdf5_dir, file_name)\n",
    "        print(file_name, ':', naturalsize(os.stat(file_path).st_size))"
   ]
  },
  {
   "cell_type": "markdown",
   "metadata": {
    "collapsed": true
   },
   "source": [
    "Let's get a summary of how many variants were discovered:"
   ]
  },
  {
   "cell_type": "code",
   "execution_count": 53,
   "metadata": {},
   "outputs": [
    {
     "name": "stdout",
     "output_type": "stream",
     "text": [
      "2L : 21,442,865 SNPs; 11,524,923 PASS (53.7%)\n",
      "2R : 24,767,689 SNPs; 15,425,222 PASS (62.3%)\n",
      "3L : 18,167,056 SNPs; 10,640,388 PASS (58.6%)\n",
      "3R : 24,943,504 SNPs; 14,481,509 PASS (58.1%)\n",
      "UNKN : 6,759,497 SNPs; 0 PASS (0.0%)\n",
      "X : 9,389,639 SNPs; 5,765,843 PASS (61.4%)\n",
      "Y_unplaced : 16,448 SNPs; 0 PASS (0.0%)\n",
      "Total : 105,486,698 SNPs; 57,837,885 PASS (54.8%)\n"
     ]
    }
   ],
   "source": [
    "import h5py\n",
    "import numpy as np\n",
    "callset = h5py.File(os.path.join(hdf5_dir, 'ag1000g.phase2.ar1.lite.h5'), mode='r')\n",
    "chromosomes = '2L', '2R', '3L', '3R', 'UNKN', 'X', 'Y_unplaced'\n",
    "n_variants_total = 0\n",
    "n_variants_total_pass = 0\n",
    "for chrom in chromosomes:\n",
    "    n_variants = len(callset[chrom]['variants/POS'])\n",
    "    n_variants_total += n_variants\n",
    "    n_variants_pass = np.count_nonzero(callset[chrom]['variants/FILTER_PASS'][:])\n",
    "    n_variants_total_pass += n_variants_pass\n",
    "    print(chrom, ': {:,} SNPs; {:,} PASS ({:.1f}%)'\n",
    "          .format(n_variants, n_variants_pass, n_variants_pass * 100 / n_variants))\n",
    "print('Total : {:,} SNPs; {:,} PASS ({:.1f}%)'\n",
    "      .format(n_variants_total, n_variants_total_pass, n_variants_total_pass * 100 / n_variants_total))\n"
   ]
  },
  {
   "cell_type": "markdown",
   "metadata": {},
   "source": [
    "So there are 105 million SNPs in the raw dataset, of which 57 million (54.8%) passed all our quality filters.\n",
    "\n",
    "An interesting feature of the data is how common multiallelic SNPs are. E.g., considering only PASS variants:"
   ]
  },
  {
   "cell_type": "code",
   "execution_count": 57,
   "metadata": {},
   "outputs": [
    {
     "name": "stdout",
     "output_type": "stream",
     "text": [
      "2L : 77.3% biallelic; 20.8% triallelic; 1.9% quadallelic;\n",
      "2R : 78.1% biallelic; 20.0% triallelic; 1.9% quadallelic;\n",
      "3L : 74.2% biallelic; 23.2% triallelic; 2.6% quadallelic;\n",
      "3R : 74.3% biallelic; 23.1% triallelic; 2.6% quadallelic;\n",
      "X : 77.6% biallelic; 20.5% triallelic; 2.0% quadallelic;\n"
     ]
    }
   ],
   "source": [
    "for chrom in chromosomes:\n",
    "    variants = callset[chrom]['variants']\n",
    "    num_alleles = variants['num_alleles'][:]\n",
    "    filter_pass = variants['FILTER_PASS'][:]\n",
    "    n_variants_pass = np.count_nonzero(filter_pass)\n",
    "    if n_variants_pass:\n",
    "        num_alleles_pass = num_alleles[filter_pass]\n",
    "        allelism_count = np.bincount(num_alleles_pass)\n",
    "        print(chrom, ':', \n",
    "              '{:.1f}% biallelic;'.format(allelism_count[2] * 100 / n_variants_pass),\n",
    "              '{:.1f}% triallelic;'.format(allelism_count[3] * 100 / n_variants_pass),\n",
    "              '{:.1f}% quadallelic;'.format(allelism_count[4] * 100 / n_variants_pass))"
   ]
  },
  {
   "cell_type": "code",
   "execution_count": null,
   "metadata": {
    "collapsed": true
   },
   "outputs": [],
   "source": []
  }
 ],
 "metadata": {
  "kernelspec": {
   "display_name": "Python 3",
   "language": "python",
   "name": "python3"
  },
  "language_info": {
   "codemirror_mode": {
    "name": "ipython",
    "version": 3
   },
   "file_extension": ".py",
   "mimetype": "text/x-python",
   "name": "python",
   "nbconvert_exporter": "python",
   "pygments_lexer": "ipython3",
   "version": "3.5.4"
  }
 },
 "nbformat": 4,
 "nbformat_minor": 2
}
